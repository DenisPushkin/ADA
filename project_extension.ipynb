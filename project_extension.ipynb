{
 "cells": [
  {
   "cell_type": "markdown",
   "metadata": {},
   "source": [
    "# You are what you eat - Relating Demographic Data to Food Consumption Habits"
   ]
  },
  {
   "cell_type": "code",
   "execution_count": 1,
   "metadata": {},
   "outputs": [],
   "source": [
    "#%matplotlib\n",
    "import pandas as pd\n",
    "import matplotlib.pyplot as plt\n",
    "import numpy as np\n",
    "import seaborn as sns  # needed for heatmap\n",
    "from os.path import join\n",
    "from sklearn.linear_model import LinearRegression\n",
    "from sklearn.model_selection import train_test_split\n",
    "import statsmodels.formula.api as smf\n",
    "import pickle\n",
    "plt.rcParams['figure.figsize'] = [7, 5]"
   ]
  },
  {
   "cell_type": "code",
   "execution_count": 2,
   "metadata": {},
   "outputs": [],
   "source": [
    "# define paths for data\n",
    "FOLDER_PATH = 'data'\n",
    "PURCHASES_PATH = 'area_level_purchases'\n",
    "OSWARD_GROCERY = 'year_osward_grocery.csv'\n",
    "WARD_ATLAS = 'ward-atlas-data.csv'\n",
    "\n",
    "ward_data_path = join(FOLDER_PATH, PURCHASES_PATH, OSWARD_GROCERY)\n",
    "atlas_data_path = join(FOLDER_PATH, WARD_ATLAS)\n",
    "\n",
    "# load the data sets\n",
    "df_ward = pd.read_csv(ward_data_path, sep=',', index_col=0)\n",
    "df_atlas = pd.read_csv(atlas_data_path, sep=',', encoding='iso-8859-1')"
   ]
  },
  {
   "cell_type": "markdown",
   "metadata": {},
   "source": [
    "The `df_atlas` data set looks very messy. Row 0 contains info about the data. For every ward and demographic marker yearly (from 2001 to 2006) values exist in columns. According to the [source](https://data.london.gov.uk/dataset/ward-profiles-and-atlas) this data set was collected in September 2015 with the most up-to-date information available. Thus, for many markers, the last available information dates to 2015 or even earlier (e.g. 2013). Our first step is to clean the data set from outdated columns and only keep the most up-to-date demographic markers."
   ]
  },
  {
   "cell_type": "markdown",
   "metadata": {},
   "source": [
    "As indicated by the title, we are interested in demographic markers which help classifying different classes of people. These are for example gender, religion, ethnicity, wealth, age. Thus, in the following, we drop columns which we deem not helpful in classifying people into groups. We acknowledge that this process can be rather biased, however, as the data set has 946 columns, we see the need to reduce the data set's complexity."
   ]
  },
  {
   "cell_type": "code",
   "execution_count": 3,
   "metadata": {},
   "outputs": [],
   "source": [
    "def drop_redundant_data(df_atlas):\n",
    "    # clean age (columns after 2013 are projections, therefore keep 2013 columns)\n",
    "    cond = df_atlas.columns.str.startswith('Population and Age') & ~df_atlas.columns.str.contains('2013')\n",
    "    df_atlas = df_atlas.loc[:, ~cond]\n",
    "    # drop absolute population values\n",
    "    df_atlas = df_atlas.drop(['Population and Age; Population Estimates and Projections; 2013',\n",
    "                   'Population and Age; Aged 0-15; 2013',\n",
    "                   'Population and Age; Aged 16-64; 2013',\n",
    "                   'Population and Age; Aged 65+; 2013',\n",
    "                   'Population and Age; All ages; 2013',\n",
    "                   'Population and Age; Mean age; 2013',\n",
    "                   'Population and Age; Median age; 2013'], axis=1)\n",
    "    # delete population density\n",
    "    cond = df_atlas.columns.str.startswith('Area and Density')\n",
    "    df_atlas = df_atlas.loc[:, ~cond]\n",
    "    # delete the 18 ethnic groups for now, as they add complexity\n",
    "    cond = df_atlas.columns.str.startswith('Diversity; Ethnic Group 18 groups')\n",
    "    df_atlas = df_atlas.loc[:, ~cond]\n",
    "    # delete household language (of no interest) \n",
    "    cond = df_atlas.columns.str.startswith('Diversity; Household Language - 2011 Census')\n",
    "    df_atlas = df_atlas.loc[:, ~cond]\n",
    "    # delete household composition data\n",
    "    cond = df_atlas.columns.str.startswith('Household composition')\n",
    "    df_atlas = df_atlas.loc[:, ~cond]\n",
    "    # delete household repossesion\n",
    "    cond = df_atlas.columns.str.startswith('Home repossessions')\n",
    "    df_atlas = df_atlas.loc[:, ~cond]\n",
    "    # delete outdated birth and death markers\n",
    "    cond = df_atlas.columns.str.startswith('Births and deaths')\n",
    "    df_atlas = df_atlas.loc[:, ~cond]\n",
    "    # delete outdated life expectancy\n",
    "    cond = df_atlas.columns.str.startswith('Life Expectancy')\n",
    "    df_atlas = df_atlas.loc[:, ~cond]\n",
    "    # delete outdated housing markers\n",
    "    cond = df_atlas.columns.str.startswith('Housing type and Tenure')\n",
    "    df_atlas = df_atlas.loc[:, ~cond]\n",
    "    cond = df_atlas.columns.str.startswith('House Prices')\n",
    "    df_atlas = df_atlas.loc[:, ~cond]\n",
    "    # delete tax related data (not of interest)\n",
    "    cond = df_atlas.columns.str.startswith('Dwellings and Council tax')\n",
    "    df_atlas = df_atlas.loc[:, ~cond]\n",
    "    # delete dwelling data which is not of interest\n",
    "    cond = df_atlas.columns.str.startswith('Property Type') | df_atlas.columns.str.startswith('Size of dwellings') | df_atlas.columns.str.startswith('Property build period')\n",
    "    df_atlas = df_atlas.loc[:, ~cond]\n",
    "    # delete outdated income data\n",
    "    cond = df_atlas.columns.str.startswith('Household Income') & ~df_atlas.columns.str.contains('2012/13')\n",
    "    df_atlas = df_atlas.loc[:, ~cond]\n",
    "    # outdated employment data\n",
    "    cond = df_atlas.columns.str.startswith('Employment')\n",
    "    df_atlas = df_atlas.loc[:, ~cond]\n",
    "    # delete benefits claimants and jobseekers allowance\n",
    "    cond = df_atlas.columns.str.startswith('Benefits claimants') | df_atlas.columns.str.startswith('Jobseekers Allowance')\n",
    "    df_atlas = df_atlas.loc[:, ~cond]\n",
    "    # delete out of work families\n",
    "    cond = df_atlas.columns.str.startswith('Out-of-Work Families')\n",
    "    df_atlas = df_atlas.loc[:, ~cond]\n",
    "    # outdated poverty\n",
    "    cond = df_atlas.columns.str.startswith('Children in Poverty')\n",
    "    df_atlas = df_atlas.loc[:, ~cond]\n",
    "    # outdated \"intelligence\" scores\n",
    "    cond = df_atlas.columns.str.startswith('GCSE')\n",
    "    df_atlas = df_atlas.loc[:, ~cond]\n",
    "    cond = df_atlas.columns.str.startswith('A-Level Point Scores')\n",
    "    df_atlas = df_atlas.loc[:, ~cond]\n",
    "    # pupil abscence not if interest\n",
    "    cond = df_atlas.columns.str.startswith('Pupil Absence')\n",
    "    df_atlas = df_atlas.loc[:, ~cond]\n",
    "    # individual crimes not of interest, only crime rate\n",
    "    cond = df_atlas.columns.str.startswith('Crime') # & ~df_atlas.columns.str.contains('Total crime rate; 2014/15')\n",
    "    df_atlas = df_atlas.loc[:, ~cond]\n",
    "    # further columns not of interest\n",
    "    cond = df_atlas.columns.str.startswith('Fires') | df_atlas.columns.str.startswith('Ambulance') \\\n",
    "    | df_atlas.columns.str.startswith('Binge Drinking') | df_atlas.columns.str.startswith('Road Casualties') \\\n",
    "    | df_atlas.columns.str.startswith('Air Emissions') | df_atlas.columns.str.startswith('Land Use') \\\n",
    "    | df_atlas.columns.str.startswith('Access to green space and nature') | df_atlas.columns.str.startswith('Public Transport Accessibility')\\\n",
    "    | df_atlas.columns.str.startswith('Car access') | df_atlas.columns.str.startswith('Travel to work by bicycle') \\\n",
    "    | df_atlas.columns.str.startswith('Workplace employment') | df_atlas.columns.str.startswith('Nat Insurance No. registrations') \\\n",
    "    | df_atlas.columns.str.startswith('Election turnout')\n",
    "    df_atlas = df_atlas.loc[:, ~cond]\n",
    "    # obesity already available in cleaned format\n",
    "    cond = df_atlas.columns.str.startswith('Childhood Obesity Prevalence')\n",
    "    df_atlas = df_atlas.loc[:, ~cond]\n",
    "    # delete old indices of deprivation\n",
    "    cond = df_atlas.columns.str.startswith('Indices of Deprivation') & ~df_atlas.columns.str.contains('2010')\n",
    "    df_atlas = df_atlas.loc[:, ~cond]\n",
    "    cond = df_atlas.columns.str.startswith('Indices of Deprivation') & ~df_atlas.columns.str.endswith('Average Score; 2010')\n",
    "    df_atlas = df_atlas.loc[:, ~cond]\n",
    "    \n",
    "    df_atlas.drop('Unnamed: 0', axis=1, inplace=True)\n",
    "    df_atlas.drop(df_atlas.index[-3:], inplace=True)\n",
    "    df_atlas.drop(df_atlas.index[0], inplace=True)\n",
    "    return df_atlas\n",
    "\n",
    "df_atlas = drop_redundant_data(df_atlas)"
   ]
  },
  {
   "cell_type": "code",
   "execution_count": 4,
   "metadata": {},
   "outputs": [],
   "source": [
    "# The first 4 columns seem to have a wrong name\n",
    "df_atlas.rename(columns={'Unnamed: 1': 'New Code', 'Unnamed: 2': 'Borough', \n",
    "                         'Unnamed: 3': 'Names'}, inplace=True)\n",
    "\n",
    "# very long column names, rename columns to more concise names\n",
    "import re\n",
    "rename_map = {name: re.sub('.*; ', '', name) for name in df_atlas.columns.values}\n",
    "# after inspection 'Household Income; Median Modelled Household income (£); 2012/13',\n",
    "# 'Household Income; Mean Modelled Household income (£); 2012/13',\n",
    "# 'Happiness and Well-being; Subjective well-being average score, 2011/12 and 2012/13; ',\n",
    "# and 'Indices of Deprivation; Average Score; 2010' have been replaced too much, manually add those column names\n",
    "rename_map['Household Income; Median Modelled Household income (£); 2012/13'] = 'Household Income Mean'\n",
    "rename_map['Household Income; Mean Modelled Household income (£); 2012/13'] = 'Household Income Median'\n",
    "rename_map['Happiness and Well-being; Subjective well-being average score, 2011/12 and 2012/13; '] = 'Well-Being'\n",
    "rename_map['Indices of Deprivation; Average Score; 2010'] = 'IOD AVG'\n",
    "df_atlas.rename(columns=rename_map, inplace=True)\n",
    "                         \n",
    "df_atlas.rename(columns={'% No qualifications': 'No qualifications', \n",
    "                         '% Highest level of qualification: Level 1 qualifications': 'Level 1 qualifications', \n",
    "                         '% Highest level of qualification: Level 2 qualifications': 'Level 2 qualifications', \n",
    "                         '% Highest level of qualification: Apprenticeship': 'Apprenticeship qualifications', \n",
    "                         '% Highest level of qualification: Level 3 qualifications': 'Level 3 qualifications', \n",
    "                         '% Highest level of qualification: Level 4 qualifications and above': 'Level >=4 qualifications',\n",
    "                         '% Highest level of qualification: Other qualifications': 'Other qualifications', \n",
    "                         '% People with Bad or Very Bad Health': 'Bad Health',\n",
    "                         '% People whose Day-to-day activities are limited a lot': 'Limited activities'},\n",
    "                inplace=True)"
   ]
  },
  {
   "cell_type": "code",
   "execution_count": 5,
   "metadata": {},
   "outputs": [],
   "source": [
    "# to numeric conversion\n",
    "df_atlas.loc[:, 'Aged 0-15':] = df_atlas.loc[:, 'Aged 0-15':].apply(pd.to_numeric, errors='coerce')"
   ]
  },
  {
   "cell_type": "code",
   "execution_count": 6,
   "metadata": {},
   "outputs": [],
   "source": [
    "age_cols = ['Aged 0-15', 'Aged 16-64', 'Aged 65+'] #sum to 1\n",
    "ethnicities_cols = ['White', 'Mixed', 'Asian or Asian British', 'Black or Black British', 'Other'] #sum to 1\n",
    "religion_cols = ['Christian', 'Buddhist', 'Hindu', 'Jewish', 'Muslim', 'Sikh',\n",
    "       'No religion', 'Other religions', 'Religion not stated'] # sum to 1\n",
    "born_cols = ['Born in UK', 'Not Born in UK'] # sum to 1\n",
    "wealth_cols = ['Household Income Median', 'IOD AVG', 'Well-Being']\n",
    "qualilication_cols = ['No qualifications', 'Level 1 qualifications', 'Level 2 qualifications',\n",
    "       'Apprenticeship qualifications', 'Level 3 qualifications',\n",
    "       'Level >=4 qualifications', 'Other qualifications'] # sum to 1 \n",
    "disability_cols = ['Bad Health', 'Limited activities']\n",
    "all_features = age_cols + ethnicities_cols + religion_cols + born_cols + wealth_cols + qualilication_cols + disability_cols"
   ]
  },
  {
   "cell_type": "markdown",
   "metadata": {},
   "source": [
    "normalizing data"
   ]
  },
  {
   "cell_type": "code",
   "execution_count": 7,
   "metadata": {},
   "outputs": [],
   "source": [
    "def normalize(df, cols):\n",
    "    total = df[cols].sum(axis=1)\n",
    "    df[cols] = df[cols].div(total, axis=0)\n",
    "    return df\n",
    "\n",
    "def standartize(df, cols):\n",
    "    means = df[cols].mean()\n",
    "    stds = df[cols].std()\n",
    "    df[cols] = (df[cols] - means) / stds\n",
    "    return df\n",
    "\n",
    "def min_max_scaling(df, cols):\n",
    "    mins = df[cols].min()\n",
    "    maxs = df[cols].max()\n",
    "    df[cols] = (df[cols] - mins) / (maxs - mins)\n",
    "    return df"
   ]
  },
  {
   "cell_type": "code",
   "execution_count": 8,
   "metadata": {},
   "outputs": [],
   "source": [
    "#normalize\n",
    "df_atlas[age_cols] /= 100\n",
    "df_atlas = normalize(df_atlas, ethnicities_cols)\n",
    "df_atlas = normalize(df_atlas, religion_cols)\n",
    "df_atlas = normalize(df_atlas, born_cols)\n",
    "df_atlas[qualilication_cols] /= 100"
   ]
  },
  {
   "cell_type": "code",
   "execution_count": 9,
   "metadata": {},
   "outputs": [
    {
     "name": "stdout",
     "output_type": "stream",
     "text": [
      "False\n",
      "False\n",
      "False\n",
      "False\n",
      "False\n"
     ]
    }
   ],
   "source": [
    "for cols in [age_cols, ethnicities_cols, religion_cols, born_cols, qualilication_cols]:\n",
    "    print(any(np.abs(df_atlas[cols].sum(axis=1) - 1) > 0.01))"
   ]
  },
  {
   "cell_type": "code",
   "execution_count": 10,
   "metadata": {},
   "outputs": [
    {
     "data": {
      "image/png": "[encoded data removed]",
      "text/plain": [
       "<Figure size 864x360 with 2 Axes>"
      ]
     },
     "metadata": {
      "needs_background": "light"
     },
     "output_type": "display_data"
    }
   ],
   "source": [
    "fig, ax = plt.subplots(1, 2, figsize=(12, 5))\n",
    "df_atlas['Household Income Median'].hist(bins=50, ax=ax[0])\n",
    "(np.log(df_atlas['Household Income Median'])).hist(bins=50, ax=ax[1])\n",
    "plt.show()\n",
    "#haivy-tailed, makes sense to apply log transform before min-max rescaling"
   ]
  },
  {
   "cell_type": "code",
   "execution_count": 11,
   "metadata": {},
   "outputs": [],
   "source": [
    "df_atlas['Household Income Median'] = df_atlas['Household Income Median'].apply(np.log)"
   ]
  },
  {
   "cell_type": "code",
   "execution_count": 12,
   "metadata": {},
   "outputs": [
    {
     "data": {
      "image/png": "[encoded data removed]",
      "text/plain": [
       "<Figure size 864x360 with 2 Axes>"
      ]
     },
     "metadata": {
      "needs_background": "light"
     },
     "output_type": "display_data"
    }
   ],
   "source": [
    "fig, ax = plt.subplots(1, 2, figsize=(12, 5))\n",
    "df_atlas['IOD AVG'].hist(bins=50, ax=ax[0])\n",
    "(np.log(df_atlas['IOD AVG'])).hist(bins=50, ax=ax[1])\n",
    "plt.show()\n",
    "#no sense to apply log transform"
   ]
  },
  {
   "cell_type": "code",
   "execution_count": 13,
   "metadata": {},
   "outputs": [
    {
     "data": {
      "image/png": "[encoded data removed]",
      "text/plain": [
       "<Figure size 864x360 with 2 Axes>"
      ]
     },
     "metadata": {
      "needs_background": "light"
     },
     "output_type": "display_data"
    }
   ],
   "source": [
    "fig, ax = plt.subplots(1, 2, figsize=(12, 5))\n",
    "df_atlas['Bad Health'].hist(bins=50, ax=ax[0])\n",
    "(np.log(df_atlas['Bad Health'])).hist(bins=50, ax=ax[1])\n",
    "plt.show()\n",
    "#no sense to apply log transform"
   ]
  },
  {
   "cell_type": "code",
   "execution_count": 14,
   "metadata": {},
   "outputs": [
    {
     "data": {
      "image/png": "[encoded data removed]",
      "text/plain": [
       "<Figure size 864x360 with 2 Axes>"
      ]
     },
     "metadata": {
      "needs_background": "light"
     },
     "output_type": "display_data"
    }
   ],
   "source": [
    "fig, ax = plt.subplots(1, 2, figsize=(12, 5))\n",
    "df_atlas['Limited activities'].hist(bins=50, ax=ax[0])\n",
    "(np.log(df_atlas['Limited activities'])).hist(bins=50, ax=ax[1])\n",
    "plt.show()\n",
    "#no sense to apply log transform"
   ]
  },
  {
   "cell_type": "code",
   "execution_count": 15,
   "metadata": {},
   "outputs": [],
   "source": [
    "#standartizing all features to have 0 mean and 1 variance\n",
    "for col in all_features:\n",
    "    df_atlas = standartize(df_atlas, col)"
   ]
  },
  {
   "cell_type": "code",
   "execution_count": 16,
   "metadata": {},
   "outputs": [
    {
     "data": {
      "text/plain": [
       "Aged 0-15                        8.369483e-15\n",
       "Aged 16-64                      -3.434053e-15\n",
       "Aged 65+                        -2.079936e-15\n",
       "White                            1.676259e-15\n",
       "Mixed                           -2.708034e-15\n",
       "Asian or Asian British          -1.104894e-16\n",
       "Black or Black British           2.391509e-15\n",
       "Other                           -3.463896e-16\n",
       "Christian                        2.402878e-15\n",
       "Buddhist                         2.509282e-15\n",
       "Hindu                           -5.075051e-16\n",
       "Jewish                          -1.461942e-16\n",
       "Muslim                           6.918022e-16\n",
       "Sikh                             5.169198e-17\n",
       "No religion                      1.002753e-15\n",
       "Other religions                  2.978950e-16\n",
       "Religion not stated             -6.980194e-16\n",
       "Born in UK                      -1.985612e-15\n",
       "Not Born in UK                  -1.204725e-15\n",
       "Household Income Median          3.838139e-14\n",
       "IOD AVG                          1.971756e-17\n",
       "Well-Being                      -4.149481e-15\n",
       "No qualifications                1.473666e-15\n",
       "Level 1 qualifications           7.098322e-16\n",
       "Level 2 qualifications           4.450840e-15\n",
       "Apprenticeship qualifications    7.828760e-15\n",
       "Level 3 qualifications           1.142793e-14\n",
       "Level >=4 qualifications        -2.720313e-15\n",
       "Other qualifications            -4.947509e-15\n",
       "Bad Health                       1.036504e-16\n",
       "Limited activities               3.412381e-16\n",
       "dtype: float64"
      ]
     },
     "execution_count": 16,
     "metadata": {},
     "output_type": "execute_result"
    }
   ],
   "source": [
    "df_atlas[all_features].mean(axis=0)"
   ]
  },
  {
   "cell_type": "code",
   "execution_count": 17,
   "metadata": {},
   "outputs": [
    {
     "data": {
      "text/plain": [
       "Aged 0-15                        1.0\n",
       "Aged 16-64                       1.0\n",
       "Aged 65+                         1.0\n",
       "White                            1.0\n",
       "Mixed                            1.0\n",
       "Asian or Asian British           1.0\n",
       "Black or Black British           1.0\n",
       "Other                            1.0\n",
       "Christian                        1.0\n",
       "Buddhist                         1.0\n",
       "Hindu                            1.0\n",
       "Jewish                           1.0\n",
       "Muslim                           1.0\n",
       "Sikh                             1.0\n",
       "No religion                      1.0\n",
       "Other religions                  1.0\n",
       "Religion not stated              1.0\n",
       "Born in UK                       1.0\n",
       "Not Born in UK                   1.0\n",
       "Household Income Median          1.0\n",
       "IOD AVG                          1.0\n",
       "Well-Being                       1.0\n",
       "No qualifications                1.0\n",
       "Level 1 qualifications           1.0\n",
       "Level 2 qualifications           1.0\n",
       "Apprenticeship qualifications    1.0\n",
       "Level 3 qualifications           1.0\n",
       "Level >=4 qualifications         1.0\n",
       "Other qualifications             1.0\n",
       "Bad Health                       1.0\n",
       "Limited activities               1.0\n",
       "dtype: float64"
      ]
     },
     "execution_count": 17,
     "metadata": {},
     "output_type": "execute_result"
    }
   ],
   "source": [
    "df_atlas[all_features].std(axis=0)"
   ]
  },
  {
   "cell_type": "code",
   "execution_count": 18,
   "metadata": {},
   "outputs": [
    {
     "data": {
      "text/plain": [
       "array(['weight', 'weight_perc2.5', 'weight_perc25', 'weight_perc50',\n",
       "       'weight_perc75', 'weight_perc97.5', 'weight_std', 'weight_ci95',\n",
       "       'volume', 'volume_perc2.5', 'volume_perc25', 'volume_perc50',\n",
       "       'volume_perc75', 'volume_perc97.5', 'volume_std', 'volume_ci95',\n",
       "       'fat', 'fat_perc2.5', 'fat_perc25', 'fat_perc50', 'fat_perc75',\n",
       "       'fat_perc97.5', 'fat_std', 'fat_ci95', 'saturate',\n",
       "       'saturate_perc2.5', 'saturate_perc25', 'saturate_perc50',\n",
       "       'saturate_perc75', 'saturate_perc97.5', 'saturate_std',\n",
       "       'saturate_ci95', 'salt', 'salt_perc2.5', 'salt_perc25',\n",
       "       'salt_perc50', 'salt_perc75', 'salt_perc97.5', 'salt_std',\n",
       "       'salt_ci95', 'sugar', 'sugar_perc2.5', 'sugar_perc25',\n",
       "       'sugar_perc50', 'sugar_perc75', 'sugar_perc97.5', 'sugar_std',\n",
       "       'sugar_ci95', 'protein', 'protein_perc2.5', 'protein_perc25',\n",
       "       'protein_perc50', 'protein_perc75', 'protein_perc97.5',\n",
       "       'protein_std', 'protein_ci95', 'carb', 'carb_perc2.5',\n",
       "       'carb_perc25', 'carb_perc50', 'carb_perc75', 'carb_perc97.5',\n",
       "       'carb_std', 'carb_ci95', 'fibre', 'fibre_perc2.5', 'fibre_perc25',\n",
       "       'fibre_perc50', 'fibre_perc75', 'fibre_perc97.5', 'fibre_std',\n",
       "       'fibre_ci95', 'alcohol', 'alcohol_perc2.5', 'alcohol_perc25',\n",
       "       'alcohol_perc50', 'alcohol_perc75', 'alcohol_perc97.5',\n",
       "       'alcohol_std', 'alcohol_ci95', 'energy_fat', 'energy_fat_perc2.5',\n",
       "       'energy_fat_perc25', 'energy_fat_perc50', 'energy_fat_perc75',\n",
       "       'energy_fat_perc97.5', 'energy_fat_std', 'energy_fat_ci95',\n",
       "       'energy_saturate', 'energy_saturate_perc2.5',\n",
       "       'energy_saturate_perc25', 'energy_saturate_perc50',\n",
       "       'energy_saturate_perc75', 'energy_saturate_perc97.5',\n",
       "       'energy_saturate_std', 'energy_saturate_ci95', 'energy_sugar',\n",
       "       'energy_sugar_perc2.5', 'energy_sugar_perc25',\n",
       "       'energy_sugar_perc50', 'energy_sugar_perc75',\n",
       "       'energy_sugar_perc97.5', 'energy_sugar_std', 'energy_sugar_ci95',\n",
       "       'energy_protein', 'energy_protein_perc2.5',\n",
       "       'energy_protein_perc25', 'energy_protein_perc50',\n",
       "       'energy_protein_perc75', 'energy_protein_perc97.5',\n",
       "       'energy_protein_std', 'energy_protein_ci95', 'energy_carb',\n",
       "       'energy_carb_perc2.5', 'energy_carb_perc25', 'energy_carb_perc50',\n",
       "       'energy_carb_perc75', 'energy_carb_perc97.5', 'energy_carb_std',\n",
       "       'energy_carb_ci95', 'energy_fibre', 'energy_fibre_perc2.5',\n",
       "       'energy_fibre_perc25', 'energy_fibre_perc50',\n",
       "       'energy_fibre_perc75', 'energy_fibre_perc97.5', 'energy_fibre_std',\n",
       "       'energy_fibre_ci95', 'energy_alcohol', 'energy_alcohol_perc2.5',\n",
       "       'energy_alcohol_perc25', 'energy_alcohol_perc50',\n",
       "       'energy_alcohol_perc75', 'energy_alcohol_perc97.5',\n",
       "       'energy_alcohol_std', 'energy_alcohol_ci95', 'energy_tot',\n",
       "       'energy_tot_perc2.5', 'energy_tot_perc25', 'energy_tot_perc50',\n",
       "       'energy_tot_perc75', 'energy_tot_perc97.5', 'energy_tot_std',\n",
       "       'energy_tot_ci95', 'f_energy_fat', 'f_energy_saturate',\n",
       "       'f_energy_sugar', 'f_energy_protein', 'f_energy_carb',\n",
       "       'f_energy_fibre', 'f_energy_alcohol', 'energy_density',\n",
       "       'h_nutrients_weight', 'h_nutrients_weight_norm',\n",
       "       'h_nutrients_calories', 'h_nutrients_calories_norm', 'f_beer',\n",
       "       'f_dairy', 'f_eggs', 'f_fats_oils', 'f_fish', 'f_fruit_veg',\n",
       "       'f_grains', 'f_meat_red', 'f_poultry', 'f_readymade', 'f_sauces',\n",
       "       'f_soft_drinks', 'f_spirits', 'f_sweets', 'f_tea_coffee',\n",
       "       'f_water', 'f_wine', 'f_dairy_weight', 'f_eggs_weight',\n",
       "       'f_fats_oils_weight', 'f_fish_weight', 'f_fruit_veg_weight',\n",
       "       'f_grains_weight', 'f_meat_red_weight', 'f_poultry_weight',\n",
       "       'f_readymade_weight', 'f_sauces_weight', 'f_sweets_weight',\n",
       "       'h_items', 'h_items_norm', 'h_items_weight', 'h_items_weight_norm',\n",
       "       'representativeness_norm', 'transaction_days', 'num_transactions',\n",
       "       'man_day', 'population', 'male', 'female', 'age_0_17', 'age_18_64',\n",
       "       'age_65+', 'avg_age', 'area_sq_km', 'people_per_sq_km'],\n",
       "      dtype=object)"
      ]
     },
     "execution_count": 18,
     "metadata": {},
     "output_type": "execute_result"
    }
   ],
   "source": [
    "df_ward.columns.values"
   ]
  },
  {
   "cell_type": "code",
   "execution_count": 19,
   "metadata": {},
   "outputs": [],
   "source": [
    "important_cols = ['weight', 'volume', 'fat', 'saturate', 'salt', 'sugar', 'protein', 'carb',\n",
    "                 'fibre', 'alcohol', 'energy_fat', 'energy_saturate', 'energy_sugar', 'energy_protein',\n",
    "                 'energy_carb', 'energy_fibre', 'energy_alcohol', 'energy_tot', 'f_energy_fat', 'f_energy_saturate', \n",
    "                 'f_energy_sugar', 'f_energy_protein', 'f_energy_carb', 'f_energy_fibre', 'f_energy_alcohol', \n",
    "                 'energy_density', 'h_nutrients_weight', 'h_nutrients_weight_norm', 'h_nutrients_calories',\n",
    "                  'h_nutrients_calories_norm', 'representativeness_norm']"
   ]
  },
  {
   "cell_type": "code",
   "execution_count": 20,
   "metadata": {},
   "outputs": [],
   "source": [
    "# before merging set index of df_atlas to the ward code\n",
    "df_atlas.set_index('New Code', drop=True, inplace=True)"
   ]
  },
  {
   "cell_type": "code",
   "execution_count": 21,
   "metadata": {},
   "outputs": [
    {
     "data": {
      "text/html": [
       "<div>\n",
       "<style scoped>\n",
       "    .dataframe tbody tr th:only-of-type {\n",
       "        vertical-align: middle;\n",
       "    }\n",
       "\n",
       "    .dataframe tbody tr th {\n",
       "        vertical-align: top;\n",
       "    }\n",
       "\n",
       "    .dataframe thead th {\n",
       "        text-align: right;\n",
       "    }\n",
       "</style>\n",
       "<table border=\"1\" class=\"dataframe\">\n",
       "  <thead>\n",
       "    <tr style=\"text-align: right;\">\n",
       "      <th></th>\n",
       "      <th>weight</th>\n",
       "      <th>volume</th>\n",
       "      <th>fat</th>\n",
       "      <th>saturate</th>\n",
       "      <th>salt</th>\n",
       "      <th>sugar</th>\n",
       "      <th>protein</th>\n",
       "      <th>carb</th>\n",
       "      <th>fibre</th>\n",
       "      <th>alcohol</th>\n",
       "      <th>...</th>\n",
       "      <th>Level 2 qualifications</th>\n",
       "      <th>Apprenticeship qualifications</th>\n",
       "      <th>Level 3 qualifications</th>\n",
       "      <th>Level &gt;=4 qualifications</th>\n",
       "      <th>Other qualifications</th>\n",
       "      <th>% of 16+ who are schoolchildren and full-time students: Age 18 and over</th>\n",
       "      <th>Bad Health</th>\n",
       "      <th>Limited activities</th>\n",
       "      <th>Well-Being</th>\n",
       "      <th>IOD AVG</th>\n",
       "    </tr>\n",
       "  </thead>\n",
       "  <tbody>\n",
       "    <tr>\n",
       "      <th>E05000026</th>\n",
       "      <td>449.535137</td>\n",
       "      <td>125.960833</td>\n",
       "      <td>9.488797</td>\n",
       "      <td>3.693721</td>\n",
       "      <td>0.583240</td>\n",
       "      <td>10.966213</td>\n",
       "      <td>4.977560</td>\n",
       "      <td>19.381951</td>\n",
       "      <td>1.564721</td>\n",
       "      <td>0.198172</td>\n",
       "      <td>...</td>\n",
       "      <td>-0.135178</td>\n",
       "      <td>-0.607835</td>\n",
       "      <td>-0.990268</td>\n",
       "      <td>-0.245565</td>\n",
       "      <td>1.873423</td>\n",
       "      <td>14.3</td>\n",
       "      <td>-0.492858</td>\n",
       "      <td>-1.121216</td>\n",
       "      <td>0.831413</td>\n",
       "      <td>0.694138</td>\n",
       "    </tr>\n",
       "    <tr>\n",
       "      <th>E05000027</th>\n",
       "      <td>413.130263</td>\n",
       "      <td>110.664114</td>\n",
       "      <td>9.733634</td>\n",
       "      <td>3.565913</td>\n",
       "      <td>0.568184</td>\n",
       "      <td>10.514427</td>\n",
       "      <td>5.211694</td>\n",
       "      <td>18.950348</td>\n",
       "      <td>1.581960</td>\n",
       "      <td>0.209917</td>\n",
       "      <td>...</td>\n",
       "      <td>1.172269</td>\n",
       "      <td>0.118347</td>\n",
       "      <td>-0.589674</td>\n",
       "      <td>-1.629791</td>\n",
       "      <td>-0.257354</td>\n",
       "      <td>5.8</td>\n",
       "      <td>1.409580</td>\n",
       "      <td>1.429760</td>\n",
       "      <td>-0.863156</td>\n",
       "      <td>0.992115</td>\n",
       "    </tr>\n",
       "    <tr>\n",
       "      <th>E05000028</th>\n",
       "      <td>407.100472</td>\n",
       "      <td>121.990710</td>\n",
       "      <td>9.216310</td>\n",
       "      <td>3.613582</td>\n",
       "      <td>0.610536</td>\n",
       "      <td>10.690272</td>\n",
       "      <td>5.192412</td>\n",
       "      <td>19.662048</td>\n",
       "      <td>1.572323</td>\n",
       "      <td>0.225425</td>\n",
       "      <td>...</td>\n",
       "      <td>1.047751</td>\n",
       "      <td>0.325827</td>\n",
       "      <td>-0.689822</td>\n",
       "      <td>-1.326505</td>\n",
       "      <td>0.043140</td>\n",
       "      <td>7.7</td>\n",
       "      <td>1.647385</td>\n",
       "      <td>1.429760</td>\n",
       "      <td>-0.076466</td>\n",
       "      <td>0.601395</td>\n",
       "    </tr>\n",
       "    <tr>\n",
       "      <th>E05000029</th>\n",
       "      <td>384.173858</td>\n",
       "      <td>122.245578</td>\n",
       "      <td>9.700137</td>\n",
       "      <td>3.961264</td>\n",
       "      <td>0.533180</td>\n",
       "      <td>12.938606</td>\n",
       "      <td>4.718184</td>\n",
       "      <td>20.084734</td>\n",
       "      <td>1.550344</td>\n",
       "      <td>0.200380</td>\n",
       "      <td>...</td>\n",
       "      <td>0.923232</td>\n",
       "      <td>0.533308</td>\n",
       "      <td>-0.239154</td>\n",
       "      <td>-1.412047</td>\n",
       "      <td>-0.421260</td>\n",
       "      <td>5.3</td>\n",
       "      <td>1.488848</td>\n",
       "      <td>2.119213</td>\n",
       "      <td>-1.651271</td>\n",
       "      <td>1.168602</td>\n",
       "    </tr>\n",
       "    <tr>\n",
       "      <th>E05000030</th>\n",
       "      <td>356.882607</td>\n",
       "      <td>109.959688</td>\n",
       "      <td>9.381808</td>\n",
       "      <td>3.614663</td>\n",
       "      <td>0.566784</td>\n",
       "      <td>11.332898</td>\n",
       "      <td>5.307003</td>\n",
       "      <td>19.581403</td>\n",
       "      <td>1.607947</td>\n",
       "      <td>0.168952</td>\n",
       "      <td>...</td>\n",
       "      <td>1.421307</td>\n",
       "      <td>1.155749</td>\n",
       "      <td>-0.239154</td>\n",
       "      <td>-1.489813</td>\n",
       "      <td>-1.022248</td>\n",
       "      <td>5.0</td>\n",
       "      <td>0.775434</td>\n",
       "      <td>1.291869</td>\n",
       "      <td>0.799847</td>\n",
       "      <td>0.065051</td>\n",
       "    </tr>\n",
       "    <tr>\n",
       "      <th>...</th>\n",
       "      <td>...</td>\n",
       "      <td>...</td>\n",
       "      <td>...</td>\n",
       "      <td>...</td>\n",
       "      <td>...</td>\n",
       "      <td>...</td>\n",
       "      <td>...</td>\n",
       "      <td>...</td>\n",
       "      <td>...</td>\n",
       "      <td>...</td>\n",
       "      <td>...</td>\n",
       "      <td>...</td>\n",
       "      <td>...</td>\n",
       "      <td>...</td>\n",
       "      <td>...</td>\n",
       "      <td>...</td>\n",
       "      <td>...</td>\n",
       "      <td>...</td>\n",
       "      <td>...</td>\n",
       "      <td>...</td>\n",
       "      <td>...</td>\n",
       "    </tr>\n",
       "    <tr>\n",
       "      <th>E05000645</th>\n",
       "      <td>387.651694</td>\n",
       "      <td>100.374890</td>\n",
       "      <td>9.011954</td>\n",
       "      <td>3.558849</td>\n",
       "      <td>0.584727</td>\n",
       "      <td>9.403091</td>\n",
       "      <td>5.499603</td>\n",
       "      <td>16.729870</td>\n",
       "      <td>1.609476</td>\n",
       "      <td>0.292334</td>\n",
       "      <td>...</td>\n",
       "      <td>-1.349235</td>\n",
       "      <td>-0.815315</td>\n",
       "      <td>-1.240639</td>\n",
       "      <td>1.356405</td>\n",
       "      <td>0.015822</td>\n",
       "      <td>6.4</td>\n",
       "      <td>0.616897</td>\n",
       "      <td>0.257690</td>\n",
       "      <td>0.063086</td>\n",
       "      <td>-0.504062</td>\n",
       "    </tr>\n",
       "    <tr>\n",
       "      <th>E05000646</th>\n",
       "      <td>391.296517</td>\n",
       "      <td>102.209867</td>\n",
       "      <td>8.810350</td>\n",
       "      <td>3.379945</td>\n",
       "      <td>0.604999</td>\n",
       "      <td>9.350598</td>\n",
       "      <td>5.584789</td>\n",
       "      <td>17.240961</td>\n",
       "      <td>1.640990</td>\n",
       "      <td>0.209072</td>\n",
       "      <td>...</td>\n",
       "      <td>-1.193587</td>\n",
       "      <td>-0.815315</td>\n",
       "      <td>-0.840045</td>\n",
       "      <td>1.200874</td>\n",
       "      <td>0.152411</td>\n",
       "      <td>7.7</td>\n",
       "      <td>0.537629</td>\n",
       "      <td>0.188745</td>\n",
       "      <td>-0.173037</td>\n",
       "      <td>-0.262902</td>\n",
       "    </tr>\n",
       "    <tr>\n",
       "      <th>E05000647</th>\n",
       "      <td>391.146713</td>\n",
       "      <td>115.080184</td>\n",
       "      <td>8.642757</td>\n",
       "      <td>3.398100</td>\n",
       "      <td>0.584833</td>\n",
       "      <td>9.446028</td>\n",
       "      <td>5.321004</td>\n",
       "      <td>17.579308</td>\n",
       "      <td>1.680360</td>\n",
       "      <td>0.299310</td>\n",
       "      <td>...</td>\n",
       "      <td>-1.504884</td>\n",
       "      <td>-0.711575</td>\n",
       "      <td>-0.990268</td>\n",
       "      <td>1.620807</td>\n",
       "      <td>-0.038813</td>\n",
       "      <td>7.7</td>\n",
       "      <td>0.220556</td>\n",
       "      <td>-0.500708</td>\n",
       "      <td>1.736755</td>\n",
       "      <td>-0.452034</td>\n",
       "    </tr>\n",
       "    <tr>\n",
       "      <th>E05000648</th>\n",
       "      <td>400.832576</td>\n",
       "      <td>109.727023</td>\n",
       "      <td>8.919674</td>\n",
       "      <td>3.512147</td>\n",
       "      <td>0.549463</td>\n",
       "      <td>9.623928</td>\n",
       "      <td>5.259262</td>\n",
       "      <td>17.940815</td>\n",
       "      <td>1.611090</td>\n",
       "      <td>0.195706</td>\n",
       "      <td>...</td>\n",
       "      <td>-0.726642</td>\n",
       "      <td>-0.919055</td>\n",
       "      <td>-0.789971</td>\n",
       "      <td>-0.152246</td>\n",
       "      <td>0.889987</td>\n",
       "      <td>7.4</td>\n",
       "      <td>2.994945</td>\n",
       "      <td>2.739721</td>\n",
       "      <td>1.152150</td>\n",
       "      <td>1.459673</td>\n",
       "    </tr>\n",
       "    <tr>\n",
       "      <th>E05000649</th>\n",
       "      <td>370.849508</td>\n",
       "      <td>99.419205</td>\n",
       "      <td>9.154919</td>\n",
       "      <td>3.642411</td>\n",
       "      <td>0.560853</td>\n",
       "      <td>10.170574</td>\n",
       "      <td>5.328714</td>\n",
       "      <td>17.765000</td>\n",
       "      <td>1.665483</td>\n",
       "      <td>0.217665</td>\n",
       "      <td>...</td>\n",
       "      <td>-1.598273</td>\n",
       "      <td>-1.126536</td>\n",
       "      <td>-0.489526</td>\n",
       "      <td>1.317522</td>\n",
       "      <td>0.971940</td>\n",
       "      <td>10.1</td>\n",
       "      <td>-0.334322</td>\n",
       "      <td>-0.983325</td>\n",
       "      <td>0.308135</td>\n",
       "      <td>-0.390090</td>\n",
       "    </tr>\n",
       "  </tbody>\n",
       "</table>\n",
       "<p>483 rows × 66 columns</p>\n",
       "</div>"
      ],
      "text/plain": [
       "               weight      volume       fat  saturate      salt      sugar  \\\n",
       "E05000026  449.535137  125.960833  9.488797  3.693721  0.583240  10.966213   \n",
       "E05000027  413.130263  110.664114  9.733634  3.565913  0.568184  10.514427   \n",
       "E05000028  407.100472  121.990710  9.216310  3.613582  0.610536  10.690272   \n",
       "E05000029  384.173858  122.245578  9.700137  3.961264  0.533180  12.938606   \n",
       "E05000030  356.882607  109.959688  9.381808  3.614663  0.566784  11.332898   \n",
       "...               ...         ...       ...       ...       ...        ...   \n",
       "E05000645  387.651694  100.374890  9.011954  3.558849  0.584727   9.403091   \n",
       "E05000646  391.296517  102.209867  8.810350  3.379945  0.604999   9.350598   \n",
       "E05000647  391.146713  115.080184  8.642757  3.398100  0.584833   9.446028   \n",
       "E05000648  400.832576  109.727023  8.919674  3.512147  0.549463   9.623928   \n",
       "E05000649  370.849508   99.419205  9.154919  3.642411  0.560853  10.170574   \n",
       "\n",
       "            protein       carb     fibre   alcohol  ...  \\\n",
       "E05000026  4.977560  19.381951  1.564721  0.198172  ...   \n",
       "E05000027  5.211694  18.950348  1.581960  0.209917  ...   \n",
       "E05000028  5.192412  19.662048  1.572323  0.225425  ...   \n",
       "E05000029  4.718184  20.084734  1.550344  0.200380  ...   \n",
       "E05000030  5.307003  19.581403  1.607947  0.168952  ...   \n",
       "...             ...        ...       ...       ...  ...   \n",
       "E05000645  5.499603  16.729870  1.609476  0.292334  ...   \n",
       "E05000646  5.584789  17.240961  1.640990  0.209072  ...   \n",
       "E05000647  5.321004  17.579308  1.680360  0.299310  ...   \n",
       "E05000648  5.259262  17.940815  1.611090  0.195706  ...   \n",
       "E05000649  5.328714  17.765000  1.665483  0.217665  ...   \n",
       "\n",
       "           Level 2 qualifications  Apprenticeship qualifications  \\\n",
       "E05000026               -0.135178                      -0.607835   \n",
       "E05000027                1.172269                       0.118347   \n",
       "E05000028                1.047751                       0.325827   \n",
       "E05000029                0.923232                       0.533308   \n",
       "E05000030                1.421307                       1.155749   \n",
       "...                           ...                            ...   \n",
       "E05000645               -1.349235                      -0.815315   \n",
       "E05000646               -1.193587                      -0.815315   \n",
       "E05000647               -1.504884                      -0.711575   \n",
       "E05000648               -0.726642                      -0.919055   \n",
       "E05000649               -1.598273                      -1.126536   \n",
       "\n",
       "           Level 3 qualifications  Level >=4 qualifications  \\\n",
       "E05000026               -0.990268                 -0.245565   \n",
       "E05000027               -0.589674                 -1.629791   \n",
       "E05000028               -0.689822                 -1.326505   \n",
       "E05000029               -0.239154                 -1.412047   \n",
       "E05000030               -0.239154                 -1.489813   \n",
       "...                           ...                       ...   \n",
       "E05000645               -1.240639                  1.356405   \n",
       "E05000646               -0.840045                  1.200874   \n",
       "E05000647               -0.990268                  1.620807   \n",
       "E05000648               -0.789971                 -0.152246   \n",
       "E05000649               -0.489526                  1.317522   \n",
       "\n",
       "           Other qualifications  \\\n",
       "E05000026              1.873423   \n",
       "E05000027             -0.257354   \n",
       "E05000028              0.043140   \n",
       "E05000029             -0.421260   \n",
       "E05000030             -1.022248   \n",
       "...                         ...   \n",
       "E05000645              0.015822   \n",
       "E05000646              0.152411   \n",
       "E05000647             -0.038813   \n",
       "E05000648              0.889987   \n",
       "E05000649              0.971940   \n",
       "\n",
       "           % of 16+ who are schoolchildren and full-time students: Age 18 and over  \\\n",
       "E05000026                                               14.3                         \n",
       "E05000027                                                5.8                         \n",
       "E05000028                                                7.7                         \n",
       "E05000029                                                5.3                         \n",
       "E05000030                                                5.0                         \n",
       "...                                                      ...                         \n",
       "E05000645                                                6.4                         \n",
       "E05000646                                                7.7                         \n",
       "E05000647                                                7.7                         \n",
       "E05000648                                                7.4                         \n",
       "E05000649                                               10.1                         \n",
       "\n",
       "           Bad Health  Limited activities  Well-Being   IOD AVG  \n",
       "E05000026   -0.492858           -1.121216    0.831413  0.694138  \n",
       "E05000027    1.409580            1.429760   -0.863156  0.992115  \n",
       "E05000028    1.647385            1.429760   -0.076466  0.601395  \n",
       "E05000029    1.488848            2.119213   -1.651271  1.168602  \n",
       "E05000030    0.775434            1.291869    0.799847  0.065051  \n",
       "...               ...                 ...         ...       ...  \n",
       "E05000645    0.616897            0.257690    0.063086 -0.504062  \n",
       "E05000646    0.537629            0.188745   -0.173037 -0.262902  \n",
       "E05000647    0.220556           -0.500708    1.736755 -0.452034  \n",
       "E05000648    2.994945            2.739721    1.152150  1.459673  \n",
       "E05000649   -0.334322           -0.983325    0.308135 -0.390090  \n",
       "\n",
       "[483 rows x 66 columns]"
      ]
     },
     "execution_count": 21,
     "metadata": {},
     "output_type": "execute_result"
    }
   ],
   "source": [
    "# merge the data sets by ward\n",
    "df_ward_atlas = pd.merge(df_ward[important_cols], df_atlas, how='inner', left_index=True, right_index=True, validate='1:1')\n",
    "df_ward_atlas"
   ]
  },
  {
   "cell_type": "code",
   "execution_count": 22,
   "metadata": {},
   "outputs": [],
   "source": [
    "def forward_feature_selection(df_corrs, target_col, verbose=False):\n",
    "\n",
    "    num_features = 1\n",
    "    repeat = 100\n",
    "    best_score = 0\n",
    "    best_num_features = 0\n",
    "    delay = 10\n",
    "    not_improvements = 0\n",
    "\n",
    "    while (not_improvements < delay) and (num_features < len(df_corrs)):\n",
    "        features = list(df_corrs[:num_features].keys())\n",
    "        x_data = df_ward_atlas[features]\n",
    "        y_data = df_ward_atlas[target_col]\n",
    "        res_train = []\n",
    "        res_test = []\n",
    "        for i in range(repeat):\n",
    "            x_train, x_test, y_train, y_test = train_test_split(x_data, y_data, test_size = 1/3)\n",
    "            model = LinearRegression()\n",
    "            model.fit(x_train, y_train)\n",
    "            res_train.append(model.score(x_train, y_train))\n",
    "            res_test.append(model.score(x_test, y_test))\n",
    "        res_train = np.array(res_train)\n",
    "        res_test = np.array(res_test)\n",
    "        res_train = np.mean(res_train)\n",
    "        res_test = np.mean(res_test)\n",
    "        if (res_test > best_score):\n",
    "            summary_str = 'R2 score on test data improved by {:.5}'.format(res_test-best_score)\n",
    "            best_score = res_test\n",
    "            best_num_features = num_features\n",
    "            not_improvements = 0\n",
    "        else:\n",
    "            summary_str = 'R2 score on test data did not improved'\n",
    "            not_improvements += 1\n",
    "        if verbose:\n",
    "            print('Added feature {}: {}'.format(num_features, df_corrs.keys()[num_features-1]))\n",
    "            print('Average r2_score on train data: {:.5}, on test data {:.5}'.format(res_train, res_test))\n",
    "            print(summary_str + '\\n')\n",
    "        num_features += 1\n",
    "    \n",
    "    return best_score, best_num_features"
   ]
  },
  {
   "cell_type": "code",
   "execution_count": 23,
   "metadata": {},
   "outputs": [],
   "source": [
    "def forward_feature_selection_brute_force(df_corrs_, target_col, verbose=False):\n",
    "    num_features = 1\n",
    "    repeat = 100\n",
    "    global_test_best = 0\n",
    "    selected_cols_best = None\n",
    "    delay = 3\n",
    "    not_improvements = 0\n",
    "\n",
    "    df_corrs = df_corrs_.copy()\n",
    "    selected_cols = []\n",
    "\n",
    "    while (not_improvements < delay) and (len(df_corrs) > 0):\n",
    "        res_train = {}\n",
    "        res_test = {}\n",
    "        local_train_best = 0\n",
    "        local_test_best = 0\n",
    "        best_new_col = None\n",
    "        for new_col in df_corrs.index:\n",
    "            trial_cols = selected_cols + [new_col]       \n",
    "            x_data = df_ward_atlas[trial_cols]\n",
    "            y_data = df_ward_atlas[target_col]\n",
    "            res_train[new_col] = []\n",
    "            res_test[new_col] = []\n",
    "            for i in range(repeat):\n",
    "                x_train, x_test, y_train, y_test = train_test_split(x_data, y_data, test_size = 0.2)\n",
    "                model = LinearRegression()\n",
    "                model.fit(x_train, y_train)\n",
    "                res_train[new_col].append(model.score(x_train, y_train))\n",
    "                res_test[new_col].append(model.score(x_test, y_test))\n",
    "            res_train[new_col] = np.array(res_train[new_col])\n",
    "            res_test[new_col] = np.array(res_test[new_col])\n",
    "            res_train[new_col] = np.mean(res_train[new_col])\n",
    "            res_test[new_col] = np.mean(res_test[new_col])\n",
    "            if (res_test[new_col] > local_test_best):\n",
    "                local_test_best = res_test[new_col]\n",
    "                local_train_best = res_train[new_col]\n",
    "                best_new_col = new_col\n",
    "        \n",
    "        selected_cols.append(best_new_col)\n",
    "        df_corrs.drop(best_new_col, axis=0, inplace=True)\n",
    "        if (local_test_best > global_test_best):\n",
    "            summary_str = 'R2 score on test data improved by {:.5}'.format(local_test_best-global_test_best)\n",
    "            global_test_best = local_test_best\n",
    "            selected_cols_best = selected_cols.copy()\n",
    "            not_improvements = 0\n",
    "        else:\n",
    "            summary_str = 'R2 score on test data did not improved'\n",
    "            not_improvements += 1\n",
    "        if verbose:\n",
    "            print('Added feature {}: {}'.format(num_features, best_new_col))\n",
    "            print('Average r2_score on train data: {:.5}, on test data {:.5}'.format(local_train_best, local_test_best))\n",
    "            print(summary_str + '\\n')\n",
    "        num_features += 1\n",
    "        \n",
    "    return global_test_best, selected_cols_best"
   ]
  },
  {
   "cell_type": "code",
   "execution_count": 24,
   "metadata": {},
   "outputs": [
    {
     "name": "stdout",
     "output_type": "stream",
     "text": [
      "energy_fat: best r2 score = 0.35935, num features = 12\n",
      "energy_saturate: best r2 score = 0.35390, num features = 12\n",
      "energy_sugar: best r2 score = 0.59780, num features = 10\n",
      "energy_protein: best r2 score = 0.61448, num features = 6\n",
      "energy_carb: best r2 score = 0.76818, num features = 10\n",
      "energy_fibre: best r2 score = 0.59297, num features = 20\n",
      "energy_alcohol: best r2 score = 0.40005, num features = 9\n",
      "energy_tot: best r2 score = 0.66541, num features = 11\n"
     ]
    }
   ],
   "source": [
    "target_cols = ['energy_fat', 'energy_saturate', 'energy_sugar', 'energy_protein',\n",
    "                 'energy_carb', 'energy_fibre', 'energy_alcohol', 'energy_tot']\n",
    "global_test_best = {}\n",
    "selected_cols_best = {}\n",
    "energy_corr = {}\n",
    "for y in target_cols:\n",
    "    energy_corr[y] = df_ward_atlas[all_features].corrwith(df_ward_atlas[y], method='pearson')\n",
    "    energy_corr[y] = energy_corr[y].sort_values(ascending=False, key=np.abs)\n",
    "    #get rid of linearly dependent cols\n",
    "    for cols in [age_cols, ethnicities_cols, religion_cols, born_cols, qualilication_cols]:\n",
    "        energy_corr[y].drop(energy_corr[y][cols].index[-1], axis=0, inplace=True)\n",
    "    global_test_best[y], selected_cols_best[y]  = forward_feature_selection_brute_force(energy_corr[y], y)\n",
    "    print('{}: best r2 score = {:.5f}, num features = {}'.format(y, global_test_best[y], len(selected_cols_best[y])))"
   ]
  },
  {
   "cell_type": "code",
   "execution_count": 25,
   "metadata": {},
   "outputs": [],
   "source": [
    "f = open(\"r2_scores_en.pkl\",\"wb\")\n",
    "pickle.dump(global_test_best,f)\n",
    "f.close()\n",
    "f = open(\"selected_cols_en.pkl\",\"wb\")\n",
    "pickle.dump(selected_cols_best,f)\n",
    "f.close()"
   ]
  },
  {
   "cell_type": "code",
   "execution_count": 24,
   "metadata": {},
   "outputs": [],
   "source": [
    "global_test_best = {}\n",
    "selected_cols_best = {}\n",
    "f = open(\"r2_scores_en.pkl\",\"rb\")\n",
    "global_test_best = pickle.load(f)\n",
    "f.close()\n",
    "f = open(\"selected_cols_en.pkl\",\"rb\")\n",
    "selected_cols_best = pickle.load(f)\n",
    "f.close()\n",
    "target_cols = ['energy_fat', 'energy_saturate', 'energy_sugar', 'energy_protein',\n",
    "                 'energy_carb', 'energy_fibre', 'energy_alcohol', 'energy_tot']"
   ]
  },
  {
   "cell_type": "code",
   "execution_count": 25,
   "metadata": {},
   "outputs": [
    {
     "name": "stdout",
     "output_type": "stream",
     "text": [
      "features for 'energy_fat' prediction: ['Level 1 qualifications', 'Jewish', 'Mixed', 'Aged 0-15', 'Black or Black British', 'Born in UK', 'Muslim', 'Apprenticeship qualifications', 'Hindu', 'Household Income Median', 'Level 2 qualifications']\n",
      "features for 'energy_saturate' prediction: ['Asian or Asian British', 'Born in UK', 'Muslim', 'White', 'Jewish', 'Aged 0-15', 'Apprenticeship qualifications', 'Mixed', 'Hindu']\n",
      "features for 'energy_sugar' prediction: ['Level 1 qualifications', 'Mixed', 'Well-Being', 'IOD AVG', 'Asian or Asian British', 'No religion', 'Hindu', 'Sikh', 'No qualifications', 'Bad Health', 'Aged 16-64', 'Jewish']\n",
      "features for 'energy_protein' prediction: ['Asian or Asian British', 'Jewish', 'Level 2 qualifications', 'White']\n",
      "features for 'energy_carb' prediction: ['Level 1 qualifications', 'Asian or Asian British', 'Born in UK', 'Jewish', 'Household Income Median', 'Muslim', 'Mixed', 'Level 2 qualifications', 'Well-Being', 'Christian']\n",
      "features for 'energy_fibre' prediction: ['IOD AVG', 'No religion', 'Black or Black British', 'Buddhist', 'Sikh', 'Level 1 qualifications', 'Asian or Asian British', 'White', 'Level 2 qualifications', 'Household Income Median', 'Apprenticeship qualifications', 'Born in UK']\n",
      "features for 'energy_alcohol' prediction: ['Level >=4 qualifications', 'Muslim', 'Jewish', 'IOD AVG', 'Christian']\n",
      "features for 'energy_tot' prediction: ['Level 1 qualifications', 'Jewish', 'Mixed', 'Household Income Median']\n"
     ]
    }
   ],
   "source": [
    "for y in target_cols:\n",
    "    print(f'features for \\'{y}\\' prediction:', selected_cols_best[y])"
   ]
  },
  {
   "cell_type": "code",
   "execution_count": 26,
   "metadata": {},
   "outputs": [],
   "source": [
    "def to_formula(cols):\n",
    "    cols = list(map(lambda s: 'Q(\"{}\")'.format(s), cols))\n",
    "    return ' + '.join(cols)\n",
    "\n",
    "def get_label_summary(label, features):\n",
    "    model = smf.ols(formula='{} ~ {}'.format(label, to_formula(features)),\n",
    "              data=df_ward_atlas)\n",
    "    res = model.fit()\n",
    "    results_as_html = res.summary().tables[1].as_html()\n",
    "    df_summary=pd.read_html(results_as_html, header=0, index_col=0)[0]\n",
    "    return df_summary[df_summary['P>|t|']<0.05]\n",
    "\n",
    "def actual_name(col_in_formula):\n",
    "    if col_in_formula.startswith('Q('):\n",
    "        return col_in_formula[3:-2]\n",
    "    else:\n",
    "        return col_in_formula"
   ]
  },
  {
   "cell_type": "code",
   "execution_count": 27,
   "metadata": {},
   "outputs": [],
   "source": [
    "def get_r2_samples(target, features, dataset):\n",
    "    repeats = 1000\n",
    "    r2_scores = []\n",
    "    \n",
    "    x_data = dataset[features]\n",
    "    y_data = dataset[target]\n",
    "    for i in range(repeats):\n",
    "        x_train, x_test, y_train, y_test = train_test_split(x_data, y_data, test_size = 0.2)\n",
    "        model = LinearRegression()\n",
    "        model.fit(x_train, y_train)\n",
    "        r2_scores.append(model.score(x_test, y_test))\n",
    "    return np.array(r2_scores)\n",
    "\n",
    "def estimate_from_samples(samples, p_value=0.05):\n",
    "    samples = np.sort(samples)\n",
    "    lower_CI_pos = int(np.round(len(samples) * p_value/2))\n",
    "    upper_CI_pos = int(np.round(len(samples) * (1-p_value/2)))\n",
    "    estimator = np.median(samples)\n",
    "    return estimator, samples[lower_CI_pos], samples[upper_CI_pos]"
   ]
  },
  {
   "cell_type": "code",
   "execution_count": 32,
   "metadata": {},
   "outputs": [],
   "source": [
    "r2_scores = {}\n",
    "selected_cols_very_best = {}\n",
    "r2_estimators = {}\n",
    "r2_lower_CIs = {}\n",
    "r2_upper_CIs = {}\n",
    "repres_vals = np.linspace(0.1,1,10)"
   ]
  },
  {
   "cell_type": "markdown",
   "metadata": {},
   "source": [
    "# Linear model for energy_fat"
   ]
  },
  {
   "cell_type": "code",
   "execution_count": 33,
   "metadata": {},
   "outputs": [
    {
     "data": {
      "text/html": [
       "<div>\n",
       "<style scoped>\n",
       "    .dataframe tbody tr th:only-of-type {\n",
       "        vertical-align: middle;\n",
       "    }\n",
       "\n",
       "    .dataframe tbody tr th {\n",
       "        vertical-align: top;\n",
       "    }\n",
       "\n",
       "    .dataframe thead th {\n",
       "        text-align: right;\n",
       "    }\n",
       "</style>\n",
       "<table border=\"1\" class=\"dataframe\">\n",
       "  <thead>\n",
       "    <tr style=\"text-align: right;\">\n",
       "      <th></th>\n",
       "      <th>coef</th>\n",
       "      <th>std err</th>\n",
       "      <th>t</th>\n",
       "      <th>P&gt;|t|</th>\n",
       "      <th>[0.025</th>\n",
       "      <th>0.975]</th>\n",
       "    </tr>\n",
       "  </thead>\n",
       "  <tbody>\n",
       "    <tr>\n",
       "      <th>Intercept</th>\n",
       "      <td>81.2800</td>\n",
       "      <td>0.127</td>\n",
       "      <td>641.362</td>\n",
       "      <td>0.000</td>\n",
       "      <td>81.031</td>\n",
       "      <td>81.529</td>\n",
       "    </tr>\n",
       "    <tr>\n",
       "      <th>Q(\"Jewish\")</th>\n",
       "      <td>-1.3009</td>\n",
       "      <td>0.141</td>\n",
       "      <td>-9.237</td>\n",
       "      <td>0.000</td>\n",
       "      <td>-1.578</td>\n",
       "      <td>-1.024</td>\n",
       "    </tr>\n",
       "    <tr>\n",
       "      <th>Q(\"Aged 0-15\")</th>\n",
       "      <td>0.6535</td>\n",
       "      <td>0.198</td>\n",
       "      <td>3.304</td>\n",
       "      <td>0.001</td>\n",
       "      <td>0.265</td>\n",
       "      <td>1.042</td>\n",
       "    </tr>\n",
       "    <tr>\n",
       "      <th>Q(\"Black or Black British\")</th>\n",
       "      <td>-1.9127</td>\n",
       "      <td>0.307</td>\n",
       "      <td>-6.234</td>\n",
       "      <td>0.000</td>\n",
       "      <td>-2.516</td>\n",
       "      <td>-1.310</td>\n",
       "    </tr>\n",
       "    <tr>\n",
       "      <th>Q(\"Apprenticeship qualifications\")</th>\n",
       "      <td>-1.0206</td>\n",
       "      <td>0.379</td>\n",
       "      <td>-2.694</td>\n",
       "      <td>0.007</td>\n",
       "      <td>-1.765</td>\n",
       "      <td>-0.276</td>\n",
       "    </tr>\n",
       "    <tr>\n",
       "      <th>Q(\"Hindu\")</th>\n",
       "      <td>-0.4694</td>\n",
       "      <td>0.192</td>\n",
       "      <td>-2.449</td>\n",
       "      <td>0.015</td>\n",
       "      <td>-0.846</td>\n",
       "      <td>-0.093</td>\n",
       "    </tr>\n",
       "    <tr>\n",
       "      <th>Q(\"Household Income Median\")</th>\n",
       "      <td>-0.7609</td>\n",
       "      <td>0.320</td>\n",
       "      <td>-2.376</td>\n",
       "      <td>0.018</td>\n",
       "      <td>-1.390</td>\n",
       "      <td>-0.132</td>\n",
       "    </tr>\n",
       "  </tbody>\n",
       "</table>\n",
       "</div>"
      ],
      "text/plain": [
       "                                       coef  std err        t  P>|t|  [0.025  \\\n",
       "Intercept                           81.2800    0.127  641.362  0.000  81.031   \n",
       "Q(\"Jewish\")                         -1.3009    0.141   -9.237  0.000  -1.578   \n",
       "Q(\"Aged 0-15\")                       0.6535    0.198    3.304  0.001   0.265   \n",
       "Q(\"Black or Black British\")         -1.9127    0.307   -6.234  0.000  -2.516   \n",
       "Q(\"Apprenticeship qualifications\")  -1.0206    0.379   -2.694  0.007  -1.765   \n",
       "Q(\"Hindu\")                          -0.4694    0.192   -2.449  0.015  -0.846   \n",
       "Q(\"Household Income Median\")        -0.7609    0.320   -2.376  0.018  -1.390   \n",
       "\n",
       "                                    0.975]  \n",
       "Intercept                           81.529  \n",
       "Q(\"Jewish\")                         -1.024  \n",
       "Q(\"Aged 0-15\")                       1.042  \n",
       "Q(\"Black or Black British\")         -1.310  \n",
       "Q(\"Apprenticeship qualifications\")  -0.276  \n",
       "Q(\"Hindu\")                          -0.093  \n",
       "Q(\"Household Income Median\")        -0.132  "
      ]
     },
     "execution_count": 33,
     "metadata": {},
     "output_type": "execute_result"
    }
   ],
   "source": [
    "target = 'energy_fat'\n",
    "df_enerfy_fat = get_label_summary(target, selected_cols_best[target])\n",
    "df_enerfy_fat"
   ]
  },
  {
   "cell_type": "code",
   "execution_count": 34,
   "metadata": {},
   "outputs": [
    {
     "name": "stdout",
     "output_type": "stream",
     "text": [
      "repres = 0.1, 0.4013320874833659 -0.9389850366156258 0.7621610093774162\n",
      "repres = 0.2, 0.298241076456502 -0.4407362750432928 0.6371881227330431\n",
      "repres = 0.30000000000000004, 0.2983033766264181 -0.2712479514677719 0.5821194903428604\n",
      "repres = 0.4, 0.2721189096511993 -0.23366702439548415 0.5290468781646255\n",
      "repres = 0.5, 0.2717150945553476 -0.07283925760826238 0.4800579256430122\n",
      "repres = 0.6, 0.2626832218203095 -0.004124462729884426 0.4823276354231655\n",
      "repres = 0.7000000000000001, 0.2856102237174919 0.06202041428188576 0.4813235526607912\n",
      "repres = 0.8, 0.3023457664795702 0.07223611139018704 0.48308991723011796\n",
      "repres = 0.9, 0.3110680594702419 0.13865734025942444 0.4655653701892084\n",
      "repres = 1.0, 0.30977873452616245 0.14097609163460922 0.48217197277382884\n"
     ]
    }
   ],
   "source": [
    "selected_cols_very_best[target] = [actual_name(col) for col in list(df_enerfy_fat.index) if col != 'Intercept']\n",
    "n = len(df_ward_atlas)\n",
    "r2_estimators[target] = []\n",
    "r2_lower_CIs[target] = []\n",
    "r2_upper_CIs[target] = []\n",
    "for repres in repres_vals:\n",
    "    num_samples = int(n * repres)\n",
    "    r2_scores = get_r2_samples(target, selected_cols_very_best[target], df_ward_atlas[:num_samples])\n",
    "    estimator, lower_CI, upper_CI = estimate_from_samples(r2_scores)\n",
    "    print(f'repres = {repres},', estimator, lower_CI, upper_CI)\n",
    "    r2_estimators[target].append(estimator)\n",
    "    r2_lower_CIs[target].append(lower_CI)\n",
    "    r2_upper_CIs[target].append(upper_CI)\n",
    "r2_estimators[target] = np.array(r2_estimators[target])\n",
    "r2_lower_CIs[target] = np.array(r2_lower_CIs[target])\n",
    "r2_upper_CIs[target] = np.array(r2_upper_CIs[target])"
   ]
  },
  {
   "cell_type": "code",
   "execution_count": 35,
   "metadata": {
    "scrolled": true
   },
   "outputs": [
    {
     "data": {
      "text/plain": [
       "Text(0.5, 1.0, 'Linear model $R^2$-score for energy_fat predictiing')"
      ]
     },
     "execution_count": 35,
     "metadata": {},
     "output_type": "execute_result"
    },
    {
     "data": {
      "image/png": "[encoded data removed]",
      "text/plain": [
       "<Figure size 504x360 with 1 Axes>"
      ]
     },
     "metadata": {
      "needs_background": "light"
     },
     "output_type": "display_data"
    }
   ],
   "source": [
    "fog, ax = plt.subplots(1,1)\n",
    "ax.errorbar(repres_vals, r2_estimators[target], \n",
    "             yerr = [r2_estimators[target] - r2_lower_CIs[target], - r2_estimators[target] + r2_upper_CIs[target]], \n",
    "             capsize= 3)\n",
    "ax.set_xlabel('Representativeness')\n",
    "ax.set_ylabel('R2_score')\n",
    "ax.set_title(f'Linear model $R^2$-score for {target} predictiing')"
   ]
  },
  {
   "cell_type": "markdown",
   "metadata": {},
   "source": [
    "Statistically significant features (with p-value < 0.05): Black or Black British, Asian or Asian British (etnicities), Jewish, Muslim, No religion (religions), Level 1 qualifications, Aged 0-15. More precisely, we see that amount of consumed energy from fats depends on:\n",
    "1) Etnicity: less for Black or Black British, more for Asian or Asian British. <br>\n",
    "2) Religion: less for Jewish, more for Muslim and people with no religion. <br>\n",
    "3) Qualification: more for people with the lowest qualification. <br>\n",
    "4) Age: more for children (age 0-15)"
   ]
  },
  {
   "cell_type": "markdown",
   "metadata": {},
   "source": [
    "# Linear model for energy_saturate"
   ]
  },
  {
   "cell_type": "code",
   "execution_count": 36,
   "metadata": {},
   "outputs": [
    {
     "data": {
      "text/html": [
       "<div>\n",
       "<style scoped>\n",
       "    .dataframe tbody tr th:only-of-type {\n",
       "        vertical-align: middle;\n",
       "    }\n",
       "\n",
       "    .dataframe tbody tr th {\n",
       "        vertical-align: top;\n",
       "    }\n",
       "\n",
       "    .dataframe thead th {\n",
       "        text-align: right;\n",
       "    }\n",
       "</style>\n",
       "<table border=\"1\" class=\"dataframe\">\n",
       "  <thead>\n",
       "    <tr style=\"text-align: right;\">\n",
       "      <th></th>\n",
       "      <th>coef</th>\n",
       "      <th>std err</th>\n",
       "      <th>t</th>\n",
       "      <th>P&gt;|t|</th>\n",
       "      <th>[0.025</th>\n",
       "      <th>0.975]</th>\n",
       "    </tr>\n",
       "  </thead>\n",
       "  <tbody>\n",
       "    <tr>\n",
       "      <th>Intercept</th>\n",
       "      <td>31.9765</td>\n",
       "      <td>0.059</td>\n",
       "      <td>545.053</td>\n",
       "      <td>0.000</td>\n",
       "      <td>31.861</td>\n",
       "      <td>32.092</td>\n",
       "    </tr>\n",
       "    <tr>\n",
       "      <th>Q(\"Asian or Asian British\")</th>\n",
       "      <td>1.5893</td>\n",
       "      <td>0.233</td>\n",
       "      <td>6.829</td>\n",
       "      <td>0.000</td>\n",
       "      <td>1.132</td>\n",
       "      <td>2.047</td>\n",
       "    </tr>\n",
       "    <tr>\n",
       "      <th>Q(\"Muslim\")</th>\n",
       "      <td>0.7980</td>\n",
       "      <td>0.146</td>\n",
       "      <td>5.455</td>\n",
       "      <td>0.000</td>\n",
       "      <td>0.511</td>\n",
       "      <td>1.085</td>\n",
       "    </tr>\n",
       "    <tr>\n",
       "      <th>Q(\"White\")</th>\n",
       "      <td>1.8280</td>\n",
       "      <td>0.246</td>\n",
       "      <td>7.430</td>\n",
       "      <td>0.000</td>\n",
       "      <td>1.345</td>\n",
       "      <td>2.311</td>\n",
       "    </tr>\n",
       "    <tr>\n",
       "      <th>Q(\"Jewish\")</th>\n",
       "      <td>-0.3795</td>\n",
       "      <td>0.062</td>\n",
       "      <td>-6.091</td>\n",
       "      <td>0.000</td>\n",
       "      <td>-0.502</td>\n",
       "      <td>-0.257</td>\n",
       "    </tr>\n",
       "    <tr>\n",
       "      <th>Q(\"Aged 0-15\")</th>\n",
       "      <td>0.3670</td>\n",
       "      <td>0.085</td>\n",
       "      <td>4.333</td>\n",
       "      <td>0.000</td>\n",
       "      <td>0.201</td>\n",
       "      <td>0.533</td>\n",
       "    </tr>\n",
       "    <tr>\n",
       "      <th>Q(\"Mixed\")</th>\n",
       "      <td>0.3949</td>\n",
       "      <td>0.127</td>\n",
       "      <td>3.118</td>\n",
       "      <td>0.002</td>\n",
       "      <td>0.146</td>\n",
       "      <td>0.644</td>\n",
       "    </tr>\n",
       "  </tbody>\n",
       "</table>\n",
       "</div>"
      ],
      "text/plain": [
       "                                coef  std err        t  P>|t|  [0.025  0.975]\n",
       "Intercept                    31.9765    0.059  545.053  0.000  31.861  32.092\n",
       "Q(\"Asian or Asian British\")   1.5893    0.233    6.829  0.000   1.132   2.047\n",
       "Q(\"Muslim\")                   0.7980    0.146    5.455  0.000   0.511   1.085\n",
       "Q(\"White\")                    1.8280    0.246    7.430  0.000   1.345   2.311\n",
       "Q(\"Jewish\")                  -0.3795    0.062   -6.091  0.000  -0.502  -0.257\n",
       "Q(\"Aged 0-15\")                0.3670    0.085    4.333  0.000   0.201   0.533\n",
       "Q(\"Mixed\")                    0.3949    0.127    3.118  0.002   0.146   0.644"
      ]
     },
     "execution_count": 36,
     "metadata": {},
     "output_type": "execute_result"
    }
   ],
   "source": [
    "target = 'energy_saturate'\n",
    "df_enerfy_fat = get_label_summary(target, selected_cols_best[target])\n",
    "df_enerfy_fat"
   ]
  },
  {
   "cell_type": "code",
   "execution_count": 38,
   "metadata": {},
   "outputs": [
    {
     "name": "stdout",
     "output_type": "stream",
     "text": [
      "repres = 0.1, 0.3138889998369945 -1.5410011068419172 0.7856036707065213\n",
      "repres = 0.2, 0.15506438472108658 -0.6391806201981749 0.5576019141326605\n",
      "repres = 0.30000000000000004, 0.18471369110475344 -0.39882044808582373 0.5349950820411348\n",
      "repres = 0.4, 0.2192911449366397 -0.23838089520293648 0.5123853546537019\n",
      "repres = 0.5, 0.20124805623996023 -0.1453289593949154 0.4216634448775757\n",
      "repres = 0.6, 0.1676718252701046 -0.12883582392481174 0.40759845660338556\n",
      "repres = 0.7000000000000001, 0.23594670100783177 0.005193127717747048 0.43669296920266154\n",
      "repres = 0.8, 0.36533638072992486 0.12630153763674168 0.5820328085572135\n",
      "repres = 0.9, 0.3253643333615529 0.11318825126780652 0.5380891783720136\n",
      "repres = 1.0, 0.3210364311557834 0.1248359403704411 0.5338893788393364\n"
     ]
    }
   ],
   "source": [
    "selected_cols_very_best[target] = [actual_name(col) for col in list(df_enerfy_fat.index) if col != 'Intercept']\n",
    "n = len(df_ward_atlas)\n",
    "r2_estimators[target] = []\n",
    "r2_lower_CIs[target] = []\n",
    "r2_upper_CIs[target] = []\n",
    "for repres in repres_vals:\n",
    "    num_samples = int(n * repres)\n",
    "    r2_scores = get_r2_samples(target, selected_cols_very_best[target], df_ward_atlas[:num_samples])\n",
    "    estimator, lower_CI, upper_CI = estimate_from_samples(r2_scores)\n",
    "    print(f'repres = {repres},', estimator, lower_CI, upper_CI)\n",
    "    r2_estimators[target].append(estimator)\n",
    "    r2_lower_CIs[target].append(lower_CI)\n",
    "    r2_upper_CIs[target].append(upper_CI)\n",
    "r2_estimators[target] = np.array(r2_estimators[target])\n",
    "r2_lower_CIs[target] = np.array(r2_lower_CIs[target])\n",
    "r2_upper_CIs[target] = np.array(r2_upper_CIs[target])"
   ]
  },
  {
   "cell_type": "code",
   "execution_count": 39,
   "metadata": {},
   "outputs": [
    {
     "data": {
      "text/plain": [
       "Text(0.5, 1.0, 'Linear model $R^2$-score for energy_saturate predictiing')"
      ]
     },
     "execution_count": 39,
     "metadata": {},
     "output_type": "execute_result"
    },
    {
     "data": {
      "image/png": "[encoded data removed]",
      "text/plain": [
       "<Figure size 504x360 with 1 Axes>"
      ]
     },
     "metadata": {
      "needs_background": "light"
     },
     "output_type": "display_data"
    }
   ],
   "source": [
    "fog, ax = plt.subplots(1,1)\n",
    "ax.errorbar(repres_vals, r2_estimators[target], \n",
    "             yerr = [r2_estimators[target] - r2_lower_CIs[target], - r2_estimators[target] + r2_upper_CIs[target]], \n",
    "             capsize= 3)\n",
    "ax.set_xlabel('Representativeness')\n",
    "ax.set_ylabel('R2_score')\n",
    "ax.set_title(f'Linear model $R^2$-score for {target} predictiing')"
   ]
  },
  {
   "cell_type": "markdown",
   "metadata": {},
   "source": [
    "# Linear model for energy_sugar"
   ]
  },
  {
   "cell_type": "code",
   "execution_count": 40,
   "metadata": {},
   "outputs": [
    {
     "data": {
      "text/html": [
       "<div>\n",
       "<style scoped>\n",
       "    .dataframe tbody tr th:only-of-type {\n",
       "        vertical-align: middle;\n",
       "    }\n",
       "\n",
       "    .dataframe tbody tr th {\n",
       "        vertical-align: top;\n",
       "    }\n",
       "\n",
       "    .dataframe thead th {\n",
       "        text-align: right;\n",
       "    }\n",
       "</style>\n",
       "<table border=\"1\" class=\"dataframe\">\n",
       "  <thead>\n",
       "    <tr style=\"text-align: right;\">\n",
       "      <th></th>\n",
       "      <th>coef</th>\n",
       "      <th>std err</th>\n",
       "      <th>t</th>\n",
       "      <th>P&gt;|t|</th>\n",
       "      <th>[0.025</th>\n",
       "      <th>0.975]</th>\n",
       "    </tr>\n",
       "  </thead>\n",
       "  <tbody>\n",
       "    <tr>\n",
       "      <th>Intercept</th>\n",
       "      <td>41.1431</td>\n",
       "      <td>0.114</td>\n",
       "      <td>360.409</td>\n",
       "      <td>0.000</td>\n",
       "      <td>40.919</td>\n",
       "      <td>41.367</td>\n",
       "    </tr>\n",
       "    <tr>\n",
       "      <th>Q(\"Level 1 qualifications\")</th>\n",
       "      <td>2.4278</td>\n",
       "      <td>0.335</td>\n",
       "      <td>7.237</td>\n",
       "      <td>0.000</td>\n",
       "      <td>1.769</td>\n",
       "      <td>3.087</td>\n",
       "    </tr>\n",
       "    <tr>\n",
       "      <th>Q(\"Mixed\")</th>\n",
       "      <td>-0.4886</td>\n",
       "      <td>0.202</td>\n",
       "      <td>-2.418</td>\n",
       "      <td>0.016</td>\n",
       "      <td>-0.886</td>\n",
       "      <td>-0.092</td>\n",
       "    </tr>\n",
       "    <tr>\n",
       "      <th>Q(\"IOD AVG\")</th>\n",
       "      <td>-1.1550</td>\n",
       "      <td>0.303</td>\n",
       "      <td>-3.818</td>\n",
       "      <td>0.000</td>\n",
       "      <td>-1.749</td>\n",
       "      <td>-0.561</td>\n",
       "    </tr>\n",
       "    <tr>\n",
       "      <th>Q(\"Asian or Asian British\")</th>\n",
       "      <td>2.4324</td>\n",
       "      <td>0.388</td>\n",
       "      <td>6.271</td>\n",
       "      <td>0.000</td>\n",
       "      <td>1.670</td>\n",
       "      <td>3.195</td>\n",
       "    </tr>\n",
       "    <tr>\n",
       "      <th>Q(\"No religion\")</th>\n",
       "      <td>0.9193</td>\n",
       "      <td>0.238</td>\n",
       "      <td>3.860</td>\n",
       "      <td>0.000</td>\n",
       "      <td>0.451</td>\n",
       "      <td>1.387</td>\n",
       "    </tr>\n",
       "    <tr>\n",
       "      <th>Q(\"Hindu\")</th>\n",
       "      <td>-0.9713</td>\n",
       "      <td>0.248</td>\n",
       "      <td>-3.918</td>\n",
       "      <td>0.000</td>\n",
       "      <td>-1.458</td>\n",
       "      <td>-0.484</td>\n",
       "    </tr>\n",
       "    <tr>\n",
       "      <th>Q(\"Sikh\")</th>\n",
       "      <td>-0.3959</td>\n",
       "      <td>0.147</td>\n",
       "      <td>-2.690</td>\n",
       "      <td>0.007</td>\n",
       "      <td>-0.685</td>\n",
       "      <td>-0.107</td>\n",
       "    </tr>\n",
       "    <tr>\n",
       "      <th>Q(\"Jewish\")</th>\n",
       "      <td>-0.2948</td>\n",
       "      <td>0.133</td>\n",
       "      <td>-2.216</td>\n",
       "      <td>0.027</td>\n",
       "      <td>-0.556</td>\n",
       "      <td>-0.033</td>\n",
       "    </tr>\n",
       "  </tbody>\n",
       "</table>\n",
       "</div>"
      ],
      "text/plain": [
       "                                coef  std err        t  P>|t|  [0.025  0.975]\n",
       "Intercept                    41.1431    0.114  360.409  0.000  40.919  41.367\n",
       "Q(\"Level 1 qualifications\")   2.4278    0.335    7.237  0.000   1.769   3.087\n",
       "Q(\"Mixed\")                   -0.4886    0.202   -2.418  0.016  -0.886  -0.092\n",
       "Q(\"IOD AVG\")                 -1.1550    0.303   -3.818  0.000  -1.749  -0.561\n",
       "Q(\"Asian or Asian British\")   2.4324    0.388    6.271  0.000   1.670   3.195\n",
       "Q(\"No religion\")              0.9193    0.238    3.860  0.000   0.451   1.387\n",
       "Q(\"Hindu\")                   -0.9713    0.248   -3.918  0.000  -1.458  -0.484\n",
       "Q(\"Sikh\")                    -0.3959    0.147   -2.690  0.007  -0.685  -0.107\n",
       "Q(\"Jewish\")                  -0.2948    0.133   -2.216  0.027  -0.556  -0.033"
      ]
     },
     "execution_count": 40,
     "metadata": {},
     "output_type": "execute_result"
    }
   ],
   "source": [
    "target = 'energy_sugar'\n",
    "df_enerfy_fat = get_label_summary(target, selected_cols_best[target])\n",
    "df_enerfy_fat"
   ]
  },
  {
   "cell_type": "code",
   "execution_count": 41,
   "metadata": {},
   "outputs": [
    {
     "name": "stdout",
     "output_type": "stream",
     "text": [
      "repres = 0.1, 0.415311559615136 -1.9476716655868165 0.7577433619280928\n",
      "repres = 0.2, 0.5505941337605682 0.11214229063675651 0.7742034653232754\n",
      "repres = 0.30000000000000004, 0.5702562310402086 0.2539090342808563 0.7606873613617617\n",
      "repres = 0.4, 0.6061416783253335 0.3778038670356876 0.7529944494956341\n",
      "repres = 0.5, 0.6613418887002966 0.48973564117264323 0.7813443458086305\n",
      "repres = 0.6, 0.6469314766462699 0.36274054441757897 0.7708206580395562\n",
      "repres = 0.7000000000000001, 0.6449254213920228 0.39228041462076424 0.7615032917148226\n",
      "repres = 0.8, 0.6579033476886883 0.4118239030865469 0.7663983966422313\n",
      "repres = 0.9, 0.6217135536465094 0.4104312097202639 0.7435117571371801\n",
      "repres = 1.0, 0.6234135368037366 0.4196070624556105 0.728031595969\n"
     ]
    }
   ],
   "source": [
    "selected_cols_very_best[target] = [actual_name(col) for col in list(df_enerfy_fat.index) if col != 'Intercept']\n",
    "n = len(df_ward_atlas)\n",
    "r2_estimators[target] = []\n",
    "r2_lower_CIs[target] = []\n",
    "r2_upper_CIs[target] = []\n",
    "for repres in repres_vals:\n",
    "    num_samples = int(n * repres)\n",
    "    r2_scores = get_r2_samples(target, selected_cols_very_best[target], df_ward_atlas[:num_samples])\n",
    "    estimator, lower_CI, upper_CI = estimate_from_samples(r2_scores)\n",
    "    print(f'repres = {repres},', estimator, lower_CI, upper_CI)\n",
    "    r2_estimators[target].append(estimator)\n",
    "    r2_lower_CIs[target].append(lower_CI)\n",
    "    r2_upper_CIs[target].append(upper_CI)\n",
    "r2_estimators[target] = np.array(r2_estimators[target])\n",
    "r2_lower_CIs[target] = np.array(r2_lower_CIs[target])\n",
    "r2_upper_CIs[target] = np.array(r2_upper_CIs[target])"
   ]
  },
  {
   "cell_type": "code",
   "execution_count": 42,
   "metadata": {},
   "outputs": [
    {
     "data": {
      "text/plain": [
       "Text(0.5, 1.0, 'Linear model $R^2$-score for energy_sugar predictiing')"
      ]
     },
     "execution_count": 42,
     "metadata": {},
     "output_type": "execute_result"
    },
    {
     "data": {
      "image/png": "[encoded data removed]",
      "text/plain": [
       "<Figure size 504x360 with 1 Axes>"
      ]
     },
     "metadata": {
      "needs_background": "light"
     },
     "output_type": "display_data"
    }
   ],
   "source": [
    "fog, ax = plt.subplots(1,1)\n",
    "ax.errorbar(repres_vals, r2_estimators[target], \n",
    "             yerr = [r2_estimators[target] - r2_lower_CIs[target], - r2_estimators[target] + r2_upper_CIs[target]], \n",
    "             capsize= 3)\n",
    "ax.set_xlabel('Representativeness')\n",
    "ax.set_ylabel('R2_score')\n",
    "ax.set_title(f'Linear model $R^2$-score for {target} predictiing')"
   ]
  },
  {
   "cell_type": "markdown",
   "metadata": {},
   "source": [
    "# Linear model for energy_protein"
   ]
  },
  {
   "cell_type": "code",
   "execution_count": 43,
   "metadata": {},
   "outputs": [
    {
     "data": {
      "text/html": [
       "<div>\n",
       "<style scoped>\n",
       "    .dataframe tbody tr th:only-of-type {\n",
       "        vertical-align: middle;\n",
       "    }\n",
       "\n",
       "    .dataframe tbody tr th {\n",
       "        vertical-align: top;\n",
       "    }\n",
       "\n",
       "    .dataframe thead th {\n",
       "        text-align: right;\n",
       "    }\n",
       "</style>\n",
       "<table border=\"1\" class=\"dataframe\">\n",
       "  <thead>\n",
       "    <tr style=\"text-align: right;\">\n",
       "      <th></th>\n",
       "      <th>coef</th>\n",
       "      <th>std err</th>\n",
       "      <th>t</th>\n",
       "      <th>P&gt;|t|</th>\n",
       "      <th>[0.025</th>\n",
       "      <th>0.975]</th>\n",
       "    </tr>\n",
       "  </thead>\n",
       "  <tbody>\n",
       "    <tr>\n",
       "      <th>Intercept</th>\n",
       "      <td>21.0690</td>\n",
       "      <td>0.027</td>\n",
       "      <td>787.505</td>\n",
       "      <td>0.0</td>\n",
       "      <td>21.016</td>\n",
       "      <td>21.122</td>\n",
       "    </tr>\n",
       "    <tr>\n",
       "      <th>Q(\"Asian or Asian British\")</th>\n",
       "      <td>-0.5504</td>\n",
       "      <td>0.047</td>\n",
       "      <td>-11.757</td>\n",
       "      <td>0.0</td>\n",
       "      <td>-0.642</td>\n",
       "      <td>-0.458</td>\n",
       "    </tr>\n",
       "    <tr>\n",
       "      <th>Q(\"Jewish\")</th>\n",
       "      <td>-0.2922</td>\n",
       "      <td>0.027</td>\n",
       "      <td>-10.695</td>\n",
       "      <td>0.0</td>\n",
       "      <td>-0.346</td>\n",
       "      <td>-0.239</td>\n",
       "    </tr>\n",
       "    <tr>\n",
       "      <th>Q(\"Level 2 qualifications\")</th>\n",
       "      <td>-0.1750</td>\n",
       "      <td>0.029</td>\n",
       "      <td>-6.089</td>\n",
       "      <td>0.0</td>\n",
       "      <td>-0.231</td>\n",
       "      <td>-0.119</td>\n",
       "    </tr>\n",
       "  </tbody>\n",
       "</table>\n",
       "</div>"
      ],
      "text/plain": [
       "                                coef  std err        t  P>|t|  [0.025  0.975]\n",
       "Intercept                    21.0690    0.027  787.505    0.0  21.016  21.122\n",
       "Q(\"Asian or Asian British\")  -0.5504    0.047  -11.757    0.0  -0.642  -0.458\n",
       "Q(\"Jewish\")                  -0.2922    0.027  -10.695    0.0  -0.346  -0.239\n",
       "Q(\"Level 2 qualifications\")  -0.1750    0.029   -6.089    0.0  -0.231  -0.119"
      ]
     },
     "execution_count": 43,
     "metadata": {},
     "output_type": "execute_result"
    }
   ],
   "source": [
    "target = 'energy_protein'\n",
    "df_enerfy_fat = get_label_summary(target, selected_cols_best[target])\n",
    "df_enerfy_fat"
   ]
  },
  {
   "cell_type": "code",
   "execution_count": 44,
   "metadata": {},
   "outputs": [
    {
     "name": "stdout",
     "output_type": "stream",
     "text": [
      "repres = 0.1, 0.4468428376477297 -1.3673586351148033 0.7557015925882825\n",
      "repres = 0.2, 0.4708463065744406 -0.21657719663569708 0.7086448020915418\n",
      "repres = 0.30000000000000004, 0.5047235768155525 0.07173778583428159 0.7197087121151249\n",
      "repres = 0.4, 0.5356269128640151 0.18525113671808846 0.7179213536370161\n",
      "repres = 0.5, 0.6214692029476858 0.3635928828786781 0.7574358353967857\n",
      "repres = 0.6, 0.5821454828679693 0.3446961817382913 0.7312465363409153\n",
      "repres = 0.7000000000000001, 0.5730047203365699 0.3588432440134266 0.7079886562133366\n",
      "repres = 0.8, 0.6034708735514493 0.41193334886625554 0.7184110900428633\n",
      "repres = 0.9, 0.5660797609309945 0.3831313787228593 0.6875177598347906\n",
      "repres = 1.0, 0.551444838274951 0.37442508536904506 0.6724312158075956\n"
     ]
    }
   ],
   "source": [
    "selected_cols_very_best[target] = [actual_name(col) for col in list(df_enerfy_fat.index) if col != 'Intercept']\n",
    "n = len(df_ward_atlas)\n",
    "r2_estimators[target] = []\n",
    "r2_lower_CIs[target] = []\n",
    "r2_upper_CIs[target] = []\n",
    "for repres in repres_vals:\n",
    "    num_samples = int(n * repres)\n",
    "    r2_scores = get_r2_samples(target, selected_cols_very_best[target], df_ward_atlas[:num_samples])\n",
    "    estimator, lower_CI, upper_CI = estimate_from_samples(r2_scores)\n",
    "    print(f'repres = {repres},', estimator, lower_CI, upper_CI)\n",
    "    r2_estimators[target].append(estimator)\n",
    "    r2_lower_CIs[target].append(lower_CI)\n",
    "    r2_upper_CIs[target].append(upper_CI)\n",
    "r2_estimators[target] = np.array(r2_estimators[target])\n",
    "r2_lower_CIs[target] = np.array(r2_lower_CIs[target])\n",
    "r2_upper_CIs[target] = np.array(r2_upper_CIs[target])"
   ]
  },
  {
   "cell_type": "code",
   "execution_count": 45,
   "metadata": {},
   "outputs": [
    {
     "data": {
      "text/plain": [
       "Text(0.5, 1.0, 'Linear model $R^2$-score for energy_protein predictiing')"
      ]
     },
     "execution_count": 45,
     "metadata": {},
     "output_type": "execute_result"
    },
    {
     "data": {
      "image/png": "[encoded data removed]",
      "text/plain": [
       "<Figure size 504x360 with 1 Axes>"
      ]
     },
     "metadata": {
      "needs_background": "light"
     },
     "output_type": "display_data"
    }
   ],
   "source": [
    "fog, ax = plt.subplots(1,1)\n",
    "ax.errorbar(repres_vals, r2_estimators[target], \n",
    "             yerr = [r2_estimators[target] - r2_lower_CIs[target], - r2_estimators[target] + r2_upper_CIs[target]], \n",
    "             capsize= 3)\n",
    "ax.set_xlabel('Representativeness')\n",
    "ax.set_ylabel('R2_score')\n",
    "ax.set_title(f'Linear model $R^2$-score for {target} predictiing')"
   ]
  },
  {
   "cell_type": "markdown",
   "metadata": {},
   "source": [
    "# Linear model for energy_carb"
   ]
  },
  {
   "cell_type": "code",
   "execution_count": 46,
   "metadata": {},
   "outputs": [
    {
     "data": {
      "text/html": [
       "<div>\n",
       "<style scoped>\n",
       "    .dataframe tbody tr th:only-of-type {\n",
       "        vertical-align: middle;\n",
       "    }\n",
       "\n",
       "    .dataframe tbody tr th {\n",
       "        vertical-align: top;\n",
       "    }\n",
       "\n",
       "    .dataframe thead th {\n",
       "        text-align: right;\n",
       "    }\n",
       "</style>\n",
       "<table border=\"1\" class=\"dataframe\">\n",
       "  <thead>\n",
       "    <tr style=\"text-align: right;\">\n",
       "      <th></th>\n",
       "      <th>coef</th>\n",
       "      <th>std err</th>\n",
       "      <th>t</th>\n",
       "      <th>P&gt;|t|</th>\n",
       "      <th>[0.025</th>\n",
       "      <th>0.975]</th>\n",
       "    </tr>\n",
       "  </thead>\n",
       "  <tbody>\n",
       "    <tr>\n",
       "      <th>Intercept</th>\n",
       "      <td>73.0494</td>\n",
       "      <td>0.123</td>\n",
       "      <td>591.544</td>\n",
       "      <td>0.000</td>\n",
       "      <td>72.807</td>\n",
       "      <td>73.292</td>\n",
       "    </tr>\n",
       "    <tr>\n",
       "      <th>Q(\"Level 1 qualifications\")</th>\n",
       "      <td>1.4988</td>\n",
       "      <td>0.432</td>\n",
       "      <td>3.472</td>\n",
       "      <td>0.001</td>\n",
       "      <td>0.651</td>\n",
       "      <td>2.347</td>\n",
       "    </tr>\n",
       "    <tr>\n",
       "      <th>Q(\"Asian or Asian British\")</th>\n",
       "      <td>0.8307</td>\n",
       "      <td>0.394</td>\n",
       "      <td>2.111</td>\n",
       "      <td>0.035</td>\n",
       "      <td>0.057</td>\n",
       "      <td>1.604</td>\n",
       "    </tr>\n",
       "    <tr>\n",
       "      <th>Q(\"Born in UK\")</th>\n",
       "      <td>0.9883</td>\n",
       "      <td>0.349</td>\n",
       "      <td>2.829</td>\n",
       "      <td>0.005</td>\n",
       "      <td>0.302</td>\n",
       "      <td>1.675</td>\n",
       "    </tr>\n",
       "    <tr>\n",
       "      <th>Q(\"Jewish\")</th>\n",
       "      <td>-0.9322</td>\n",
       "      <td>0.182</td>\n",
       "      <td>-5.124</td>\n",
       "      <td>0.000</td>\n",
       "      <td>-1.290</td>\n",
       "      <td>-0.575</td>\n",
       "    </tr>\n",
       "    <tr>\n",
       "      <th>Q(\"Household Income Median\")</th>\n",
       "      <td>-1.0000</td>\n",
       "      <td>0.293</td>\n",
       "      <td>-3.418</td>\n",
       "      <td>0.001</td>\n",
       "      <td>-1.575</td>\n",
       "      <td>-0.425</td>\n",
       "    </tr>\n",
       "    <tr>\n",
       "      <th>Q(\"Muslim\")</th>\n",
       "      <td>0.6509</td>\n",
       "      <td>0.245</td>\n",
       "      <td>2.655</td>\n",
       "      <td>0.008</td>\n",
       "      <td>0.169</td>\n",
       "      <td>1.133</td>\n",
       "    </tr>\n",
       "    <tr>\n",
       "      <th>Q(\"Mixed\")</th>\n",
       "      <td>-0.9457</td>\n",
       "      <td>0.224</td>\n",
       "      <td>-4.228</td>\n",
       "      <td>0.000</td>\n",
       "      <td>-1.385</td>\n",
       "      <td>-0.506</td>\n",
       "    </tr>\n",
       "    <tr>\n",
       "      <th>Q(\"Level 2 qualifications\")</th>\n",
       "      <td>1.8591</td>\n",
       "      <td>0.475</td>\n",
       "      <td>3.915</td>\n",
       "      <td>0.000</td>\n",
       "      <td>0.926</td>\n",
       "      <td>2.792</td>\n",
       "    </tr>\n",
       "  </tbody>\n",
       "</table>\n",
       "</div>"
      ],
      "text/plain": [
       "                                 coef  std err        t  P>|t|  [0.025  0.975]\n",
       "Intercept                     73.0494    0.123  591.544  0.000  72.807  73.292\n",
       "Q(\"Level 1 qualifications\")    1.4988    0.432    3.472  0.001   0.651   2.347\n",
       "Q(\"Asian or Asian British\")    0.8307    0.394    2.111  0.035   0.057   1.604\n",
       "Q(\"Born in UK\")                0.9883    0.349    2.829  0.005   0.302   1.675\n",
       "Q(\"Jewish\")                   -0.9322    0.182   -5.124  0.000  -1.290  -0.575\n",
       "Q(\"Household Income Median\")  -1.0000    0.293   -3.418  0.001  -1.575  -0.425\n",
       "Q(\"Muslim\")                    0.6509    0.245    2.655  0.008   0.169   1.133\n",
       "Q(\"Mixed\")                    -0.9457    0.224   -4.228  0.000  -1.385  -0.506\n",
       "Q(\"Level 2 qualifications\")    1.8591    0.475    3.915  0.000   0.926   2.792"
      ]
     },
     "execution_count": 46,
     "metadata": {},
     "output_type": "execute_result"
    }
   ],
   "source": [
    "target = 'energy_carb'\n",
    "df_enerfy_fat = get_label_summary(target, selected_cols_best[target])\n",
    "df_enerfy_fat"
   ]
  },
  {
   "cell_type": "code",
   "execution_count": 47,
   "metadata": {},
   "outputs": [
    {
     "name": "stdout",
     "output_type": "stream",
     "text": [
      "repres = 0.1, 0.759229722915987 0.34979996618571074 0.9077090158975331\n",
      "repres = 0.2, 0.8141541170023576 0.6145960408940536 0.9019246459660616\n",
      "repres = 0.30000000000000004, 0.8134315278708762 0.6727942189976934 0.8913965035858337\n",
      "repres = 0.4, 0.8202942873165836 0.7191667798546921 0.8813649867088129\n",
      "repres = 0.5, 0.821451370703998 0.720216361160371 0.8804969276268954\n",
      "repres = 0.6, 0.7936967586329199 0.6824675598923693 0.8703974596967127\n",
      "repres = 0.7000000000000001, 0.7853491387322507 0.6897653786417393 0.854906496429565\n",
      "repres = 0.8, 0.7900673968516053 0.7028443701194111 0.8581198883005678\n",
      "repres = 0.9, 0.7677360065095546 0.6713004207449649 0.8331872074900026\n",
      "repres = 1.0, 0.7643255275320018 0.6861892817161701 0.8285190684879483\n"
     ]
    }
   ],
   "source": [
    "selected_cols_very_best[target] = [actual_name(col) for col in list(df_enerfy_fat.index) if col != 'Intercept']\n",
    "n = len(df_ward_atlas)\n",
    "r2_estimators[target] = []\n",
    "r2_lower_CIs[target] = []\n",
    "r2_upper_CIs[target] = []\n",
    "for repres in repres_vals:\n",
    "    num_samples = int(n * repres)\n",
    "    r2_scores = get_r2_samples(target, selected_cols_very_best[target], df_ward_atlas[:num_samples])\n",
    "    estimator, lower_CI, upper_CI = estimate_from_samples(r2_scores)\n",
    "    print(f'repres = {repres},', estimator, lower_CI, upper_CI)\n",
    "    r2_estimators[target].append(estimator)\n",
    "    r2_lower_CIs[target].append(lower_CI)\n",
    "    r2_upper_CIs[target].append(upper_CI)\n",
    "r2_estimators[target] = np.array(r2_estimators[target])\n",
    "r2_lower_CIs[target] = np.array(r2_lower_CIs[target])\n",
    "r2_upper_CIs[target] = np.array(r2_upper_CIs[target])"
   ]
  },
  {
   "cell_type": "code",
   "execution_count": 48,
   "metadata": {},
   "outputs": [
    {
     "data": {
      "text/plain": [
       "Text(0.5, 1.0, 'Linear model $R^2$-score for energy_carb predictiing')"
      ]
     },
     "execution_count": 48,
     "metadata": {},
     "output_type": "execute_result"
    },
    {
     "data": {
      "image/png": "[encoded data removed]",
      "text/plain": [
       "<Figure size 504x360 with 1 Axes>"
      ]
     },
     "metadata": {
      "needs_background": "light"
     },
     "output_type": "display_data"
    }
   ],
   "source": [
    "fog, ax = plt.subplots(1,1)\n",
    "ax.errorbar(repres_vals, r2_estimators[target], \n",
    "             yerr = [r2_estimators[target] - r2_lower_CIs[target], - r2_estimators[target] + r2_upper_CIs[target]], \n",
    "             capsize= 3)\n",
    "ax.set_xlabel('Representativeness')\n",
    "ax.set_ylabel('R2_score')\n",
    "ax.set_title(f'Linear model $R^2$-score for {target} predictiing')"
   ]
  },
  {
   "cell_type": "markdown",
   "metadata": {},
   "source": [
    "Statistically significant features (with p-value < 0.05): White, Mixed (etnicities), Jewish (religion), Born in UK, Limited activities, Level >=4 qualifications (i. e. maximum level of qualification). More precisely, we see that amount of energy consumed from carbohidrates depends on:\n",
    "1) Etnicity: less for white and (especially) mixed people than in average\n",
    "2) Religion: less for Jewish people\n",
    "3) Place of birth: more for people born in UK than for those who were born abroad\n",
    "4) Health state: less for people whose Day-to-day activities are limited a lot\n",
    "5) Qualification: less for highly qualified people, more for low qualified. Here results for 'No qualifications' may be skewed, because this category probably includes all children independently of their mental abilities."
   ]
  },
  {
   "cell_type": "markdown",
   "metadata": {},
   "source": [
    "# Linear model for energy_fibre"
   ]
  },
  {
   "cell_type": "code",
   "execution_count": 49,
   "metadata": {},
   "outputs": [
    {
     "data": {
      "text/html": [
       "<div>\n",
       "<style scoped>\n",
       "    .dataframe tbody tr th:only-of-type {\n",
       "        vertical-align: middle;\n",
       "    }\n",
       "\n",
       "    .dataframe tbody tr th {\n",
       "        vertical-align: top;\n",
       "    }\n",
       "\n",
       "    .dataframe thead th {\n",
       "        text-align: right;\n",
       "    }\n",
       "</style>\n",
       "<table border=\"1\" class=\"dataframe\">\n",
       "  <thead>\n",
       "    <tr style=\"text-align: right;\">\n",
       "      <th></th>\n",
       "      <th>coef</th>\n",
       "      <th>std err</th>\n",
       "      <th>t</th>\n",
       "      <th>P&gt;|t|</th>\n",
       "      <th>[0.025</th>\n",
       "      <th>0.975]</th>\n",
       "    </tr>\n",
       "  </thead>\n",
       "  <tbody>\n",
       "    <tr>\n",
       "      <th>Intercept</th>\n",
       "      <td>3.0450</td>\n",
       "      <td>0.004</td>\n",
       "      <td>714.654</td>\n",
       "      <td>0.000</td>\n",
       "      <td>3.037</td>\n",
       "      <td>3.053</td>\n",
       "    </tr>\n",
       "    <tr>\n",
       "      <th>Q(\"IOD AVG\")</th>\n",
       "      <td>-0.0560</td>\n",
       "      <td>0.010</td>\n",
       "      <td>-5.489</td>\n",
       "      <td>0.000</td>\n",
       "      <td>-0.076</td>\n",
       "      <td>-0.036</td>\n",
       "    </tr>\n",
       "    <tr>\n",
       "      <th>Q(\"Black or Black British\")</th>\n",
       "      <td>-0.0535</td>\n",
       "      <td>0.023</td>\n",
       "      <td>-2.339</td>\n",
       "      <td>0.020</td>\n",
       "      <td>-0.099</td>\n",
       "      <td>-0.009</td>\n",
       "    </tr>\n",
       "    <tr>\n",
       "      <th>Q(\"Sikh\")</th>\n",
       "      <td>0.0356</td>\n",
       "      <td>0.005</td>\n",
       "      <td>7.041</td>\n",
       "      <td>0.000</td>\n",
       "      <td>0.026</td>\n",
       "      <td>0.045</td>\n",
       "    </tr>\n",
       "    <tr>\n",
       "      <th>Q(\"Level 1 qualifications\")</th>\n",
       "      <td>-0.0806</td>\n",
       "      <td>0.018</td>\n",
       "      <td>-4.599</td>\n",
       "      <td>0.000</td>\n",
       "      <td>-0.115</td>\n",
       "      <td>-0.046</td>\n",
       "    </tr>\n",
       "    <tr>\n",
       "      <th>Q(\"Asian or Asian British\")</th>\n",
       "      <td>-0.0680</td>\n",
       "      <td>0.030</td>\n",
       "      <td>-2.277</td>\n",
       "      <td>0.023</td>\n",
       "      <td>-0.127</td>\n",
       "      <td>-0.009</td>\n",
       "    </tr>\n",
       "    <tr>\n",
       "      <th>Q(\"Household Income Median\")</th>\n",
       "      <td>-0.0378</td>\n",
       "      <td>0.012</td>\n",
       "      <td>-3.230</td>\n",
       "      <td>0.001</td>\n",
       "      <td>-0.061</td>\n",
       "      <td>-0.015</td>\n",
       "    </tr>\n",
       "  </tbody>\n",
       "</table>\n",
       "</div>"
      ],
      "text/plain": [
       "                                coef  std err        t  P>|t|  [0.025  0.975]\n",
       "Intercept                     3.0450    0.004  714.654  0.000   3.037   3.053\n",
       "Q(\"IOD AVG\")                 -0.0560    0.010   -5.489  0.000  -0.076  -0.036\n",
       "Q(\"Black or Black British\")  -0.0535    0.023   -2.339  0.020  -0.099  -0.009\n",
       "Q(\"Sikh\")                     0.0356    0.005    7.041  0.000   0.026   0.045\n",
       "Q(\"Level 1 qualifications\")  -0.0806    0.018   -4.599  0.000  -0.115  -0.046\n",
       "Q(\"Asian or Asian British\")  -0.0680    0.030   -2.277  0.023  -0.127  -0.009\n",
       "Q(\"Household Income Median\") -0.0378    0.012   -3.230  0.001  -0.061  -0.015"
      ]
     },
     "execution_count": 49,
     "metadata": {},
     "output_type": "execute_result"
    }
   ],
   "source": [
    "target = 'energy_fibre'\n",
    "df_enerfy_fat = get_label_summary(target, selected_cols_best[target])\n",
    "df_enerfy_fat"
   ]
  },
  {
   "cell_type": "code",
   "execution_count": 50,
   "metadata": {},
   "outputs": [
    {
     "name": "stdout",
     "output_type": "stream",
     "text": [
      "repres = 0.1, 0.30044920937473507 -0.7457291196660236 0.812549163294913\n",
      "repres = 0.2, 0.48407570740634076 0.004456648499085114 0.7560804811769573\n",
      "repres = 0.30000000000000004, 0.46062256638893284 0.108485445633137 0.69374053201509\n",
      "repres = 0.4, 0.4908537718804166 0.2253947443921137 0.687388801307982\n",
      "repres = 0.5, 0.49440257080106337 0.2723314460071835 0.6592635352042089\n",
      "repres = 0.6, 0.4551575376516348 0.23497851610454334 0.6046007820930371\n",
      "repres = 0.7000000000000001, 0.49614610819129223 0.29843526676935583 0.6287446387570896\n",
      "repres = 0.8, 0.5664707798269175 0.40416386425369555 0.6861314082184741\n",
      "repres = 0.9, 0.5866881396849704 0.4398181590383844 0.6976499897782187\n",
      "repres = 1.0, 0.5822551233529378 0.4399453604453608 0.6894042658589188\n"
     ]
    }
   ],
   "source": [
    "selected_cols_very_best[target] = [actual_name(col) for col in list(df_enerfy_fat.index) if col != 'Intercept']\n",
    "n = len(df_ward_atlas)\n",
    "r2_estimators[target] = []\n",
    "r2_lower_CIs[target] = []\n",
    "r2_upper_CIs[target] = []\n",
    "for repres in repres_vals:\n",
    "    num_samples = int(n * repres)\n",
    "    r2_scores = get_r2_samples(target, selected_cols_very_best[target], df_ward_atlas[:num_samples])\n",
    "    estimator, lower_CI, upper_CI = estimate_from_samples(r2_scores)\n",
    "    print(f'repres = {repres},', estimator, lower_CI, upper_CI)\n",
    "    r2_estimators[target].append(estimator)\n",
    "    r2_lower_CIs[target].append(lower_CI)\n",
    "    r2_upper_CIs[target].append(upper_CI)\n",
    "r2_estimators[target] = np.array(r2_estimators[target])\n",
    "r2_lower_CIs[target] = np.array(r2_lower_CIs[target])\n",
    "r2_upper_CIs[target] = np.array(r2_upper_CIs[target])"
   ]
  },
  {
   "cell_type": "code",
   "execution_count": 51,
   "metadata": {},
   "outputs": [
    {
     "data": {
      "text/plain": [
       "Text(0.5, 1.0, 'Linear model $R^2$-score for energy_fibre predictiing')"
      ]
     },
     "execution_count": 51,
     "metadata": {},
     "output_type": "execute_result"
    },
    {
     "data": {
      "image/png": "[encoded data removed]",
      "text/plain": [
       "<Figure size 504x360 with 1 Axes>"
      ]
     },
     "metadata": {
      "needs_background": "light"
     },
     "output_type": "display_data"
    }
   ],
   "source": [
    "fog, ax = plt.subplots(1,1)\n",
    "ax.errorbar(repres_vals, r2_estimators[target], \n",
    "             yerr = [r2_estimators[target] - r2_lower_CIs[target], - r2_estimators[target] + r2_upper_CIs[target]], \n",
    "             capsize= 3)\n",
    "ax.set_xlabel('Representativeness')\n",
    "ax.set_ylabel('R2_score')\n",
    "ax.set_title(f'Linear model $R^2$-score for {target} predictiing')"
   ]
  },
  {
   "cell_type": "markdown",
   "metadata": {},
   "source": [
    "# Linear model for energy_alcohol"
   ]
  },
  {
   "cell_type": "code",
   "execution_count": 54,
   "metadata": {},
   "outputs": [
    {
     "data": {
      "text/html": [
       "<div>\n",
       "<style scoped>\n",
       "    .dataframe tbody tr th:only-of-type {\n",
       "        vertical-align: middle;\n",
       "    }\n",
       "\n",
       "    .dataframe tbody tr th {\n",
       "        vertical-align: top;\n",
       "    }\n",
       "\n",
       "    .dataframe thead th {\n",
       "        text-align: right;\n",
       "    }\n",
       "</style>\n",
       "<table border=\"1\" class=\"dataframe\">\n",
       "  <thead>\n",
       "    <tr style=\"text-align: right;\">\n",
       "      <th></th>\n",
       "      <th>coef</th>\n",
       "      <th>std err</th>\n",
       "      <th>t</th>\n",
       "      <th>P&gt;|t|</th>\n",
       "      <th>[0.025</th>\n",
       "      <th>0.975]</th>\n",
       "    </tr>\n",
       "  </thead>\n",
       "  <tbody>\n",
       "    <tr>\n",
       "      <th>Intercept</th>\n",
       "      <td>1.6577</td>\n",
       "      <td>0.013</td>\n",
       "      <td>129.685</td>\n",
       "      <td>0.0</td>\n",
       "      <td>1.633</td>\n",
       "      <td>1.683</td>\n",
       "    </tr>\n",
       "    <tr>\n",
       "      <th>Q(\"Level &gt;=4 qualifications\")</th>\n",
       "      <td>0.1831</td>\n",
       "      <td>0.015</td>\n",
       "      <td>12.341</td>\n",
       "      <td>0.0</td>\n",
       "      <td>0.154</td>\n",
       "      <td>0.212</td>\n",
       "    </tr>\n",
       "    <tr>\n",
       "      <th>Q(\"Muslim\")</th>\n",
       "      <td>-0.1413</td>\n",
       "      <td>0.023</td>\n",
       "      <td>-6.084</td>\n",
       "      <td>0.0</td>\n",
       "      <td>-0.187</td>\n",
       "      <td>-0.096</td>\n",
       "    </tr>\n",
       "    <tr>\n",
       "      <th>Q(\"Jewish\")</th>\n",
       "      <td>-0.0543</td>\n",
       "      <td>0.015</td>\n",
       "      <td>-3.678</td>\n",
       "      <td>0.0</td>\n",
       "      <td>-0.083</td>\n",
       "      <td>-0.025</td>\n",
       "    </tr>\n",
       "    <tr>\n",
       "      <th>Q(\"IOD AVG\")</th>\n",
       "      <td>0.0602</td>\n",
       "      <td>0.017</td>\n",
       "      <td>3.526</td>\n",
       "      <td>0.0</td>\n",
       "      <td>0.027</td>\n",
       "      <td>0.094</td>\n",
       "    </tr>\n",
       "  </tbody>\n",
       "</table>\n",
       "</div>"
      ],
      "text/plain": [
       "                                 coef  std err        t  P>|t|  [0.025  0.975]\n",
       "Intercept                      1.6577    0.013  129.685    0.0   1.633   1.683\n",
       "Q(\"Level >=4 qualifications\")  0.1831    0.015   12.341    0.0   0.154   0.212\n",
       "Q(\"Muslim\")                   -0.1413    0.023   -6.084    0.0  -0.187  -0.096\n",
       "Q(\"Jewish\")                   -0.0543    0.015   -3.678    0.0  -0.083  -0.025\n",
       "Q(\"IOD AVG\")                   0.0602    0.017    3.526    0.0   0.027   0.094"
      ]
     },
     "execution_count": 54,
     "metadata": {},
     "output_type": "execute_result"
    }
   ],
   "source": [
    "target = 'energy_alcohol'\n",
    "df_enerfy_fat = get_label_summary(target, selected_cols_best[target])\n",
    "df_enerfy_fat"
   ]
  },
  {
   "cell_type": "code",
   "execution_count": 55,
   "metadata": {},
   "outputs": [
    {
     "name": "stdout",
     "output_type": "stream",
     "text": [
      "repres = 0.1, 0.2083034420925272 -1.3137185451953486 0.5581570482979143\n",
      "repres = 0.2, 0.36408878513438464 -0.16269031694300362 0.6187164908590675\n",
      "repres = 0.30000000000000004, 0.2860255165973823 -0.06631409013827172 0.4883464663496234\n",
      "repres = 0.4, 0.37786430869540966 0.0625373736061754 0.5650710925754432\n",
      "repres = 0.5, 0.37887428019143277 0.12648168791140335 0.5336839125208463\n",
      "repres = 0.6, 0.3657363619865863 0.1663699402492912 0.5115562174542261\n",
      "repres = 0.7000000000000001, 0.3262222107757805 0.11702486395853517 0.4726578717486587\n",
      "repres = 0.8, 0.3663120781058519 0.18216369505969499 0.5012001838761129\n",
      "repres = 0.9, 0.3669765735860637 0.1724412003538338 0.49666482877513296\n",
      "repres = 1.0, 0.3821229294990842 0.22473180437801477 0.5093891943189996\n"
     ]
    }
   ],
   "source": [
    "selected_cols_very_best[target] = [actual_name(col) for col in list(df_enerfy_fat.index) if col != 'Intercept']\n",
    "n = len(df_ward_atlas)\n",
    "r2_estimators[target] = []\n",
    "r2_lower_CIs[target] = []\n",
    "r2_upper_CIs[target] = []\n",
    "for repres in repres_vals:\n",
    "    num_samples = int(n * repres)\n",
    "    r2_scores = get_r2_samples(target, selected_cols_very_best[target], df_ward_atlas[:num_samples])\n",
    "    estimator, lower_CI, upper_CI = estimate_from_samples(r2_scores)\n",
    "    print(f'repres = {repres},', estimator, lower_CI, upper_CI)\n",
    "    r2_estimators[target].append(estimator)\n",
    "    r2_lower_CIs[target].append(lower_CI)\n",
    "    r2_upper_CIs[target].append(upper_CI)\n",
    "r2_estimators[target] = np.array(r2_estimators[target])\n",
    "r2_lower_CIs[target] = np.array(r2_lower_CIs[target])\n",
    "r2_upper_CIs[target] = np.array(r2_upper_CIs[target])"
   ]
  },
  {
   "cell_type": "code",
   "execution_count": 56,
   "metadata": {},
   "outputs": [
    {
     "data": {
      "text/plain": [
       "Text(0.5, 1.0, 'Linear model $R^2$-score for energy_alcohol predictiing')"
      ]
     },
     "execution_count": 56,
     "metadata": {},
     "output_type": "execute_result"
    },
    {
     "data": {
      "image/png": "[encoded data removed]",
      "text/plain": [
       "<Figure size 504x360 with 1 Axes>"
      ]
     },
     "metadata": {
      "needs_background": "light"
     },
     "output_type": "display_data"
    }
   ],
   "source": [
    "fog, ax = plt.subplots(1,1)\n",
    "ax.errorbar(repres_vals, r2_estimators[target], \n",
    "             yerr = [r2_estimators[target] - r2_lower_CIs[target], - r2_estimators[target] + r2_upper_CIs[target]], \n",
    "             capsize= 3)\n",
    "ax.set_xlabel('Representativeness')\n",
    "ax.set_ylabel('R2_score')\n",
    "ax.set_title(f'Linear model $R^2$-score for {target} predictiing')"
   ]
  },
  {
   "cell_type": "markdown",
   "metadata": {},
   "source": [
    "# Linear model for energy_tot"
   ]
  },
  {
   "cell_type": "code",
   "execution_count": 57,
   "metadata": {},
   "outputs": [
    {
     "data": {
      "text/html": [
       "<div>\n",
       "<style scoped>\n",
       "    .dataframe tbody tr th:only-of-type {\n",
       "        vertical-align: middle;\n",
       "    }\n",
       "\n",
       "    .dataframe tbody tr th {\n",
       "        vertical-align: top;\n",
       "    }\n",
       "\n",
       "    .dataframe thead th {\n",
       "        text-align: right;\n",
       "    }\n",
       "</style>\n",
       "<table border=\"1\" class=\"dataframe\">\n",
       "  <thead>\n",
       "    <tr style=\"text-align: right;\">\n",
       "      <th></th>\n",
       "      <th>coef</th>\n",
       "      <th>std err</th>\n",
       "      <th>t</th>\n",
       "      <th>P&gt;|t|</th>\n",
       "      <th>[0.025</th>\n",
       "      <th>0.975]</th>\n",
       "    </tr>\n",
       "  </thead>\n",
       "  <tbody>\n",
       "    <tr>\n",
       "      <th>Intercept</th>\n",
       "      <td>180.0912</td>\n",
       "      <td>0.212</td>\n",
       "      <td>851.441</td>\n",
       "      <td>0.000</td>\n",
       "      <td>179.676</td>\n",
       "      <td>180.507</td>\n",
       "    </tr>\n",
       "    <tr>\n",
       "      <th>Q(\"Level 1 qualifications\")</th>\n",
       "      <td>3.6468</td>\n",
       "      <td>0.369</td>\n",
       "      <td>9.875</td>\n",
       "      <td>0.000</td>\n",
       "      <td>2.921</td>\n",
       "      <td>4.372</td>\n",
       "    </tr>\n",
       "    <tr>\n",
       "      <th>Q(\"Jewish\")</th>\n",
       "      <td>-2.2548</td>\n",
       "      <td>0.219</td>\n",
       "      <td>-10.276</td>\n",
       "      <td>0.000</td>\n",
       "      <td>-2.686</td>\n",
       "      <td>-1.824</td>\n",
       "    </tr>\n",
       "    <tr>\n",
       "      <th>Q(\"Mixed\")</th>\n",
       "      <td>-2.3628</td>\n",
       "      <td>0.261</td>\n",
       "      <td>-9.050</td>\n",
       "      <td>0.000</td>\n",
       "      <td>-2.876</td>\n",
       "      <td>-1.850</td>\n",
       "    </tr>\n",
       "    <tr>\n",
       "      <th>Q(\"Household Income Median\")</th>\n",
       "      <td>-1.0770</td>\n",
       "      <td>0.377</td>\n",
       "      <td>-2.858</td>\n",
       "      <td>0.004</td>\n",
       "      <td>-1.817</td>\n",
       "      <td>-0.337</td>\n",
       "    </tr>\n",
       "  </tbody>\n",
       "</table>\n",
       "</div>"
      ],
      "text/plain": [
       "                                  coef  std err        t  P>|t|   [0.025  \\\n",
       "Intercept                     180.0912    0.212  851.441  0.000  179.676   \n",
       "Q(\"Level 1 qualifications\")     3.6468    0.369    9.875  0.000    2.921   \n",
       "Q(\"Jewish\")                    -2.2548    0.219  -10.276  0.000   -2.686   \n",
       "Q(\"Mixed\")                     -2.3628    0.261   -9.050  0.000   -2.876   \n",
       "Q(\"Household Income Median\")   -1.0770    0.377   -2.858  0.004   -1.817   \n",
       "\n",
       "                               0.975]  \n",
       "Intercept                     180.507  \n",
       "Q(\"Level 1 qualifications\")     4.372  \n",
       "Q(\"Jewish\")                    -1.824  \n",
       "Q(\"Mixed\")                     -1.850  \n",
       "Q(\"Household Income Median\")   -0.337  "
      ]
     },
     "execution_count": 57,
     "metadata": {},
     "output_type": "execute_result"
    }
   ],
   "source": [
    "target = 'energy_tot'\n",
    "df_enerfy_fat = get_label_summary(target, selected_cols_best[target])\n",
    "df_enerfy_fat"
   ]
  },
  {
   "cell_type": "code",
   "execution_count": 58,
   "metadata": {},
   "outputs": [
    {
     "name": "stdout",
     "output_type": "stream",
     "text": [
      "repres = 0.1, 0.8010423302171796 0.49703420471973725 0.9301162186014276\n",
      "repres = 0.2, 0.7694607351649364 0.527192326484349 0.8882329138823194\n",
      "repres = 0.30000000000000004, 0.7522198737168699 0.544261564773393 0.8597640504619983\n",
      "repres = 0.4, 0.7152411378241537 0.5480319074076372 0.8173227490360336\n",
      "repres = 0.5, 0.7226808466449581 0.5777877196331959 0.8071957443267915\n",
      "repres = 0.6, 0.6837895117735191 0.4784338761704632 0.7957485433901181\n",
      "repres = 0.7000000000000001, 0.6701094257718692 0.48747760758592196 0.7878037125070262\n",
      "repres = 0.8, 0.6542935659821357 0.49290981929668454 0.7654881930124853\n",
      "repres = 0.9, 0.614913096218644 0.4690428746893126 0.7304581262312942\n",
      "repres = 1.0, 0.6306629944160835 0.4933106089782042 0.7331275754605281\n"
     ]
    }
   ],
   "source": [
    "selected_cols_very_best[target] = [actual_name(col) for col in list(df_enerfy_fat.index) if col != 'Intercept']\n",
    "n = len(df_ward_atlas)\n",
    "r2_estimators[target] = []\n",
    "r2_lower_CIs[target] = []\n",
    "r2_upper_CIs[target] = []\n",
    "for repres in repres_vals:\n",
    "    num_samples = int(n * repres)\n",
    "    r2_scores = get_r2_samples(target, selected_cols_very_best[target], df_ward_atlas[:num_samples])\n",
    "    estimator, lower_CI, upper_CI = estimate_from_samples(r2_scores)\n",
    "    print(f'repres = {repres},', estimator, lower_CI, upper_CI)\n",
    "    r2_estimators[target].append(estimator)\n",
    "    r2_lower_CIs[target].append(lower_CI)\n",
    "    r2_upper_CIs[target].append(upper_CI)\n",
    "r2_estimators[target] = np.array(r2_estimators[target])\n",
    "r2_lower_CIs[target] = np.array(r2_lower_CIs[target])\n",
    "r2_upper_CIs[target] = np.array(r2_upper_CIs[target])"
   ]
  },
  {
   "cell_type": "code",
   "execution_count": 59,
   "metadata": {},
   "outputs": [
    {
     "data": {
      "text/plain": [
       "Text(0.5, 1.0, 'Linear model $R^2$-score for energy_tot predictiing')"
      ]
     },
     "execution_count": 59,
     "metadata": {},
     "output_type": "execute_result"
    },
    {
     "data": {
      "image/png": "[encoded data removed]",
      "text/plain": [
       "<Figure size 504x360 with 1 Axes>"
      ]
     },
     "metadata": {
      "needs_background": "light"
     },
     "output_type": "display_data"
    }
   ],
   "source": [
    "fog, ax = plt.subplots(1,1)\n",
    "ax.errorbar(repres_vals, r2_estimators[target], \n",
    "             yerr = [r2_estimators[target] - r2_lower_CIs[target], - r2_estimators[target] + r2_upper_CIs[target]], \n",
    "             capsize= 3)\n",
    "ax.set_xlabel('Representativeness')\n",
    "ax.set_ylabel('R2_score')\n",
    "ax.set_title(f'Linear model $R^2$-score for {target} predictiing')"
   ]
  },
  {
   "cell_type": "code",
   "execution_count": 60,
   "metadata": {},
   "outputs": [
    {
     "data": {
      "image/png": "[encoded data removed]",
      "text/plain": [
       "<Figure size 504x360 with 1 Axes>"
      ]
     },
     "metadata": {
      "needs_background": "light"
     },
     "output_type": "display_data"
    }
   ],
   "source": [
    "fog, ax = plt.subplots(1,1)\n",
    "for nutrient in r2_estimators.keys():\n",
    "    ax.plot(repres_vals, r2_estimators[nutrient], label=nutrient)\n",
    "ax.set_xlabel('Representativeness')\n",
    "ax.set_ylabel('R2_score')\n",
    "ax.set_title(f'R2 score for energy nutrients')\n",
    "ax.legend()\n",
    "plt.show()"
   ]
  },
  {
   "cell_type": "markdown",
   "metadata": {},
   "source": [
    "# Predicting a fraction of each nutrient energy"
   ]
  },
  {
   "cell_type": "code",
   "execution_count": null,
   "metadata": {},
   "outputs": [],
   "source": [
    "target_cols = ['f_energy_fat', 'f_energy_saturate', \n",
    "                 'f_energy_sugar', 'f_energy_protein', 'f_energy_carb', 'f_energy_fibre', 'f_energy_alcohol']\n",
    "global_test_best = {}\n",
    "selected_cols_best = {}\n",
    "energy_corr = {}\n",
    "for y in target_cols:\n",
    "    energy_corr[y] = df_ward_atlas[all_features].corrwith(df_ward_atlas[y], method='pearson')\n",
    "    energy_corr[y] = energy_corr[y].sort_values(ascending=False, key=np.abs)\n",
    "    #get rid of linearly dependent cols\n",
    "    for cols in [age_cols, ethnicities_cols, religion_cols, born_cols, qualilication_cols]:\n",
    "        energy_corr[y].drop(energy_corr[y][cols].index[-1], axis=0, inplace=True)\n",
    "    global_test_best[y], selected_cols_best[y]  = forward_feature_selection_brute_force(energy_corr[y], y)\n",
    "    print('{}: best r2 score = {:.5f}, num features = {}'.format(y, global_test_best[y], len(selected_cols_best[y])))"
   ]
  },
  {
   "cell_type": "code",
   "execution_count": 42,
   "metadata": {},
   "outputs": [],
   "source": [
    "f = open(\"r2_scores_fen.pkl\",\"wb\")\n",
    "pickle.dump(global_test_best,f)\n",
    "f.close()\n",
    "f = open(\"selected_cols_fen.pkl\",\"wb\")\n",
    "pickle.dump(selected_cols_best,f)\n",
    "f.close()"
   ]
  },
  {
   "cell_type": "code",
   "execution_count": 24,
   "metadata": {},
   "outputs": [],
   "source": [
    "f = open(\"r2_scores_fen.pkl\",\"rb\")\n",
    "global_test_best = pickle.load(f)\n",
    "f.close()\n",
    "f = open(\"selected_cols_fen.pkl\",\"rb\")\n",
    "selected_cols_best = pickle.load(f)\n",
    "f.close()"
   ]
  },
  {
   "cell_type": "code",
   "execution_count": 85,
   "metadata": {},
   "outputs": [],
   "source": [
    "selected_cols_very_best = {}\n",
    "r2_estimators = {}\n",
    "r2_lower_CIs = {}\n",
    "r2_upper_CIs = {}\n",
    "repres_vals = np.linspace(0.1,1,10)"
   ]
  },
  {
   "cell_type": "code",
   "execution_count": 30,
   "metadata": {},
   "outputs": [],
   "source": [
    "df_ward_atlas = df_ward_atlas.sort_values(by='representativeness_norm', ascending=False)"
   ]
  },
  {
   "cell_type": "markdown",
   "metadata": {},
   "source": [
    "# Linear model for f_energy_fat"
   ]
  },
  {
   "cell_type": "code",
   "execution_count": 35,
   "metadata": {},
   "outputs": [
    {
     "data": {
      "text/html": [
       "<div>\n",
       "<style scoped>\n",
       "    .dataframe tbody tr th:only-of-type {\n",
       "        vertical-align: middle;\n",
       "    }\n",
       "\n",
       "    .dataframe tbody tr th {\n",
       "        vertical-align: top;\n",
       "    }\n",
       "\n",
       "    .dataframe thead th {\n",
       "        text-align: right;\n",
       "    }\n",
       "</style>\n",
       "<table border=\"1\" class=\"dataframe\">\n",
       "  <thead>\n",
       "    <tr style=\"text-align: right;\">\n",
       "      <th></th>\n",
       "      <th>coef</th>\n",
       "      <th>std err</th>\n",
       "      <th>t</th>\n",
       "      <th>P&gt;|t|</th>\n",
       "      <th>[0.025</th>\n",
       "      <th>0.975]</th>\n",
       "    </tr>\n",
       "  </thead>\n",
       "  <tbody>\n",
       "    <tr>\n",
       "      <th>Intercept</th>\n",
       "      <td>0.4515</td>\n",
       "      <td>0.000</td>\n",
       "      <td>1209.733</td>\n",
       "      <td>0.000</td>\n",
       "      <td>0.451</td>\n",
       "      <td>0.452</td>\n",
       "    </tr>\n",
       "    <tr>\n",
       "      <th>Q(\"Level 2 qualifications\")</th>\n",
       "      <td>-0.0083</td>\n",
       "      <td>0.000</td>\n",
       "      <td>-17.888</td>\n",
       "      <td>0.000</td>\n",
       "      <td>-0.009</td>\n",
       "      <td>-0.007</td>\n",
       "    </tr>\n",
       "    <tr>\n",
       "      <th>Q(\"Black or Black British\")</th>\n",
       "      <td>-0.0026</td>\n",
       "      <td>0.000</td>\n",
       "      <td>-5.615</td>\n",
       "      <td>0.000</td>\n",
       "      <td>-0.003</td>\n",
       "      <td>-0.002</td>\n",
       "    </tr>\n",
       "    <tr>\n",
       "      <th>Q(\"Aged 0-15\")</th>\n",
       "      <td>0.0017</td>\n",
       "      <td>0.001</td>\n",
       "      <td>3.226</td>\n",
       "      <td>0.001</td>\n",
       "      <td>0.001</td>\n",
       "      <td>0.003</td>\n",
       "    </tr>\n",
       "  </tbody>\n",
       "</table>\n",
       "</div>"
      ],
      "text/plain": [
       "                               coef  std err         t  P>|t|  [0.025  0.975]\n",
       "Intercept                    0.4515    0.000  1209.733  0.000   0.451   0.452\n",
       "Q(\"Level 2 qualifications\") -0.0083    0.000   -17.888  0.000  -0.009  -0.007\n",
       "Q(\"Black or Black British\") -0.0026    0.000    -5.615  0.000  -0.003  -0.002\n",
       "Q(\"Aged 0-15\")               0.0017    0.001     3.226  0.001   0.001   0.003"
      ]
     },
     "execution_count": 35,
     "metadata": {},
     "output_type": "execute_result"
    }
   ],
   "source": [
    "target = 'f_energy_fat'\n",
    "df_enerfy_fat = get_label_summary(target, selected_cols_best[target])\n",
    "df_enerfy_fat"
   ]
  },
  {
   "cell_type": "code",
   "execution_count": 87,
   "metadata": {},
   "outputs": [
    {
     "data": {
      "text/html": [
       "<div>\n",
       "<style scoped>\n",
       "    .dataframe tbody tr th:only-of-type {\n",
       "        vertical-align: middle;\n",
       "    }\n",
       "\n",
       "    .dataframe tbody tr th {\n",
       "        vertical-align: top;\n",
       "    }\n",
       "\n",
       "    .dataframe thead th {\n",
       "        text-align: right;\n",
       "    }\n",
       "</style>\n",
       "<table border=\"1\" class=\"dataframe\">\n",
       "  <thead>\n",
       "    <tr style=\"text-align: right;\">\n",
       "      <th></th>\n",
       "      <th>coef</th>\n",
       "      <th>std err</th>\n",
       "      <th>t</th>\n",
       "      <th>P&gt;|t|</th>\n",
       "      <th>[0.025</th>\n",
       "      <th>0.975]</th>\n",
       "    </tr>\n",
       "  </thead>\n",
       "  <tbody>\n",
       "    <tr>\n",
       "      <th>Intercept</th>\n",
       "      <td>0.4515</td>\n",
       "      <td>0.000</td>\n",
       "      <td>1209.733</td>\n",
       "      <td>0.000</td>\n",
       "      <td>0.451</td>\n",
       "      <td>0.452</td>\n",
       "    </tr>\n",
       "    <tr>\n",
       "      <th>Q(\"Level 2 qualifications\")</th>\n",
       "      <td>-0.0083</td>\n",
       "      <td>0.000</td>\n",
       "      <td>-17.888</td>\n",
       "      <td>0.000</td>\n",
       "      <td>-0.009</td>\n",
       "      <td>-0.007</td>\n",
       "    </tr>\n",
       "    <tr>\n",
       "      <th>Q(\"Black or Black British\")</th>\n",
       "      <td>-0.0026</td>\n",
       "      <td>0.000</td>\n",
       "      <td>-5.615</td>\n",
       "      <td>0.000</td>\n",
       "      <td>-0.003</td>\n",
       "      <td>-0.002</td>\n",
       "    </tr>\n",
       "    <tr>\n",
       "      <th>Q(\"Aged 0-15\")</th>\n",
       "      <td>0.0017</td>\n",
       "      <td>0.001</td>\n",
       "      <td>3.226</td>\n",
       "      <td>0.001</td>\n",
       "      <td>0.001</td>\n",
       "      <td>0.003</td>\n",
       "    </tr>\n",
       "  </tbody>\n",
       "</table>\n",
       "</div>"
      ],
      "text/plain": [
       "                               coef  std err         t  P>|t|  [0.025  0.975]\n",
       "Intercept                    0.4515    0.000  1209.733  0.000   0.451   0.452\n",
       "Q(\"Level 2 qualifications\") -0.0083    0.000   -17.888  0.000  -0.009  -0.007\n",
       "Q(\"Black or Black British\") -0.0026    0.000    -5.615  0.000  -0.003  -0.002\n",
       "Q(\"Aged 0-15\")               0.0017    0.001     3.226  0.001   0.001   0.003"
      ]
     },
     "execution_count": 87,
     "metadata": {},
     "output_type": "execute_result"
    }
   ],
   "source": [
    "df_enerfy_fat = get_label_summary(target, selected_cols_very_best[target])\n",
    "df_enerfy_fat"
   ]
  },
  {
   "cell_type": "code",
   "execution_count": 86,
   "metadata": {},
   "outputs": [
    {
     "name": "stdout",
     "output_type": "stream",
     "text": [
      "repres = 0.1, 0.6028867507813203 -0.3977748190908583 0.8671790031875277\n",
      "repres = 0.2, 0.5255109362700828 0.033306416074178946 0.7428129304761846\n",
      "repres = 0.30000000000000004, 0.5069400741945398 0.12515210184727177 0.7141923763537741\n",
      "repres = 0.4, 0.5316146615962866 0.2720287853328244 0.698749607417501\n",
      "repres = 0.5, 0.5180544250973406 0.28557634873229076 0.667564093823978\n",
      "repres = 0.6, 0.5218888006919535 0.3304210231110205 0.6538001671209343\n",
      "repres = 0.7000000000000001, 0.530349658218568 0.3435389628528571 0.6503021636328208\n",
      "repres = 0.8, 0.5266487352014199 0.35848227231350704 0.6422083471109996\n",
      "repres = 0.9, 0.4829546019988966 0.28835358348952944 0.619588234804157\n",
      "repres = 1.0, 0.4402185861938559 0.2705610037827012 0.5857494412612854\n"
     ]
    }
   ],
   "source": [
    "selected_cols_very_best[target] = [actual_name(col) for col in list(df_enerfy_fat.index) if col != 'Intercept']\n",
    "n = len(df_ward_atlas)\n",
    "r2_estimators[target] = []\n",
    "r2_lower_CIs[target] = []\n",
    "r2_upper_CIs[target] = []\n",
    "for repres in repres_vals:\n",
    "    num_samples = int(n * repres)\n",
    "    r2_scores = get_r2_samples(target, selected_cols_very_best[target], df_ward_atlas[:num_samples])\n",
    "    estimator, lower_CI, upper_CI = estimate_from_samples(r2_scores)\n",
    "    print(f'repres = {repres},', estimator, lower_CI, upper_CI)\n",
    "    r2_estimators[target].append(estimator)\n",
    "    r2_lower_CIs[target].append(lower_CI)\n",
    "    r2_upper_CIs[target].append(upper_CI)\n",
    "r2_estimators[target] = np.array(r2_estimators[target])\n",
    "r2_lower_CIs[target] = np.array(r2_lower_CIs[target])\n",
    "r2_upper_CIs[target] = np.array(r2_upper_CIs[target])"
   ]
  },
  {
   "cell_type": "code",
   "execution_count": 83,
   "metadata": {},
   "outputs": [
    {
     "data": {
      "text/plain": [
       "Text(0.5, 1.0, 'Linear model $R^2$-score for f_energy_fat predictiing')"
      ]
     },
     "execution_count": 83,
     "metadata": {},
     "output_type": "execute_result"
    },
    {
     "data": {
      "image/png": "[encoded data removed]",
      "text/plain": [
       "<Figure size 504x360 with 1 Axes>"
      ]
     },
     "metadata": {
      "needs_background": "light"
     },
     "output_type": "display_data"
    }
   ],
   "source": [
    "fog, ax = plt.subplots(1,1)\n",
    "ax.errorbar(repres_vals, r2_estimators[target], \n",
    "             yerr = [r2_estimators[target] - r2_lower_CIs[target], - r2_estimators[target] + r2_upper_CIs[target]], \n",
    "             capsize= 3)\n",
    "ax.set_xlabel('Representativeness')\n",
    "ax.set_ylabel('R2_score')\n",
    "ax.set_title(f'Linear model $R^2$-score for {target} predictiing')"
   ]
  },
  {
   "cell_type": "markdown",
   "metadata": {},
   "source": [
    "Statistically significant features (with p-value < 0.05) are: Level 2 qualifications, Black or Black British, Born in UK, Aged 0-15, and Hindu. Thus, we see that the fraction of fat in consumed consumed food depends on:\n",
    "\n",
    "1) Qualification: people with low qualification tend to consume more fat <br>\n",
    "2) Etnicity: Black or Black British people tend to consume less fat <br>\n",
    "3) Place of birth: people born in UK tend to consume less fat <br>\n",
    "4) "
   ]
  },
  {
   "cell_type": "markdown",
   "metadata": {},
   "source": [
    "# Linear model for f_energy_saturate"
   ]
  },
  {
   "cell_type": "code",
   "execution_count": 91,
   "metadata": {},
   "outputs": [
    {
     "data": {
      "text/html": [
       "<div>\n",
       "<style scoped>\n",
       "    .dataframe tbody tr th:only-of-type {\n",
       "        vertical-align: middle;\n",
       "    }\n",
       "\n",
       "    .dataframe tbody tr th {\n",
       "        vertical-align: top;\n",
       "    }\n",
       "\n",
       "    .dataframe thead th {\n",
       "        text-align: right;\n",
       "    }\n",
       "</style>\n",
       "<table border=\"1\" class=\"dataframe\">\n",
       "  <thead>\n",
       "    <tr style=\"text-align: right;\">\n",
       "      <th></th>\n",
       "      <th>coef</th>\n",
       "      <th>std err</th>\n",
       "      <th>t</th>\n",
       "      <th>P&gt;|t|</th>\n",
       "      <th>[0.025</th>\n",
       "      <th>0.975]</th>\n",
       "    </tr>\n",
       "  </thead>\n",
       "  <tbody>\n",
       "    <tr>\n",
       "      <th>Intercept</th>\n",
       "      <td>0.1775</td>\n",
       "      <td>0.000</td>\n",
       "      <td>728.678</td>\n",
       "      <td>0.000</td>\n",
       "      <td>0.177</td>\n",
       "      <td>0.178</td>\n",
       "    </tr>\n",
       "    <tr>\n",
       "      <th>Q(\"Level 2 qualifications\")</th>\n",
       "      <td>-0.0025</td>\n",
       "      <td>0.001</td>\n",
       "      <td>-2.530</td>\n",
       "      <td>0.012</td>\n",
       "      <td>-0.005</td>\n",
       "      <td>-0.001</td>\n",
       "    </tr>\n",
       "    <tr>\n",
       "      <th>Q(\"Black or Black British\")</th>\n",
       "      <td>-0.0039</td>\n",
       "      <td>0.001</td>\n",
       "      <td>-7.265</td>\n",
       "      <td>0.000</td>\n",
       "      <td>-0.005</td>\n",
       "      <td>-0.003</td>\n",
       "    </tr>\n",
       "    <tr>\n",
       "      <th>Q(\"Mixed\")</th>\n",
       "      <td>0.0024</td>\n",
       "      <td>0.000</td>\n",
       "      <td>5.002</td>\n",
       "      <td>0.000</td>\n",
       "      <td>0.001</td>\n",
       "      <td>0.003</td>\n",
       "    </tr>\n",
       "    <tr>\n",
       "      <th>Q(\"Muslim\")</th>\n",
       "      <td>0.0024</td>\n",
       "      <td>0.001</td>\n",
       "      <td>4.491</td>\n",
       "      <td>0.000</td>\n",
       "      <td>0.001</td>\n",
       "      <td>0.003</td>\n",
       "    </tr>\n",
       "    <tr>\n",
       "      <th>Q(\"Level 3 qualifications\")</th>\n",
       "      <td>-0.0007</td>\n",
       "      <td>0.000</td>\n",
       "      <td>-2.736</td>\n",
       "      <td>0.006</td>\n",
       "      <td>-0.001</td>\n",
       "      <td>-0.000</td>\n",
       "    </tr>\n",
       "    <tr>\n",
       "      <th>Q(\"Other religions\")</th>\n",
       "      <td>0.0008</td>\n",
       "      <td>0.000</td>\n",
       "      <td>2.995</td>\n",
       "      <td>0.003</td>\n",
       "      <td>0.000</td>\n",
       "      <td>0.001</td>\n",
       "    </tr>\n",
       "  </tbody>\n",
       "</table>\n",
       "</div>"
      ],
      "text/plain": [
       "                               coef  std err        t  P>|t|  [0.025  0.975]\n",
       "Intercept                    0.1775    0.000  728.678  0.000   0.177   0.178\n",
       "Q(\"Level 2 qualifications\") -0.0025    0.001   -2.530  0.012  -0.005  -0.001\n",
       "Q(\"Black or Black British\") -0.0039    0.001   -7.265  0.000  -0.005  -0.003\n",
       "Q(\"Mixed\")                   0.0024    0.000    5.002  0.000   0.001   0.003\n",
       "Q(\"Muslim\")                  0.0024    0.001    4.491  0.000   0.001   0.003\n",
       "Q(\"Level 3 qualifications\") -0.0007    0.000   -2.736  0.006  -0.001  -0.000\n",
       "Q(\"Other religions\")         0.0008    0.000    2.995  0.003   0.000   0.001"
      ]
     },
     "execution_count": 91,
     "metadata": {},
     "output_type": "execute_result"
    }
   ],
   "source": [
    "target = 'f_energy_saturate'\n",
    "df_enerfy_fat = get_label_summary(target, selected_cols_best[target])\n",
    "df_enerfy_fat"
   ]
  },
  {
   "cell_type": "code",
   "execution_count": 92,
   "metadata": {},
   "outputs": [
    {
     "name": "stdout",
     "output_type": "stream",
     "text": [
      "repres = 0.1, 0.43134850082017095 -0.48528581117107006 0.8154983536042127\n",
      "repres = 0.2, 0.4900014267521113 -0.12125458082907414 0.7398642697105714\n",
      "repres = 0.30000000000000004, 0.5340617005853077 0.20553306992667908 0.7261892471718202\n",
      "repres = 0.4, 0.5881996703685405 0.33931393171306046 0.7432118869118214\n",
      "repres = 0.5, 0.5788811200345975 0.37538675039051694 0.7151784116630511\n",
      "repres = 0.6, 0.5310774737310738 0.2748722046461348 0.6658431963849254\n",
      "repres = 0.7000000000000001, 0.5170942789714381 0.3159103761262979 0.6398629522938514\n",
      "repres = 0.8, 0.4907498735204034 0.3155281792816895 0.6168709160090633\n",
      "repres = 0.9, 0.4640563887823126 0.2757369669082529 0.5990245770853434\n",
      "repres = 1.0, 0.4186481191096478 0.2583474315089721 0.5554479261630199\n"
     ]
    }
   ],
   "source": [
    "selected_cols_very_best[target] = [actual_name(col) for col in list(df_enerfy_fat.index) if col != 'Intercept']\n",
    "n = len(df_ward_atlas)\n",
    "r2_estimators[target] = []\n",
    "r2_lower_CIs[target] = []\n",
    "r2_upper_CIs[target] = []\n",
    "for repres in repres_vals:\n",
    "    num_samples = int(n * repres)\n",
    "    r2_scores = get_r2_samples(target, selected_cols_very_best[target], df_ward_atlas[:num_samples])\n",
    "    estimator, lower_CI, upper_CI = estimate_from_samples(r2_scores)\n",
    "    print(f'repres = {repres},', estimator, lower_CI, upper_CI)\n",
    "    r2_estimators[target].append(estimator)\n",
    "    r2_lower_CIs[target].append(lower_CI)\n",
    "    r2_upper_CIs[target].append(upper_CI)\n",
    "r2_estimators[target] = np.array(r2_estimators[target])\n",
    "r2_lower_CIs[target] = np.array(r2_lower_CIs[target])\n",
    "r2_upper_CIs[target] = np.array(r2_upper_CIs[target])"
   ]
  },
  {
   "cell_type": "code",
   "execution_count": 93,
   "metadata": {},
   "outputs": [
    {
     "data": {
      "text/plain": [
       "Text(0.5, 1.0, 'Linear model $R^2$-score for f_energy_saturate predictiing')"
      ]
     },
     "execution_count": 93,
     "metadata": {},
     "output_type": "execute_result"
    },
    {
     "data": {
      "image/png": "[encoded data removed]",
      "text/plain": [
       "<Figure size 504x360 with 1 Axes>"
      ]
     },
     "metadata": {
      "needs_background": "light"
     },
     "output_type": "display_data"
    }
   ],
   "source": [
    "fog, ax = plt.subplots(1,1)\n",
    "ax.errorbar(repres_vals, r2_estimators[target], \n",
    "             yerr = [r2_estimators[target] - r2_lower_CIs[target], - r2_estimators[target] + r2_upper_CIs[target]], \n",
    "             capsize= 3)\n",
    "ax.set_xlabel('Representativeness')\n",
    "ax.set_ylabel('R2_score')\n",
    "ax.set_title(f'Linear model $R^2$-score for {target} predictiing')"
   ]
  },
  {
   "cell_type": "code",
   "execution_count": null,
   "metadata": {},
   "outputs": [],
   "source": [
    "fog, ax = plt.subplots(1,1)\n",
    "for nutrient in r2_estimators.keys():\n",
    "    ax.plot(repres_vals, r2_estimators[nutrient], label=nutrient)\n",
    "ax.set_xlabel('Representativeness')\n",
    "ax.set_ylabel('R2_score')\n",
    "ax.set_title(f'R2 score for утукпн nutrients')\n",
    "ax.legend()\n",
    "plt.show()"
   ]
  },
  {
   "cell_type": "markdown",
   "metadata": {},
   "source": [
    "# Linear model for f_energy_sugar"
   ]
  },
  {
   "cell_type": "code",
   "execution_count": 97,
   "metadata": {},
   "outputs": [
    {
     "data": {
      "text/html": [
       "<div>\n",
       "<style scoped>\n",
       "    .dataframe tbody tr th:only-of-type {\n",
       "        vertical-align: middle;\n",
       "    }\n",
       "\n",
       "    .dataframe tbody tr th {\n",
       "        vertical-align: top;\n",
       "    }\n",
       "\n",
       "    .dataframe thead th {\n",
       "        text-align: right;\n",
       "    }\n",
       "</style>\n",
       "<table border=\"1\" class=\"dataframe\">\n",
       "  <thead>\n",
       "    <tr style=\"text-align: right;\">\n",
       "      <th></th>\n",
       "      <th>coef</th>\n",
       "      <th>std err</th>\n",
       "      <th>t</th>\n",
       "      <th>P&gt;|t|</th>\n",
       "      <th>[0.025</th>\n",
       "      <th>0.975]</th>\n",
       "    </tr>\n",
       "  </thead>\n",
       "  <tbody>\n",
       "    <tr>\n",
       "      <th>Intercept</th>\n",
       "      <td>0.2275</td>\n",
       "      <td>0.000</td>\n",
       "      <td>472.135</td>\n",
       "      <td>0.0</td>\n",
       "      <td>0.227</td>\n",
       "      <td>0.228</td>\n",
       "    </tr>\n",
       "    <tr>\n",
       "      <th>Q(\"Asian or Asian British\")</th>\n",
       "      <td>0.0085</td>\n",
       "      <td>0.002</td>\n",
       "      <td>5.285</td>\n",
       "      <td>0.0</td>\n",
       "      <td>0.005</td>\n",
       "      <td>0.012</td>\n",
       "    </tr>\n",
       "    <tr>\n",
       "      <th>Q(\"White\")</th>\n",
       "      <td>0.0079</td>\n",
       "      <td>0.002</td>\n",
       "      <td>4.105</td>\n",
       "      <td>0.0</td>\n",
       "      <td>0.004</td>\n",
       "      <td>0.012</td>\n",
       "    </tr>\n",
       "    <tr>\n",
       "      <th>Q(\"Level 1 qualifications\")</th>\n",
       "      <td>0.0066</td>\n",
       "      <td>0.002</td>\n",
       "      <td>4.203</td>\n",
       "      <td>0.0</td>\n",
       "      <td>0.004</td>\n",
       "      <td>0.010</td>\n",
       "    </tr>\n",
       "  </tbody>\n",
       "</table>\n",
       "</div>"
      ],
      "text/plain": [
       "                               coef  std err        t  P>|t|  [0.025  0.975]\n",
       "Intercept                    0.2275    0.000  472.135    0.0   0.227   0.228\n",
       "Q(\"Asian or Asian British\")  0.0085    0.002    5.285    0.0   0.005   0.012\n",
       "Q(\"White\")                   0.0079    0.002    4.105    0.0   0.004   0.012\n",
       "Q(\"Level 1 qualifications\")  0.0066    0.002    4.203    0.0   0.004   0.010"
      ]
     },
     "execution_count": 97,
     "metadata": {},
     "output_type": "execute_result"
    }
   ],
   "source": [
    "target = 'f_energy_sugar'\n",
    "df_enerfy_fat = get_label_summary(target, selected_cols_best[target])\n",
    "df_enerfy_fat"
   ]
  },
  {
   "cell_type": "code",
   "execution_count": 95,
   "metadata": {},
   "outputs": [
    {
     "name": "stdout",
     "output_type": "stream",
     "text": [
      "repres = 0.1, 0.23761677078617954 -1.139533733261561 0.6341905493371464\n",
      "repres = 0.2, 0.25089134084483367 -0.23757031590463673 0.5418379501004635\n",
      "repres = 0.30000000000000004, 0.3482341752234135 -0.0059818151685637755 0.5845906749022809\n",
      "repres = 0.4, 0.33543656977109065 0.03884002128147146 0.527390576874929\n",
      "repres = 0.5, 0.33455611500646387 0.11001603077644728 0.5026528493289443\n",
      "repres = 0.6, 0.3134862594589328 0.0703553853401323 0.466651567853121\n",
      "repres = 0.7000000000000001, 0.32046140707588383 0.14851774075151458 0.46228707002073044\n",
      "repres = 0.8, 0.35955520159420407 0.19020641587286535 0.4983330082501505\n",
      "repres = 0.9, 0.3935435199658458 0.25992572442764805 0.5270222618750344\n",
      "repres = 1.0, 0.4156194901332853 0.28788009753846233 0.5425782011332253\n"
     ]
    }
   ],
   "source": [
    "selected_cols_very_best[target] = [actual_name(col) for col in list(df_enerfy_fat.index) if col != 'Intercept']\n",
    "n = len(df_ward_atlas)\n",
    "r2_estimators[target] = []\n",
    "r2_lower_CIs[target] = []\n",
    "r2_upper_CIs[target] = []\n",
    "for repres in repres_vals:\n",
    "    num_samples = int(n * repres)\n",
    "    r2_scores = get_r2_samples(target, selected_cols_very_best[target], df_ward_atlas[:num_samples])\n",
    "    estimator, lower_CI, upper_CI = estimate_from_samples(r2_scores)\n",
    "    print(f'repres = {repres},', estimator, lower_CI, upper_CI)\n",
    "    r2_estimators[target].append(estimator)\n",
    "    r2_lower_CIs[target].append(lower_CI)\n",
    "    r2_upper_CIs[target].append(upper_CI)\n",
    "r2_estimators[target] = np.array(r2_estimators[target])\n",
    "r2_lower_CIs[target] = np.array(r2_lower_CIs[target])\n",
    "r2_upper_CIs[target] = np.array(r2_upper_CIs[target])"
   ]
  },
  {
   "cell_type": "code",
   "execution_count": 96,
   "metadata": {},
   "outputs": [
    {
     "data": {
      "text/plain": [
       "Text(0.5, 1.0, 'Linear model $R^2$-score for f_energy_sugar predictiing')"
      ]
     },
     "execution_count": 96,
     "metadata": {},
     "output_type": "execute_result"
    },
    {
     "data": {
      "image/png": "[encoded data removed]",
      "text/plain": [
       "<Figure size 504x360 with 1 Axes>"
      ]
     },
     "metadata": {
      "needs_background": "light"
     },
     "output_type": "display_data"
    }
   ],
   "source": [
    "fog, ax = plt.subplots(1,1)\n",
    "ax.errorbar(repres_vals, r2_estimators[target], \n",
    "             yerr = [r2_estimators[target] - r2_lower_CIs[target], - r2_estimators[target] + r2_upper_CIs[target]], \n",
    "             capsize= 3)\n",
    "ax.set_xlabel('Representativeness')\n",
    "ax.set_ylabel('R2_score')\n",
    "ax.set_title(f'Linear model $R^2$-score for {target} predictiing')"
   ]
  },
  {
   "cell_type": "markdown",
   "metadata": {},
   "source": [
    "# Linear model for f_energy_protein"
   ]
  },
  {
   "cell_type": "code",
   "execution_count": 106,
   "metadata": {},
   "outputs": [
    {
     "data": {
      "text/html": [
       "<div>\n",
       "<style scoped>\n",
       "    .dataframe tbody tr th:only-of-type {\n",
       "        vertical-align: middle;\n",
       "    }\n",
       "\n",
       "    .dataframe tbody tr th {\n",
       "        vertical-align: top;\n",
       "    }\n",
       "\n",
       "    .dataframe thead th {\n",
       "        text-align: right;\n",
       "    }\n",
       "</style>\n",
       "<table border=\"1\" class=\"dataframe\">\n",
       "  <thead>\n",
       "    <tr style=\"text-align: right;\">\n",
       "      <th></th>\n",
       "      <th>coef</th>\n",
       "      <th>std err</th>\n",
       "      <th>t</th>\n",
       "      <th>P&gt;|t|</th>\n",
       "      <th>[0.025</th>\n",
       "      <th>0.975]</th>\n",
       "    </tr>\n",
       "  </thead>\n",
       "  <tbody>\n",
       "    <tr>\n",
       "      <th>Intercept</th>\n",
       "      <td>0.1171</td>\n",
       "      <td>0.000</td>\n",
       "      <td>640.855</td>\n",
       "      <td>0.000</td>\n",
       "      <td>0.117</td>\n",
       "      <td>0.11700</td>\n",
       "    </tr>\n",
       "    <tr>\n",
       "      <th>Q(\"Level &gt;=4 qualifications\")</th>\n",
       "      <td>0.0022</td>\n",
       "      <td>0.001</td>\n",
       "      <td>2.456</td>\n",
       "      <td>0.014</td>\n",
       "      <td>0.000</td>\n",
       "      <td>0.00400</td>\n",
       "    </tr>\n",
       "    <tr>\n",
       "      <th>Q(\"Asian or Asian British\")</th>\n",
       "      <td>-0.0057</td>\n",
       "      <td>0.000</td>\n",
       "      <td>-12.036</td>\n",
       "      <td>0.000</td>\n",
       "      <td>-0.007</td>\n",
       "      <td>-0.00500</td>\n",
       "    </tr>\n",
       "    <tr>\n",
       "      <th>Q(\"Aged 0-15\")</th>\n",
       "      <td>-0.0009</td>\n",
       "      <td>0.000</td>\n",
       "      <td>-2.140</td>\n",
       "      <td>0.033</td>\n",
       "      <td>-0.002</td>\n",
       "      <td>-0.00007</td>\n",
       "    </tr>\n",
       "    <tr>\n",
       "      <th>Q(\"Mixed\")</th>\n",
       "      <td>0.0011</td>\n",
       "      <td>0.000</td>\n",
       "      <td>3.463</td>\n",
       "      <td>0.001</td>\n",
       "      <td>0.000</td>\n",
       "      <td>0.00200</td>\n",
       "    </tr>\n",
       "    <tr>\n",
       "      <th>Q(\"Sikh\")</th>\n",
       "      <td>0.0010</td>\n",
       "      <td>0.000</td>\n",
       "      <td>4.946</td>\n",
       "      <td>0.000</td>\n",
       "      <td>0.001</td>\n",
       "      <td>0.00100</td>\n",
       "    </tr>\n",
       "    <tr>\n",
       "      <th>Q(\"No religion\")</th>\n",
       "      <td>-0.0029</td>\n",
       "      <td>0.001</td>\n",
       "      <td>-5.124</td>\n",
       "      <td>0.000</td>\n",
       "      <td>-0.004</td>\n",
       "      <td>-0.00200</td>\n",
       "    </tr>\n",
       "    <tr>\n",
       "      <th>Q(\"Buddhist\")</th>\n",
       "      <td>0.0008</td>\n",
       "      <td>0.000</td>\n",
       "      <td>3.642</td>\n",
       "      <td>0.000</td>\n",
       "      <td>0.000</td>\n",
       "      <td>0.00100</td>\n",
       "    </tr>\n",
       "    <tr>\n",
       "      <th>Q(\"Level 1 qualifications\")</th>\n",
       "      <td>-0.0028</td>\n",
       "      <td>0.001</td>\n",
       "      <td>-2.943</td>\n",
       "      <td>0.003</td>\n",
       "      <td>-0.005</td>\n",
       "      <td>-0.00100</td>\n",
       "    </tr>\n",
       "  </tbody>\n",
       "</table>\n",
       "</div>"
      ],
      "text/plain": [
       "                                 coef  std err        t  P>|t|  [0.025  \\\n",
       "Intercept                      0.1171    0.000  640.855  0.000   0.117   \n",
       "Q(\"Level >=4 qualifications\")  0.0022    0.001    2.456  0.014   0.000   \n",
       "Q(\"Asian or Asian British\")   -0.0057    0.000  -12.036  0.000  -0.007   \n",
       "Q(\"Aged 0-15\")                -0.0009    0.000   -2.140  0.033  -0.002   \n",
       "Q(\"Mixed\")                     0.0011    0.000    3.463  0.001   0.000   \n",
       "Q(\"Sikh\")                      0.0010    0.000    4.946  0.000   0.001   \n",
       "Q(\"No religion\")              -0.0029    0.001   -5.124  0.000  -0.004   \n",
       "Q(\"Buddhist\")                  0.0008    0.000    3.642  0.000   0.000   \n",
       "Q(\"Level 1 qualifications\")   -0.0028    0.001   -2.943  0.003  -0.005   \n",
       "\n",
       "                                0.975]  \n",
       "Intercept                      0.11700  \n",
       "Q(\"Level >=4 qualifications\")  0.00400  \n",
       "Q(\"Asian or Asian British\")   -0.00500  \n",
       "Q(\"Aged 0-15\")                -0.00007  \n",
       "Q(\"Mixed\")                     0.00200  \n",
       "Q(\"Sikh\")                      0.00100  \n",
       "Q(\"No religion\")              -0.00200  \n",
       "Q(\"Buddhist\")                  0.00100  \n",
       "Q(\"Level 1 qualifications\")   -0.00100  "
      ]
     },
     "execution_count": 106,
     "metadata": {},
     "output_type": "execute_result"
    }
   ],
   "source": [
    "target = 'f_energy_protein'\n",
    "df_enerfy_fat = get_label_summary(target, selected_cols_best[target])\n",
    "df_enerfy_fat"
   ]
  },
  {
   "cell_type": "code",
   "execution_count": 98,
   "metadata": {},
   "outputs": [
    {
     "name": "stdout",
     "output_type": "stream",
     "text": [
      "repres = 0.1, 0.20128759447362715 -1.065900970205838 0.6289381245644468\n",
      "repres = 0.2, 0.24828905442239185 -0.19990563006314988 0.5486244086676674\n",
      "repres = 0.30000000000000004, 0.3457529373393594 -0.018641908692578646 0.5779530445223257\n",
      "repres = 0.4, 0.3289814912024699 0.058306727452988705 0.5232448858475164\n",
      "repres = 0.5, 0.34031322074877146 0.10634783037386264 0.49963205750915374\n",
      "repres = 0.6, 0.3222886594461027 0.10341426852978453 0.47122414675789825\n",
      "repres = 0.7000000000000001, 0.32048562299773464 0.13312242862948787 0.4586669212418505\n",
      "repres = 0.8, 0.3642161448225081 0.2015460370359632 0.48817862945749335\n",
      "repres = 0.9, 0.39539009745879944 0.2631600017750533 0.5363763316941219\n",
      "repres = 1.0, 0.41414082980961103 0.2839741817490913 0.5391003500369442\n"
     ]
    }
   ],
   "source": [
    "selected_cols_very_best[target] = [actual_name(col) for col in list(df_enerfy_fat.index) if col != 'Intercept']\n",
    "n = len(df_ward_atlas)\n",
    "r2_estimators[target] = []\n",
    "r2_lower_CIs[target] = []\n",
    "r2_upper_CIs[target] = []\n",
    "for repres in repres_vals:\n",
    "    num_samples = int(n * repres)\n",
    "    r2_scores = get_r2_samples(target, selected_cols_very_best[target], df_ward_atlas[:num_samples])\n",
    "    estimator, lower_CI, upper_CI = estimate_from_samples(r2_scores)\n",
    "    print(f'repres = {repres},', estimator, lower_CI, upper_CI)\n",
    "    r2_estimators[target].append(estimator)\n",
    "    r2_lower_CIs[target].append(lower_CI)\n",
    "    r2_upper_CIs[target].append(upper_CI)\n",
    "r2_estimators[target] = np.array(r2_estimators[target])\n",
    "r2_lower_CIs[target] = np.array(r2_lower_CIs[target])\n",
    "r2_upper_CIs[target] = np.array(r2_upper_CIs[target])"
   ]
  },
  {
   "cell_type": "code",
   "execution_count": 99,
   "metadata": {},
   "outputs": [
    {
     "data": {
      "text/plain": [
       "Text(0.5, 1.0, 'Linear model $R^2$-score for f_energy_sugar predictiing')"
      ]
     },
     "execution_count": 99,
     "metadata": {},
     "output_type": "execute_result"
    },
    {
     "data": {
      "image/png": "[encoded data removed]",
      "text/plain": [
       "<Figure size 504x360 with 1 Axes>"
      ]
     },
     "metadata": {
      "needs_background": "light"
     },
     "output_type": "display_data"
    }
   ],
   "source": [
    "fog, ax = plt.subplots(1,1)\n",
    "ax.errorbar(repres_vals, r2_estimators[target], \n",
    "             yerr = [r2_estimators[target] - r2_lower_CIs[target], - r2_estimators[target] + r2_upper_CIs[target]], \n",
    "             capsize= 3)\n",
    "ax.set_xlabel('Representativeness')\n",
    "ax.set_ylabel('R2_score')\n",
    "ax.set_title(f'Linear model $R^2$-score for {target} predictiing')"
   ]
  },
  {
   "cell_type": "markdown",
   "metadata": {},
   "source": [
    "# Linear model for f_energy_carb"
   ]
  },
  {
   "cell_type": "code",
   "execution_count": 101,
   "metadata": {},
   "outputs": [
    {
     "data": {
      "text/html": [
       "<div>\n",
       "<style scoped>\n",
       "    .dataframe tbody tr th:only-of-type {\n",
       "        vertical-align: middle;\n",
       "    }\n",
       "\n",
       "    .dataframe tbody tr th {\n",
       "        vertical-align: top;\n",
       "    }\n",
       "\n",
       "    .dataframe thead th {\n",
       "        text-align: right;\n",
       "    }\n",
       "</style>\n",
       "<table border=\"1\" class=\"dataframe\">\n",
       "  <thead>\n",
       "    <tr style=\"text-align: right;\">\n",
       "      <th></th>\n",
       "      <th>coef</th>\n",
       "      <th>std err</th>\n",
       "      <th>t</th>\n",
       "      <th>P&gt;|t|</th>\n",
       "      <th>[0.025</th>\n",
       "      <th>0.975]</th>\n",
       "    </tr>\n",
       "  </thead>\n",
       "  <tbody>\n",
       "    <tr>\n",
       "      <th>Intercept</th>\n",
       "      <td>0.4048</td>\n",
       "      <td>0.000</td>\n",
       "      <td>965.205</td>\n",
       "      <td>0.000</td>\n",
       "      <td>0.404</td>\n",
       "      <td>0.406</td>\n",
       "    </tr>\n",
       "    <tr>\n",
       "      <th>Q(\"Level 1 qualifications\")</th>\n",
       "      <td>0.0059</td>\n",
       "      <td>0.001</td>\n",
       "      <td>4.079</td>\n",
       "      <td>0.000</td>\n",
       "      <td>0.003</td>\n",
       "      <td>0.009</td>\n",
       "    </tr>\n",
       "    <tr>\n",
       "      <th>Q(\"Hindu\")</th>\n",
       "      <td>0.0032</td>\n",
       "      <td>0.001</td>\n",
       "      <td>4.206</td>\n",
       "      <td>0.000</td>\n",
       "      <td>0.002</td>\n",
       "      <td>0.005</td>\n",
       "    </tr>\n",
       "    <tr>\n",
       "      <th>Q(\"Level 2 qualifications\")</th>\n",
       "      <td>0.0074</td>\n",
       "      <td>0.001</td>\n",
       "      <td>4.957</td>\n",
       "      <td>0.000</td>\n",
       "      <td>0.004</td>\n",
       "      <td>0.010</td>\n",
       "    </tr>\n",
       "    <tr>\n",
       "      <th>Q(\"Muslim\")</th>\n",
       "      <td>0.0025</td>\n",
       "      <td>0.001</td>\n",
       "      <td>2.368</td>\n",
       "      <td>0.018</td>\n",
       "      <td>0.000</td>\n",
       "      <td>0.005</td>\n",
       "    </tr>\n",
       "  </tbody>\n",
       "</table>\n",
       "</div>"
      ],
      "text/plain": [
       "                               coef  std err        t  P>|t|  [0.025  0.975]\n",
       "Intercept                    0.4048    0.000  965.205  0.000   0.404   0.406\n",
       "Q(\"Level 1 qualifications\")  0.0059    0.001    4.079  0.000   0.003   0.009\n",
       "Q(\"Hindu\")                   0.0032    0.001    4.206  0.000   0.002   0.005\n",
       "Q(\"Level 2 qualifications\")  0.0074    0.001    4.957  0.000   0.004   0.010\n",
       "Q(\"Muslim\")                  0.0025    0.001    2.368  0.018   0.000   0.005"
      ]
     },
     "execution_count": 101,
     "metadata": {},
     "output_type": "execute_result"
    }
   ],
   "source": [
    "target = 'f_energy_carb'\n",
    "df_enerfy_fat = get_label_summary(target, selected_cols_best[target])\n",
    "df_enerfy_fat"
   ]
  },
  {
   "cell_type": "code",
   "execution_count": 102,
   "metadata": {},
   "outputs": [
    {
     "name": "stdout",
     "output_type": "stream",
     "text": [
      "repres = 0.1, 0.7206856459078865 -0.4645922824607043 0.9223746830902557\n",
      "repres = 0.2, 0.7628739522679139 0.4232748347704205 0.8811311250757163\n",
      "repres = 0.30000000000000004, 0.7734457645640813 0.5698892679372605 0.866862122818933\n",
      "repres = 0.4, 0.7721507965305544 0.6095073620394889 0.8556910547068857\n",
      "repres = 0.5, 0.7618786906664556 0.6413586624720076 0.8405967767835273\n",
      "repres = 0.6, 0.7515041348543112 0.6415473875709008 0.8246433606641987\n",
      "repres = 0.7000000000000001, 0.7428810201317447 0.6366087174310041 0.8110921031953213\n",
      "repres = 0.8, 0.729550317974073 0.6178835051155253 0.7953854436749275\n",
      "repres = 0.9, 0.7206533398527996 0.6249645088781655 0.788100014067108\n",
      "repres = 1.0, 0.6978524010588323 0.597558668181833 0.7728900321444384\n"
     ]
    }
   ],
   "source": [
    "selected_cols_very_best[target] = [actual_name(col) for col in list(df_enerfy_fat.index) if col != 'Intercept']\n",
    "n = len(df_ward_atlas)\n",
    "r2_estimators[target] = []\n",
    "r2_lower_CIs[target] = []\n",
    "r2_upper_CIs[target] = []\n",
    "for repres in repres_vals:\n",
    "    num_samples = int(n * repres)\n",
    "    r2_scores = get_r2_samples(target, selected_cols_very_best[target], df_ward_atlas[:num_samples])\n",
    "    estimator, lower_CI, upper_CI = estimate_from_samples(r2_scores)\n",
    "    print(f'repres = {repres},', estimator, lower_CI, upper_CI)\n",
    "    r2_estimators[target].append(estimator)\n",
    "    r2_lower_CIs[target].append(lower_CI)\n",
    "    r2_upper_CIs[target].append(upper_CI)\n",
    "r2_estimators[target] = np.array(r2_estimators[target])\n",
    "r2_lower_CIs[target] = np.array(r2_lower_CIs[target])\n",
    "r2_upper_CIs[target] = np.array(r2_upper_CIs[target])"
   ]
  },
  {
   "cell_type": "code",
   "execution_count": 103,
   "metadata": {},
   "outputs": [
    {
     "data": {
      "text/plain": [
       "Text(0.5, 1.0, 'Linear model $R^2$-score for f_energy_carb predictiing')"
      ]
     },
     "execution_count": 103,
     "metadata": {},
     "output_type": "execute_result"
    },
    {
     "data": {
      "image/png": "[encoded data removed]",
      "text/plain": [
       "<Figure size 504x360 with 1 Axes>"
      ]
     },
     "metadata": {
      "needs_background": "light"
     },
     "output_type": "display_data"
    }
   ],
   "source": [
    "fog, ax = plt.subplots(1,1)\n",
    "ax.errorbar(repres_vals, r2_estimators[target], \n",
    "             yerr = [r2_estimators[target] - r2_lower_CIs[target], - r2_estimators[target] + r2_upper_CIs[target]], \n",
    "             capsize= 3)\n",
    "ax.set_xlabel('Representativeness')\n",
    "ax.set_ylabel('R2_score')\n",
    "ax.set_title(f'Linear model $R^2$-score for {target} predictiing')"
   ]
  },
  {
   "cell_type": "markdown",
   "metadata": {},
   "source": [
    "# Linear model for f_energy_fibre"
   ]
  },
  {
   "cell_type": "code",
   "execution_count": 104,
   "metadata": {},
   "outputs": [
    {
     "data": {
      "text/html": [
       "<div>\n",
       "<style scoped>\n",
       "    .dataframe tbody tr th:only-of-type {\n",
       "        vertical-align: middle;\n",
       "    }\n",
       "\n",
       "    .dataframe tbody tr th {\n",
       "        vertical-align: top;\n",
       "    }\n",
       "\n",
       "    .dataframe thead th {\n",
       "        text-align: right;\n",
       "    }\n",
       "</style>\n",
       "<table border=\"1\" class=\"dataframe\">\n",
       "  <thead>\n",
       "    <tr style=\"text-align: right;\">\n",
       "      <th></th>\n",
       "      <th>coef</th>\n",
       "      <th>std err</th>\n",
       "      <th>t</th>\n",
       "      <th>P&gt;|t|</th>\n",
       "      <th>[0.025</th>\n",
       "      <th>0.975]</th>\n",
       "    </tr>\n",
       "  </thead>\n",
       "  <tbody>\n",
       "    <tr>\n",
       "      <th>Intercept</th>\n",
       "      <td>0.017000</td>\n",
       "      <td>0.000024</td>\n",
       "      <td>715.225</td>\n",
       "      <td>0.000</td>\n",
       "      <td>0.017000</td>\n",
       "      <td>0.017</td>\n",
       "    </tr>\n",
       "    <tr>\n",
       "      <th>Q(\"IOD AVG\")</th>\n",
       "      <td>-0.000400</td>\n",
       "      <td>0.000049</td>\n",
       "      <td>-7.640</td>\n",
       "      <td>0.000</td>\n",
       "      <td>-0.000000</td>\n",
       "      <td>-0.000</td>\n",
       "    </tr>\n",
       "    <tr>\n",
       "      <th>Q(\"Jewish\")</th>\n",
       "      <td>0.000200</td>\n",
       "      <td>0.000037</td>\n",
       "      <td>6.124</td>\n",
       "      <td>0.000</td>\n",
       "      <td>0.000000</td>\n",
       "      <td>0.000</td>\n",
       "    </tr>\n",
       "    <tr>\n",
       "      <th>Q(\"Asian or Asian British\")</th>\n",
       "      <td>-0.000400</td>\n",
       "      <td>0.000067</td>\n",
       "      <td>-5.863</td>\n",
       "      <td>0.000</td>\n",
       "      <td>-0.001000</td>\n",
       "      <td>-0.000</td>\n",
       "    </tr>\n",
       "    <tr>\n",
       "      <th>Q(\"Sikh\")</th>\n",
       "      <td>0.000200</td>\n",
       "      <td>0.000029</td>\n",
       "      <td>6.100</td>\n",
       "      <td>0.000</td>\n",
       "      <td>0.000000</td>\n",
       "      <td>0.000</td>\n",
       "    </tr>\n",
       "    <tr>\n",
       "      <th>Q(\"Level 1 qualifications\")</th>\n",
       "      <td>-0.000500</td>\n",
       "      <td>0.000000</td>\n",
       "      <td>-3.844</td>\n",
       "      <td>0.000</td>\n",
       "      <td>-0.001000</td>\n",
       "      <td>-0.000</td>\n",
       "    </tr>\n",
       "    <tr>\n",
       "      <th>Q(\"Buddhist\")</th>\n",
       "      <td>0.000081</td>\n",
       "      <td>0.000027</td>\n",
       "      <td>3.010</td>\n",
       "      <td>0.003</td>\n",
       "      <td>0.000028</td>\n",
       "      <td>0.000</td>\n",
       "    </tr>\n",
       "  </tbody>\n",
       "</table>\n",
       "</div>"
      ],
      "text/plain": [
       "                                 coef   std err        t  P>|t|    [0.025  \\\n",
       "Intercept                    0.017000  0.000024  715.225  0.000  0.017000   \n",
       "Q(\"IOD AVG\")                -0.000400  0.000049   -7.640  0.000 -0.000000   \n",
       "Q(\"Jewish\")                  0.000200  0.000037    6.124  0.000  0.000000   \n",
       "Q(\"Asian or Asian British\") -0.000400  0.000067   -5.863  0.000 -0.001000   \n",
       "Q(\"Sikh\")                    0.000200  0.000029    6.100  0.000  0.000000   \n",
       "Q(\"Level 1 qualifications\") -0.000500  0.000000   -3.844  0.000 -0.001000   \n",
       "Q(\"Buddhist\")                0.000081  0.000027    3.010  0.003  0.000028   \n",
       "\n",
       "                             0.975]  \n",
       "Intercept                     0.017  \n",
       "Q(\"IOD AVG\")                 -0.000  \n",
       "Q(\"Jewish\")                   0.000  \n",
       "Q(\"Asian or Asian British\")  -0.000  \n",
       "Q(\"Sikh\")                     0.000  \n",
       "Q(\"Level 1 qualifications\")  -0.000  \n",
       "Q(\"Buddhist\")                 0.000  "
      ]
     },
     "execution_count": 104,
     "metadata": {},
     "output_type": "execute_result"
    }
   ],
   "source": [
    "target = 'f_energy_fibre'\n",
    "df_enerfy_fat = get_label_summary(target, selected_cols_best[target])\n",
    "df_enerfy_fat"
   ]
  },
  {
   "cell_type": "code",
   "execution_count": 105,
   "metadata": {},
   "outputs": [
    {
     "name": "stdout",
     "output_type": "stream",
     "text": [
      "repres = 0.1, 0.7830520735902036 0.28009132591458896 0.9151554157552741\n",
      "repres = 0.2, 0.8160730012272355 0.6157325707935248 0.9053677907231285\n",
      "repres = 0.30000000000000004, 0.823282574337882 0.6637810386505905 0.9084467408721026\n",
      "repres = 0.4, 0.816526033968021 0.6534970584857043 0.8992455534816752\n",
      "repres = 0.5, 0.8253654082810427 0.6959155279103009 0.8934602386955098\n",
      "repres = 0.6, 0.804318345569721 0.6738881613793963 0.8821022052151757\n",
      "repres = 0.7000000000000001, 0.8056957217100968 0.7032629858611831 0.872221589986747\n",
      "repres = 0.8, 0.800221100436171 0.6863917541877849 0.8651466518882434\n",
      "repres = 0.9, 0.792855712500207 0.7019334071994008 0.8625480381961451\n",
      "repres = 1.0, 0.7635467031271002 0.6741127151877839 0.8353880895931796\n"
     ]
    }
   ],
   "source": [
    "selected_cols_very_best[target] = [actual_name(col) for col in list(df_enerfy_fat.index) if col != 'Intercept']\n",
    "n = len(df_ward_atlas)\n",
    "r2_estimators[target] = []\n",
    "r2_lower_CIs[target] = []\n",
    "r2_upper_CIs[target] = []\n",
    "for repres in repres_vals:\n",
    "    num_samples = int(n * repres)\n",
    "    r2_scores = get_r2_samples(target, selected_cols_very_best[target], df_ward_atlas[:num_samples])\n",
    "    estimator, lower_CI, upper_CI = estimate_from_samples(r2_scores)\n",
    "    print(f'repres = {repres},', estimator, lower_CI, upper_CI)\n",
    "    r2_estimators[target].append(estimator)\n",
    "    r2_lower_CIs[target].append(lower_CI)\n",
    "    r2_upper_CIs[target].append(upper_CI)\n",
    "r2_estimators[target] = np.array(r2_estimators[target])\n",
    "r2_lower_CIs[target] = np.array(r2_lower_CIs[target])\n",
    "r2_upper_CIs[target] = np.array(r2_upper_CIs[target])"
   ]
  },
  {
   "cell_type": "code",
   "execution_count": 106,
   "metadata": {},
   "outputs": [
    {
     "data": {
      "text/plain": [
       "Text(0.5, 1.0, 'Linear model $R^2$-score for f_energy_fibre predictiing')"
      ]
     },
     "execution_count": 106,
     "metadata": {},
     "output_type": "execute_result"
    },
    {
     "data": {
      "image/png": "[encoded data removed]",
      "text/plain": [
       "<Figure size 504x360 with 1 Axes>"
      ]
     },
     "metadata": {
      "needs_background": "light"
     },
     "output_type": "display_data"
    }
   ],
   "source": [
    "fog, ax = plt.subplots(1,1)\n",
    "ax.errorbar(repres_vals, r2_estimators[target], \n",
    "             yerr = [r2_estimators[target] - r2_lower_CIs[target], - r2_estimators[target] + r2_upper_CIs[target]], \n",
    "             capsize= 3)\n",
    "ax.set_xlabel('Representativeness')\n",
    "ax.set_ylabel('R2_score')\n",
    "ax.set_title(f'Linear model $R^2$-score for {target} predictiing')"
   ]
  },
  {
   "cell_type": "markdown",
   "metadata": {},
   "source": [
    "# Linear model for f_energy_alcohol"
   ]
  },
  {
   "cell_type": "code",
   "execution_count": 107,
   "metadata": {},
   "outputs": [
    {
     "data": {
      "text/html": [
       "<div>\n",
       "<style scoped>\n",
       "    .dataframe tbody tr th:only-of-type {\n",
       "        vertical-align: middle;\n",
       "    }\n",
       "\n",
       "    .dataframe tbody tr th {\n",
       "        vertical-align: top;\n",
       "    }\n",
       "\n",
       "    .dataframe thead th {\n",
       "        text-align: right;\n",
       "    }\n",
       "</style>\n",
       "<table border=\"1\" class=\"dataframe\">\n",
       "  <thead>\n",
       "    <tr style=\"text-align: right;\">\n",
       "      <th></th>\n",
       "      <th>coef</th>\n",
       "      <th>std err</th>\n",
       "      <th>t</th>\n",
       "      <th>P&gt;|t|</th>\n",
       "      <th>[0.025</th>\n",
       "      <th>0.975]</th>\n",
       "    </tr>\n",
       "  </thead>\n",
       "  <tbody>\n",
       "    <tr>\n",
       "      <th>Intercept</th>\n",
       "      <td>0.0093</td>\n",
       "      <td>0.000074</td>\n",
       "      <td>124.601</td>\n",
       "      <td>0.000</td>\n",
       "      <td>0.009</td>\n",
       "      <td>0.009000</td>\n",
       "    </tr>\n",
       "    <tr>\n",
       "      <th>Q(\"Level &gt;=4 qualifications\")</th>\n",
       "      <td>0.0014</td>\n",
       "      <td>0.000000</td>\n",
       "      <td>12.850</td>\n",
       "      <td>0.000</td>\n",
       "      <td>0.001</td>\n",
       "      <td>0.002000</td>\n",
       "    </tr>\n",
       "    <tr>\n",
       "      <th>Q(\"IOD AVG\")</th>\n",
       "      <td>0.0005</td>\n",
       "      <td>0.000000</td>\n",
       "      <td>4.531</td>\n",
       "      <td>0.000</td>\n",
       "      <td>0.000</td>\n",
       "      <td>0.001000</td>\n",
       "    </tr>\n",
       "    <tr>\n",
       "      <th>Q(\"Muslim\")</th>\n",
       "      <td>-0.0010</td>\n",
       "      <td>0.000000</td>\n",
       "      <td>-6.117</td>\n",
       "      <td>0.000</td>\n",
       "      <td>-0.001</td>\n",
       "      <td>-0.001000</td>\n",
       "    </tr>\n",
       "    <tr>\n",
       "      <th>Q(\"Other religions\")</th>\n",
       "      <td>-0.0002</td>\n",
       "      <td>0.000078</td>\n",
       "      <td>-3.170</td>\n",
       "      <td>0.002</td>\n",
       "      <td>-0.000</td>\n",
       "      <td>-0.000094</td>\n",
       "    </tr>\n",
       "  </tbody>\n",
       "</table>\n",
       "</div>"
      ],
      "text/plain": [
       "                                 coef   std err        t  P>|t|  [0.025  \\\n",
       "Intercept                      0.0093  0.000074  124.601  0.000   0.009   \n",
       "Q(\"Level >=4 qualifications\")  0.0014  0.000000   12.850  0.000   0.001   \n",
       "Q(\"IOD AVG\")                   0.0005  0.000000    4.531  0.000   0.000   \n",
       "Q(\"Muslim\")                   -0.0010  0.000000   -6.117  0.000  -0.001   \n",
       "Q(\"Other religions\")          -0.0002  0.000078   -3.170  0.002  -0.000   \n",
       "\n",
       "                                 0.975]  \n",
       "Intercept                      0.009000  \n",
       "Q(\"Level >=4 qualifications\")  0.002000  \n",
       "Q(\"IOD AVG\")                   0.001000  \n",
       "Q(\"Muslim\")                   -0.001000  \n",
       "Q(\"Other religions\")          -0.000094  "
      ]
     },
     "execution_count": 107,
     "metadata": {},
     "output_type": "execute_result"
    }
   ],
   "source": [
    "target = 'f_energy_alcohol'\n",
    "df_enerfy_fat = get_label_summary(target, selected_cols_best[target])\n",
    "df_enerfy_fat"
   ]
  },
  {
   "cell_type": "code",
   "execution_count": 108,
   "metadata": {},
   "outputs": [
    {
     "name": "stdout",
     "output_type": "stream",
     "text": [
      "repres = 0.1, 0.3975965928116541 -1.7051789496898726 0.7217232138939598\n",
      "repres = 0.2, 0.633219557292738 -0.07468248396200616 0.8378500229365817\n",
      "repres = 0.30000000000000004, 0.6253948554528644 0.19278630706736366 0.8025457628170489\n",
      "repres = 0.4, 0.5607886722980829 0.25565663814596173 0.7414771721522728\n",
      "repres = 0.5, 0.5864978405662437 0.30831021254826707 0.7460771073269096\n",
      "repres = 0.6, 0.5308441679738851 0.30372704994791955 0.693629369911614\n",
      "repres = 0.7000000000000001, 0.4924219452265946 0.31781190292978834 0.6447382578760765\n",
      "repres = 0.8, 0.4867868241544655 0.3042600551629341 0.6180009055840743\n",
      "repres = 0.9, 0.4786463423125632 0.31721248104800237 0.5963613276989517\n",
      "repres = 1.0, 0.4375812535102907 0.27045118522695233 0.554146630018457\n"
     ]
    }
   ],
   "source": [
    "selected_cols_very_best[target] = [actual_name(col) for col in list(df_enerfy_fat.index) if col != 'Intercept']\n",
    "n = len(df_ward_atlas)\n",
    "r2_estimators[target] = []\n",
    "r2_lower_CIs[target] = []\n",
    "r2_upper_CIs[target] = []\n",
    "for repres in repres_vals:\n",
    "    num_samples = int(n * repres)\n",
    "    r2_scores = get_r2_samples(target, selected_cols_very_best[target], df_ward_atlas[:num_samples])\n",
    "    estimator, lower_CI, upper_CI = estimate_from_samples(r2_scores)\n",
    "    print(f'repres = {repres},', estimator, lower_CI, upper_CI)\n",
    "    r2_estimators[target].append(estimator)\n",
    "    r2_lower_CIs[target].append(lower_CI)\n",
    "    r2_upper_CIs[target].append(upper_CI)\n",
    "r2_estimators[target] = np.array(r2_estimators[target])\n",
    "r2_lower_CIs[target] = np.array(r2_lower_CIs[target])\n",
    "r2_upper_CIs[target] = np.array(r2_upper_CIs[target])"
   ]
  },
  {
   "cell_type": "code",
   "execution_count": 109,
   "metadata": {
    "scrolled": true
   },
   "outputs": [
    {
     "data": {
      "text/plain": [
       "Text(0.5, 1.0, 'Linear model $R^2$-score for f_energy_alcohol predictiing')"
      ]
     },
     "execution_count": 109,
     "metadata": {},
     "output_type": "execute_result"
    },
    {
     "data": {
      "image/png": "[encoded data removed]",
      "text/plain": [
       "<Figure size 504x360 with 1 Axes>"
      ]
     },
     "metadata": {
      "needs_background": "light"
     },
     "output_type": "display_data"
    }
   ],
   "source": [
    "fog, ax = plt.subplots(1,1)\n",
    "ax.errorbar(repres_vals, r2_estimators[target], \n",
    "             yerr = [r2_estimators[target] - r2_lower_CIs[target], - r2_estimators[target] + r2_upper_CIs[target]], \n",
    "             capsize= 3)\n",
    "ax.set_xlabel('Representativeness')\n",
    "ax.set_ylabel('R2_score')\n",
    "ax.set_title(f'Linear model $R^2$-score for {target} predictiing')"
   ]
  },
  {
   "cell_type": "code",
   "execution_count": 113,
   "metadata": {},
   "outputs": [
    {
     "data": {
      "text/plain": [
       "{'f_energy_fat': array([0.60288675, 0.52551094, 0.50694007, 0.53161466, 0.51805443,\n",
       "        0.5218888 , 0.53034966, 0.52664874, 0.4829546 , 0.44021859]),\n",
       " 'f_energy_saturate': array([0.4313485 , 0.49000143, 0.5340617 , 0.58819967, 0.57888112,\n",
       "        0.53107747, 0.51709428, 0.49074987, 0.46405639, 0.41864812]),\n",
       " 'f_energy_sugar': array([0.20128759, 0.24828905, 0.34575294, 0.32898149, 0.34031322,\n",
       "        0.32228866, 0.32048562, 0.36421614, 0.3953901 , 0.41414083]),\n",
       " 'f_energy_carb': array([0.72068565, 0.76287395, 0.77344576, 0.7721508 , 0.76187869,\n",
       "        0.75150413, 0.74288102, 0.72955032, 0.72065334, 0.6978524 ]),\n",
       " 'f_energy_fibre': array([0.78305207, 0.816073  , 0.82328257, 0.81652603, 0.82536541,\n",
       "        0.80431835, 0.80569572, 0.8002211 , 0.79285571, 0.7635467 ]),\n",
       " 'f_energy_alcohol': array([0.39759659, 0.63321956, 0.62539486, 0.56078867, 0.58649784,\n",
       "        0.53084417, 0.49242195, 0.48678682, 0.47864634, 0.43758125])}"
      ]
     },
     "execution_count": 113,
     "metadata": {},
     "output_type": "execute_result"
    }
   ],
   "source": [
    "r2_estimators"
   ]
  },
  {
   "cell_type": "code",
   "execution_count": 116,
   "metadata": {},
   "outputs": [
    {
     "data": {
      "image/png": "[encoded data removed]",
      "text/plain": [
       "<Figure size 504x360 with 1 Axes>"
      ]
     },
     "metadata": {
      "needs_background": "light"
     },
     "output_type": "display_data"
    }
   ],
   "source": [
    "fog, ax = plt.subplots(1,1)\n",
    "for nutrient in r2_estimators.keys():\n",
    "    ax.plot(repres_vals, r2_estimators[nutrient], label=nutrient)\n",
    "ax.set_xlabel('Representativeness')\n",
    "ax.set_ylabel('R2_score')\n",
    "ax.set_title(f'R2 score for normalized nutrients')\n",
    "ax.legend()\n",
    "plt.show()"
   ]
  },
  {
   "cell_type": "markdown",
   "metadata": {},
   "source": [
    "Comparison between energy_nutrient vs f_energy_nutrient r2-scores: <br>\n",
    "fat: 0.376 vs <b>0.455</b> <br>\n",
    "saturate: 0.374 vs <b>0.457</b><br>\n",
    "sugar: <b>0.590</b> vs 0.429<br>\n",
    "protein: 0.613 vs <b>0.718</b><br>\n",
    "carb: <b>0.776</b> vs 0.714<br>\n",
    "fibre: 0.623 vs <b>0.775</b><br>\n",
    "alcohol: 0.418 vs <b>0.456</b><br>"
   ]
  },
  {
   "cell_type": "markdown",
   "metadata": {},
   "source": [
    "# Neural Network for predicting all at once"
   ]
  },
  {
   "cell_type": "code",
   "execution_count": 24,
   "metadata": {},
   "outputs": [],
   "source": [
    "import tensorflow as tf\n",
    "from tensorflow.keras import Model, Sequential\n",
    "from tensorflow.keras.layers import Dense, Input\n",
    "from tensorflow.keras.losses import KLDivergence"
   ]
  },
  {
   "cell_type": "code",
   "execution_count": 25,
   "metadata": {},
   "outputs": [],
   "source": [
    "target_cols = ['f_energy_fat', 'f_energy_protein', 'f_energy_carb', 'f_energy_fibre', 'f_energy_alcohol']"
   ]
  },
  {
   "cell_type": "code",
   "execution_count": 26,
   "metadata": {},
   "outputs": [
    {
     "data": {
      "text/plain": [
       "E05000026    1.0\n",
       "E05000027    1.0\n",
       "E05000028    1.0\n",
       "E05000029    1.0\n",
       "E05000030    1.0\n",
       "            ... \n",
       "E05000645    1.0\n",
       "E05000646    1.0\n",
       "E05000647    1.0\n",
       "E05000648    1.0\n",
       "E05000649    1.0\n",
       "Length: 483, dtype: float64"
      ]
     },
     "execution_count": 26,
     "metadata": {},
     "output_type": "execute_result"
    }
   ],
   "source": [
    "df_ward_atlas[target_cols].sum(axis=1)"
   ]
  },
  {
   "cell_type": "code",
   "execution_count": 37,
   "metadata": {},
   "outputs": [
    {
     "data": {
      "text/plain": [
       "False"
      ]
     },
     "execution_count": 37,
     "metadata": {},
     "output_type": "execute_result"
    }
   ],
   "source": [
    "any(np.abs(df_ward_atlas[target_cols].sum(axis=1) - 1 > 0.01))"
   ]
  },
  {
   "cell_type": "code",
   "execution_count": 63,
   "metadata": {},
   "outputs": [],
   "source": [
    "model = Sequential()\n",
    "model.add(Input(shape=(30,)))\n",
    "model.add(Dense(5, activation='softmax'))\n",
    "model.compile(optimizer='sgd', \n",
    "              loss=KLDivergence(), \n",
    "              metrics=['mean_absolute_error'])"
   ]
  },
  {
   "cell_type": "code",
   "execution_count": 60,
   "metadata": {},
   "outputs": [],
   "source": [
    "x_data = df_ward_atlas[all_features]\n",
    "y_data = df_ward_atlas[target_cols]\n",
    "#x_train, x_test, y_train, y_test = train_test_split(x_data, y_data, test_size = 0.2)"
   ]
  },
  {
   "cell_type": "code",
   "execution_count": 64,
   "metadata": {},
   "outputs": [
    {
     "name": "stdout",
     "output_type": "stream",
     "text": [
      "WARNING:tensorflow:Falling back from v2 loop because of error: Failed to find data adapter that can handle input: <class 'pandas.core.frame.DataFrame'>, <class 'NoneType'>\n",
      "Train on 386 samples, validate on 97 samples\n",
      "Epoch 1/300\n",
      "386/386 [==============================] - 0s 223us/sample - loss: 0.6217 - mean_absolute_error: 0.1945 - val_loss: 0.4717 - val_mean_absolute_error: 0.1681\n",
      "Epoch 2/300\n",
      "386/386 [==============================] - 0s 38us/sample - loss: 0.5361 - mean_absolute_error: 0.1789 - val_loss: 0.4070 - val_mean_absolute_error: 0.1544\n",
      "Epoch 3/300\n",
      "386/386 [==============================] - 0s 47us/sample - loss: 0.4643 - mean_absolute_error: 0.1648 - val_loss: 0.3514 - val_mean_absolute_error: 0.1417\n",
      "Epoch 4/300\n",
      "386/386 [==============================] - 0s 54us/sample - loss: 0.4010 - mean_absolute_error: 0.1510 - val_loss: 0.3049 - val_mean_absolute_error: 0.1301\n",
      "Epoch 5/300\n",
      "386/386 [==============================] - 0s 54us/sample - loss: 0.3477 - mean_absolute_error: 0.1383 - val_loss: 0.2665 - val_mean_absolute_error: 0.1194\n",
      "Epoch 6/300\n",
      "386/386 [==============================] - 0s 53us/sample - loss: 0.3057 - mean_absolute_error: 0.1273 - val_loss: 0.2344 - val_mean_absolute_error: 0.1099\n",
      "Epoch 7/300\n",
      "386/386 [==============================] - 0s 52us/sample - loss: 0.2700 - mean_absolute_error: 0.1173 - val_loss: 0.2071 - val_mean_absolute_error: 0.1011\n",
      "Epoch 8/300\n",
      "386/386 [==============================] - 0s 49us/sample - loss: 0.2402 - mean_absolute_error: 0.1083 - val_loss: 0.1838 - val_mean_absolute_error: 0.0934\n",
      "Epoch 9/300\n",
      "386/386 [==============================] - 0s 56us/sample - loss: 0.2139 - mean_absolute_error: 0.1000 - val_loss: 0.1640 - val_mean_absolute_error: 0.0865\n",
      "Epoch 10/300\n",
      "386/386 [==============================] - 0s 52us/sample - loss: 0.1916 - mean_absolute_error: 0.0926 - val_loss: 0.1472 - val_mean_absolute_error: 0.0803\n",
      "Epoch 11/300\n",
      "386/386 [==============================] - 0s 54us/sample - loss: 0.1729 - mean_absolute_error: 0.0861 - val_loss: 0.1328 - val_mean_absolute_error: 0.0747\n",
      "Epoch 12/300\n",
      "386/386 [==============================] - 0s 49us/sample - loss: 0.1567 - mean_absolute_error: 0.0801 - val_loss: 0.1202 - val_mean_absolute_error: 0.0697\n",
      "Epoch 13/300\n",
      "386/386 [==============================] - 0s 52us/sample - loss: 0.1420 - mean_absolute_error: 0.0746 - val_loss: 0.1094 - val_mean_absolute_error: 0.0652\n",
      "Epoch 14/300\n",
      "386/386 [==============================] - 0s 52us/sample - loss: 0.1298 - mean_absolute_error: 0.0698 - val_loss: 0.1002 - val_mean_absolute_error: 0.0613\n",
      "Epoch 15/300\n",
      "386/386 [==============================] - 0s 52us/sample - loss: 0.1192 - mean_absolute_error: 0.0655 - val_loss: 0.0921 - val_mean_absolute_error: 0.0577\n",
      "Epoch 16/300\n",
      "386/386 [==============================] - 0s 52us/sample - loss: 0.1100 - mean_absolute_error: 0.0616 - val_loss: 0.0849 - val_mean_absolute_error: 0.0544\n",
      "Epoch 17/300\n",
      "386/386 [==============================] - 0s 49us/sample - loss: 0.1019 - mean_absolute_error: 0.0581 - val_loss: 0.0787 - val_mean_absolute_error: 0.0514\n",
      "Epoch 18/300\n",
      "386/386 [==============================] - 0s 59us/sample - loss: 0.0949 - mean_absolute_error: 0.0549 - val_loss: 0.0731 - val_mean_absolute_error: 0.0487\n",
      "Epoch 19/300\n",
      "386/386 [==============================] - 0s 52us/sample - loss: 0.0884 - mean_absolute_error: 0.0520 - val_loss: 0.0681 - val_mean_absolute_error: 0.0463\n",
      "Epoch 20/300\n",
      "386/386 [==============================] - 0s 52us/sample - loss: 0.0828 - mean_absolute_error: 0.0494 - val_loss: 0.0636 - val_mean_absolute_error: 0.0440\n",
      "Epoch 21/300\n",
      "386/386 [==============================] - 0s 62us/sample - loss: 0.0775 - mean_absolute_error: 0.0469 - val_loss: 0.0597 - val_mean_absolute_error: 0.0420\n",
      "Epoch 22/300\n",
      "386/386 [==============================] - 0s 72us/sample - loss: 0.0729 - mean_absolute_error: 0.0447 - val_loss: 0.0561 - val_mean_absolute_error: 0.0401\n",
      "Epoch 23/300\n",
      "386/386 [==============================] - 0s 67us/sample - loss: 0.0687 - mean_absolute_error: 0.0426 - val_loss: 0.0529 - val_mean_absolute_error: 0.0384\n",
      "Epoch 24/300\n",
      "386/386 [==============================] - 0s 57us/sample - loss: 0.0650 - mean_absolute_error: 0.0408 - val_loss: 0.0500 - val_mean_absolute_error: 0.0369\n",
      "Epoch 25/300\n",
      "386/386 [==============================] - 0s 65us/sample - loss: 0.0616 - mean_absolute_error: 0.0391 - val_loss: 0.0473 - val_mean_absolute_error: 0.0354\n",
      "Epoch 26/300\n",
      "386/386 [==============================] - 0s 72us/sample - loss: 0.0585 - mean_absolute_error: 0.0375 - val_loss: 0.0449 - val_mean_absolute_error: 0.0340\n",
      "Epoch 27/300\n",
      "386/386 [==============================] - 0s 83us/sample - loss: 0.0557 - mean_absolute_error: 0.0361 - val_loss: 0.0427 - val_mean_absolute_error: 0.0328\n",
      "Epoch 28/300\n",
      "386/386 [==============================] - 0s 83us/sample - loss: 0.0531 - mean_absolute_error: 0.0348 - val_loss: 0.0407 - val_mean_absolute_error: 0.0316\n",
      "Epoch 29/300\n",
      "386/386 [==============================] - 0s 85us/sample - loss: 0.0507 - mean_absolute_error: 0.0336 - val_loss: 0.0388 - val_mean_absolute_error: 0.0306\n",
      "Epoch 30/300\n",
      "386/386 [==============================] - 0s 85us/sample - loss: 0.0484 - mean_absolute_error: 0.0324 - val_loss: 0.0371 - val_mean_absolute_error: 0.0296\n",
      "Epoch 31/300\n",
      "386/386 [==============================] - 0s 88us/sample - loss: 0.0463 - mean_absolute_error: 0.0314 - val_loss: 0.0355 - val_mean_absolute_error: 0.0288\n",
      "Epoch 32/300\n",
      "386/386 [==============================] - 0s 72us/sample - loss: 0.0444 - mean_absolute_error: 0.0304 - val_loss: 0.0341 - val_mean_absolute_error: 0.0279\n",
      "Epoch 33/300\n",
      "386/386 [==============================] - 0s 62us/sample - loss: 0.0426 - mean_absolute_error: 0.0295 - val_loss: 0.0326 - val_mean_absolute_error: 0.0271\n",
      "Epoch 34/300\n",
      "386/386 [==============================] - 0s 80us/sample - loss: 0.0408 - mean_absolute_error: 0.0286 - val_loss: 0.0314 - val_mean_absolute_error: 0.0264\n",
      "Epoch 35/300\n",
      "386/386 [==============================] - 0s 75us/sample - loss: 0.0392 - mean_absolute_error: 0.0279 - val_loss: 0.0302 - val_mean_absolute_error: 0.0258\n",
      "Epoch 36/300\n",
      "386/386 [==============================] - 0s 78us/sample - loss: 0.0377 - mean_absolute_error: 0.0271 - val_loss: 0.0290 - val_mean_absolute_error: 0.0251\n",
      "Epoch 37/300\n",
      "386/386 [==============================] - 0s 70us/sample - loss: 0.0363 - mean_absolute_error: 0.0265 - val_loss: 0.0280 - val_mean_absolute_error: 0.0244\n",
      "Epoch 38/300\n",
      "386/386 [==============================] - 0s 59us/sample - loss: 0.0351 - mean_absolute_error: 0.0258 - val_loss: 0.0270 - val_mean_absolute_error: 0.0239\n",
      "Epoch 39/300\n",
      "386/386 [==============================] - 0s 46us/sample - loss: 0.0339 - mean_absolute_error: 0.0252 - val_loss: 0.0261 - val_mean_absolute_error: 0.0234\n",
      "Epoch 40/300\n",
      "386/386 [==============================] - 0s 67us/sample - loss: 0.0328 - mean_absolute_error: 0.0247 - val_loss: 0.0253 - val_mean_absolute_error: 0.0229\n",
      "Epoch 41/300\n",
      "386/386 [==============================] - 0s 72us/sample - loss: 0.0317 - mean_absolute_error: 0.0242 - val_loss: 0.0245 - val_mean_absolute_error: 0.0225\n",
      "Epoch 42/300\n",
      "386/386 [==============================] - 0s 75us/sample - loss: 0.0307 - mean_absolute_error: 0.0237 - val_loss: 0.0237 - val_mean_absolute_error: 0.0220\n",
      "Epoch 43/300\n",
      "386/386 [==============================] - 0s 59us/sample - loss: 0.0297 - mean_absolute_error: 0.0232 - val_loss: 0.0230 - val_mean_absolute_error: 0.0216\n",
      "Epoch 44/300\n",
      "386/386 [==============================] - 0s 70us/sample - loss: 0.0287 - mean_absolute_error: 0.0228 - val_loss: 0.0223 - val_mean_absolute_error: 0.0213\n",
      "Epoch 45/300\n",
      "386/386 [==============================] - 0s 62us/sample - loss: 0.0278 - mean_absolute_error: 0.0224 - val_loss: 0.0216 - val_mean_absolute_error: 0.0209\n",
      "Epoch 46/300\n",
      "386/386 [==============================] - 0s 72us/sample - loss: 0.0270 - mean_absolute_error: 0.0220 - val_loss: 0.0210 - val_mean_absolute_error: 0.0205\n",
      "Epoch 47/300\n",
      "386/386 [==============================] - 0s 62us/sample - loss: 0.0262 - mean_absolute_error: 0.0216 - val_loss: 0.0204 - val_mean_absolute_error: 0.0202\n",
      "Epoch 48/300\n",
      "386/386 [==============================] - 0s 72us/sample - loss: 0.0254 - mean_absolute_error: 0.0213 - val_loss: 0.0198 - val_mean_absolute_error: 0.0199\n",
      "Epoch 49/300\n",
      "386/386 [==============================] - 0s 67us/sample - loss: 0.0247 - mean_absolute_error: 0.0209 - val_loss: 0.0193 - val_mean_absolute_error: 0.0196\n",
      "Epoch 50/300\n",
      "386/386 [==============================] - 0s 57us/sample - loss: 0.0240 - mean_absolute_error: 0.0206 - val_loss: 0.0188 - val_mean_absolute_error: 0.0193\n",
      "Epoch 51/300\n",
      "386/386 [==============================] - 0s 62us/sample - loss: 0.0233 - mean_absolute_error: 0.0203 - val_loss: 0.0183 - val_mean_absolute_error: 0.0191\n",
      "Epoch 52/300\n",
      "386/386 [==============================] - 0s 54us/sample - loss: 0.0227 - mean_absolute_error: 0.0200 - val_loss: 0.0178 - val_mean_absolute_error: 0.0188\n",
      "Epoch 53/300\n",
      "386/386 [==============================] - 0s 49us/sample - loss: 0.0221 - mean_absolute_error: 0.0197 - val_loss: 0.0173 - val_mean_absolute_error: 0.0186\n",
      "Epoch 54/300\n",
      "386/386 [==============================] - 0s 54us/sample - loss: 0.0215 - mean_absolute_error: 0.0195 - val_loss: 0.0169 - val_mean_absolute_error: 0.0184\n",
      "Epoch 55/300\n",
      "386/386 [==============================] - 0s 52us/sample - loss: 0.0209 - mean_absolute_error: 0.0192 - val_loss: 0.0165 - val_mean_absolute_error: 0.0181\n",
      "Epoch 56/300\n",
      "386/386 [==============================] - 0s 65us/sample - loss: 0.0204 - mean_absolute_error: 0.0190 - val_loss: 0.0160 - val_mean_absolute_error: 0.0179\n",
      "Epoch 57/300\n",
      "386/386 [==============================] - 0s 57us/sample - loss: 0.0199 - mean_absolute_error: 0.0187 - val_loss: 0.0157 - val_mean_absolute_error: 0.0177\n",
      "Epoch 58/300\n",
      "386/386 [==============================] - 0s 67us/sample - loss: 0.0194 - mean_absolute_error: 0.0185 - val_loss: 0.0153 - val_mean_absolute_error: 0.0175\n",
      "Epoch 59/300\n",
      "386/386 [==============================] - 0s 67us/sample - loss: 0.0189 - mean_absolute_error: 0.0183 - val_loss: 0.0149 - val_mean_absolute_error: 0.0173\n",
      "Epoch 60/300\n",
      "386/386 [==============================] - 0s 72us/sample - loss: 0.0184 - mean_absolute_error: 0.0181 - val_loss: 0.0146 - val_mean_absolute_error: 0.0172\n",
      "Epoch 61/300\n",
      "386/386 [==============================] - 0s 60us/sample - loss: 0.0180 - mean_absolute_error: 0.0179 - val_loss: 0.0143 - val_mean_absolute_error: 0.0170\n",
      "Epoch 62/300\n",
      "386/386 [==============================] - 0s 54us/sample - loss: 0.0176 - mean_absolute_error: 0.0177 - val_loss: 0.0139 - val_mean_absolute_error: 0.0169\n",
      "Epoch 63/300\n",
      "386/386 [==============================] - 0s 54us/sample - loss: 0.0171 - mean_absolute_error: 0.0175 - val_loss: 0.0136 - val_mean_absolute_error: 0.0167\n",
      "Epoch 64/300\n",
      "386/386 [==============================] - 0s 47us/sample - loss: 0.0167 - mean_absolute_error: 0.0173 - val_loss: 0.0133 - val_mean_absolute_error: 0.0165\n",
      "Epoch 65/300\n",
      "386/386 [==============================] - 0s 52us/sample - loss: 0.0163 - mean_absolute_error: 0.0171 - val_loss: 0.0130 - val_mean_absolute_error: 0.0164\n",
      "Epoch 66/300\n",
      "386/386 [==============================] - 0s 57us/sample - loss: 0.0159 - mean_absolute_error: 0.0170 - val_loss: 0.0128 - val_mean_absolute_error: 0.0162\n",
      "Epoch 67/300\n",
      "386/386 [==============================] - 0s 49us/sample - loss: 0.0156 - mean_absolute_error: 0.0168 - val_loss: 0.0125 - val_mean_absolute_error: 0.0161\n",
      "Epoch 68/300\n",
      "386/386 [==============================] - 0s 54us/sample - loss: 0.0152 - mean_absolute_error: 0.0166 - val_loss: 0.0122 - val_mean_absolute_error: 0.0159\n",
      "Epoch 69/300\n",
      "386/386 [==============================] - 0s 49us/sample - loss: 0.0149 - mean_absolute_error: 0.0165 - val_loss: 0.0120 - val_mean_absolute_error: 0.0158\n",
      "Epoch 70/300\n",
      "386/386 [==============================] - 0s 47us/sample - loss: 0.0146 - mean_absolute_error: 0.0163 - val_loss: 0.0117 - val_mean_absolute_error: 0.0157\n",
      "Epoch 71/300\n",
      "386/386 [==============================] - 0s 47us/sample - loss: 0.0142 - mean_absolute_error: 0.0162 - val_loss: 0.0115 - val_mean_absolute_error: 0.0156\n",
      "Epoch 72/300\n",
      "386/386 [==============================] - 0s 44us/sample - loss: 0.0139 - mean_absolute_error: 0.0160 - val_loss: 0.0112 - val_mean_absolute_error: 0.0154\n",
      "Epoch 73/300\n",
      "386/386 [==============================] - 0s 44us/sample - loss: 0.0136 - mean_absolute_error: 0.0159 - val_loss: 0.0110 - val_mean_absolute_error: 0.0153\n",
      "Epoch 74/300\n",
      "386/386 [==============================] - 0s 41us/sample - loss: 0.0133 - mean_absolute_error: 0.0157 - val_loss: 0.0108 - val_mean_absolute_error: 0.0152\n",
      "Epoch 75/300\n",
      "386/386 [==============================] - 0s 41us/sample - loss: 0.0131 - mean_absolute_error: 0.0156 - val_loss: 0.0106 - val_mean_absolute_error: 0.0151\n",
      "Epoch 76/300\n",
      "386/386 [==============================] - 0s 41us/sample - loss: 0.0128 - mean_absolute_error: 0.0155 - val_loss: 0.0104 - val_mean_absolute_error: 0.0150\n",
      "Epoch 77/300\n",
      "386/386 [==============================] - 0s 47us/sample - loss: 0.0126 - mean_absolute_error: 0.0153 - val_loss: 0.0102 - val_mean_absolute_error: 0.0148\n",
      "Epoch 78/300\n",
      "386/386 [==============================] - 0s 41us/sample - loss: 0.0123 - mean_absolute_error: 0.0152 - val_loss: 0.0100 - val_mean_absolute_error: 0.0148\n",
      "Epoch 79/300\n",
      "386/386 [==============================] - 0s 40us/sample - loss: 0.0121 - mean_absolute_error: 0.0151 - val_loss: 0.0098 - val_mean_absolute_error: 0.0147\n",
      "Epoch 80/300\n",
      "386/386 [==============================] - 0s 41us/sample - loss: 0.0118 - mean_absolute_error: 0.0150 - val_loss: 0.0097 - val_mean_absolute_error: 0.0146\n",
      "Epoch 81/300\n",
      "386/386 [==============================] - 0s 41us/sample - loss: 0.0116 - mean_absolute_error: 0.0148 - val_loss: 0.0095 - val_mean_absolute_error: 0.0145\n",
      "Epoch 82/300\n",
      "386/386 [==============================] - 0s 45us/sample - loss: 0.0114 - mean_absolute_error: 0.0147 - val_loss: 0.0093 - val_mean_absolute_error: 0.0144\n",
      "Epoch 83/300\n",
      "386/386 [==============================] - 0s 44us/sample - loss: 0.0112 - mean_absolute_error: 0.0146 - val_loss: 0.0092 - val_mean_absolute_error: 0.0143\n",
      "Epoch 84/300\n",
      "386/386 [==============================] - 0s 45us/sample - loss: 0.0110 - mean_absolute_error: 0.0145 - val_loss: 0.0090 - val_mean_absolute_error: 0.0142\n",
      "Epoch 85/300\n",
      "386/386 [==============================] - 0s 42us/sample - loss: 0.0107 - mean_absolute_error: 0.0144 - val_loss: 0.0088 - val_mean_absolute_error: 0.0141\n",
      "Epoch 86/300\n",
      "386/386 [==============================] - 0s 44us/sample - loss: 0.0106 - mean_absolute_error: 0.0143 - val_loss: 0.0087 - val_mean_absolute_error: 0.0140\n",
      "Epoch 87/300\n",
      "386/386 [==============================] - 0s 44us/sample - loss: 0.0104 - mean_absolute_error: 0.0142 - val_loss: 0.0085 - val_mean_absolute_error: 0.0140\n",
      "Epoch 88/300\n",
      "386/386 [==============================] - 0s 41us/sample - loss: 0.0102 - mean_absolute_error: 0.0141 - val_loss: 0.0084 - val_mean_absolute_error: 0.0139\n",
      "Epoch 89/300\n",
      "386/386 [==============================] - 0s 41us/sample - loss: 0.0100 - mean_absolute_error: 0.0140 - val_loss: 0.0083 - val_mean_absolute_error: 0.0138\n",
      "Epoch 90/300\n",
      "386/386 [==============================] - 0s 43us/sample - loss: 0.0098 - mean_absolute_error: 0.0139 - val_loss: 0.0081 - val_mean_absolute_error: 0.0137\n",
      "Epoch 91/300\n",
      "386/386 [==============================] - 0s 42us/sample - loss: 0.0097 - mean_absolute_error: 0.0138 - val_loss: 0.0080 - val_mean_absolute_error: 0.0136\n",
      "Epoch 92/300\n",
      "386/386 [==============================] - 0s 43us/sample - loss: 0.0095 - mean_absolute_error: 0.0137 - val_loss: 0.0079 - val_mean_absolute_error: 0.0135\n",
      "Epoch 93/300\n",
      "386/386 [==============================] - 0s 44us/sample - loss: 0.0093 - mean_absolute_error: 0.0136 - val_loss: 0.0077 - val_mean_absolute_error: 0.0134\n",
      "Epoch 94/300\n",
      "386/386 [==============================] - 0s 42us/sample - loss: 0.0092 - mean_absolute_error: 0.0135 - val_loss: 0.0076 - val_mean_absolute_error: 0.0134\n",
      "Epoch 95/300\n",
      "386/386 [==============================] - 0s 43us/sample - loss: 0.0090 - mean_absolute_error: 0.0134 - val_loss: 0.0075 - val_mean_absolute_error: 0.0133\n",
      "Epoch 96/300\n"
     ]
    },
    {
     "name": "stdout",
     "output_type": "stream",
     "text": [
      "386/386 [==============================] - 0s 43us/sample - loss: 0.0089 - mean_absolute_error: 0.0134 - val_loss: 0.0074 - val_mean_absolute_error: 0.0132\n",
      "Epoch 97/300\n",
      "386/386 [==============================] - 0s 44us/sample - loss: 0.0087 - mean_absolute_error: 0.0133 - val_loss: 0.0073 - val_mean_absolute_error: 0.0131\n",
      "Epoch 98/300\n",
      "386/386 [==============================] - 0s 44us/sample - loss: 0.0086 - mean_absolute_error: 0.0132 - val_loss: 0.0072 - val_mean_absolute_error: 0.0130\n",
      "Epoch 99/300\n",
      "386/386 [==============================] - 0s 41us/sample - loss: 0.0084 - mean_absolute_error: 0.0131 - val_loss: 0.0071 - val_mean_absolute_error: 0.0130\n",
      "Epoch 100/300\n",
      "386/386 [==============================] - 0s 41us/sample - loss: 0.0083 - mean_absolute_error: 0.0130 - val_loss: 0.0070 - val_mean_absolute_error: 0.0129\n",
      "Epoch 101/300\n",
      "386/386 [==============================] - 0s 44us/sample - loss: 0.0082 - mean_absolute_error: 0.0130 - val_loss: 0.0069 - val_mean_absolute_error: 0.0128\n",
      "Epoch 102/300\n",
      "386/386 [==============================] - 0s 41us/sample - loss: 0.0081 - mean_absolute_error: 0.0129 - val_loss: 0.0068 - val_mean_absolute_error: 0.0128\n",
      "Epoch 103/300\n",
      "386/386 [==============================] - 0s 43us/sample - loss: 0.0079 - mean_absolute_error: 0.0128 - val_loss: 0.0067 - val_mean_absolute_error: 0.0127\n",
      "Epoch 104/300\n",
      "386/386 [==============================] - 0s 44us/sample - loss: 0.0078 - mean_absolute_error: 0.0127 - val_loss: 0.0066 - val_mean_absolute_error: 0.0127\n",
      "Epoch 105/300\n",
      "386/386 [==============================] - 0s 43us/sample - loss: 0.0077 - mean_absolute_error: 0.0127 - val_loss: 0.0065 - val_mean_absolute_error: 0.0126\n",
      "Epoch 106/300\n",
      "386/386 [==============================] - 0s 44us/sample - loss: 0.0076 - mean_absolute_error: 0.0126 - val_loss: 0.0064 - val_mean_absolute_error: 0.0125\n",
      "Epoch 107/300\n",
      "386/386 [==============================] - 0s 42us/sample - loss: 0.0075 - mean_absolute_error: 0.0125 - val_loss: 0.0063 - val_mean_absolute_error: 0.0125\n",
      "Epoch 108/300\n",
      "386/386 [==============================] - 0s 54us/sample - loss: 0.0074 - mean_absolute_error: 0.0125 - val_loss: 0.0062 - val_mean_absolute_error: 0.0124\n",
      "Epoch 109/300\n",
      "386/386 [==============================] - 0s 54us/sample - loss: 0.0073 - mean_absolute_error: 0.0124 - val_loss: 0.0062 - val_mean_absolute_error: 0.0123\n",
      "Epoch 110/300\n",
      "386/386 [==============================] - 0s 45us/sample - loss: 0.0072 - mean_absolute_error: 0.0123 - val_loss: 0.0061 - val_mean_absolute_error: 0.0123\n",
      "Epoch 111/300\n",
      "386/386 [==============================] - 0s 59us/sample - loss: 0.0071 - mean_absolute_error: 0.0123 - val_loss: 0.0060 - val_mean_absolute_error: 0.0122\n",
      "Epoch 112/300\n",
      "386/386 [==============================] - 0s 52us/sample - loss: 0.0070 - mean_absolute_error: 0.0122 - val_loss: 0.0059 - val_mean_absolute_error: 0.0122\n",
      "Epoch 113/300\n",
      "386/386 [==============================] - 0s 54us/sample - loss: 0.0069 - mean_absolute_error: 0.0121 - val_loss: 0.0059 - val_mean_absolute_error: 0.0121\n",
      "Epoch 114/300\n",
      "386/386 [==============================] - 0s 57us/sample - loss: 0.0068 - mean_absolute_error: 0.0121 - val_loss: 0.0058 - val_mean_absolute_error: 0.0120\n",
      "Epoch 115/300\n",
      "386/386 [==============================] - 0s 49us/sample - loss: 0.0067 - mean_absolute_error: 0.0120 - val_loss: 0.0057 - val_mean_absolute_error: 0.0120\n",
      "Epoch 116/300\n",
      "386/386 [==============================] - 0s 41us/sample - loss: 0.0066 - mean_absolute_error: 0.0119 - val_loss: 0.0056 - val_mean_absolute_error: 0.0119\n",
      "Epoch 117/300\n",
      "386/386 [==============================] - 0s 41us/sample - loss: 0.0065 - mean_absolute_error: 0.0119 - val_loss: 0.0056 - val_mean_absolute_error: 0.0119\n",
      "Epoch 118/300\n",
      "386/386 [==============================] - 0s 41us/sample - loss: 0.0064 - mean_absolute_error: 0.0118 - val_loss: 0.0055 - val_mean_absolute_error: 0.0118\n",
      "Epoch 119/300\n",
      "386/386 [==============================] - 0s 43us/sample - loss: 0.0063 - mean_absolute_error: 0.0118 - val_loss: 0.0054 - val_mean_absolute_error: 0.0118\n",
      "Epoch 120/300\n",
      "386/386 [==============================] - 0s 44us/sample - loss: 0.0062 - mean_absolute_error: 0.0117 - val_loss: 0.0054 - val_mean_absolute_error: 0.0117\n",
      "Epoch 121/300\n",
      "386/386 [==============================] - 0s 47us/sample - loss: 0.0061 - mean_absolute_error: 0.0117 - val_loss: 0.0053 - val_mean_absolute_error: 0.0117\n",
      "Epoch 122/300\n",
      "386/386 [==============================] - 0s 41us/sample - loss: 0.0061 - mean_absolute_error: 0.0116 - val_loss: 0.0053 - val_mean_absolute_error: 0.0116\n",
      "Epoch 123/300\n",
      "386/386 [==============================] - 0s 41us/sample - loss: 0.0060 - mean_absolute_error: 0.0115 - val_loss: 0.0052 - val_mean_absolute_error: 0.0116\n",
      "Epoch 124/300\n",
      "386/386 [==============================] - 0s 41us/sample - loss: 0.0059 - mean_absolute_error: 0.0115 - val_loss: 0.0051 - val_mean_absolute_error: 0.0115\n",
      "Epoch 125/300\n",
      "386/386 [==============================] - 0s 44us/sample - loss: 0.0058 - mean_absolute_error: 0.0114 - val_loss: 0.0051 - val_mean_absolute_error: 0.0115\n",
      "Epoch 126/300\n",
      "386/386 [==============================] - 0s 45us/sample - loss: 0.0058 - mean_absolute_error: 0.0114 - val_loss: 0.0050 - val_mean_absolute_error: 0.0114\n",
      "Epoch 127/300\n",
      "386/386 [==============================] - 0s 42us/sample - loss: 0.0057 - mean_absolute_error: 0.0113 - val_loss: 0.0050 - val_mean_absolute_error: 0.0114\n",
      "Epoch 128/300\n",
      "386/386 [==============================] - 0s 44us/sample - loss: 0.0056 - mean_absolute_error: 0.0113 - val_loss: 0.0049 - val_mean_absolute_error: 0.0113\n",
      "Epoch 129/300\n",
      "386/386 [==============================] - ETA: 0s - loss: 0.0064 - mean_absolute_error: 0.012 - 0s 42us/sample - loss: 0.0056 - mean_absolute_error: 0.0112 - val_loss: 0.0049 - val_mean_absolute_error: 0.0113\n",
      "Epoch 130/300\n",
      "386/386 [==============================] - 0s 43us/sample - loss: 0.0055 - mean_absolute_error: 0.0112 - val_loss: 0.0048 - val_mean_absolute_error: 0.0113\n",
      "Epoch 131/300\n",
      "386/386 [==============================] - 0s 44us/sample - loss: 0.0054 - mean_absolute_error: 0.0112 - val_loss: 0.0048 - val_mean_absolute_error: 0.0112\n",
      "Epoch 132/300\n",
      "386/386 [==============================] - 0s 72us/sample - loss: 0.0054 - mean_absolute_error: 0.0111 - val_loss: 0.0047 - val_mean_absolute_error: 0.0111\n",
      "Epoch 133/300\n",
      "386/386 [==============================] - 0s 72us/sample - loss: 0.0053 - mean_absolute_error: 0.0111 - val_loss: 0.0047 - val_mean_absolute_error: 0.0111\n",
      "Epoch 134/300\n",
      "386/386 [==============================] - 0s 44us/sample - loss: 0.0052 - mean_absolute_error: 0.0110 - val_loss: 0.0046 - val_mean_absolute_error: 0.0111\n",
      "Epoch 135/300\n",
      "386/386 [==============================] - 0s 44us/sample - loss: 0.0052 - mean_absolute_error: 0.0110 - val_loss: 0.0046 - val_mean_absolute_error: 0.0110\n",
      "Epoch 136/300\n",
      "386/386 [==============================] - 0s 41us/sample - loss: 0.0051 - mean_absolute_error: 0.0109 - val_loss: 0.0045 - val_mean_absolute_error: 0.0111\n",
      "Epoch 137/300\n",
      "386/386 [==============================] - 0s 39us/sample - loss: 0.0051 - mean_absolute_error: 0.0109 - val_loss: 0.0045 - val_mean_absolute_error: 0.0110\n",
      "Epoch 138/300\n",
      "386/386 [==============================] - 0s 41us/sample - loss: 0.0050 - mean_absolute_error: 0.0109 - val_loss: 0.0044 - val_mean_absolute_error: 0.0110\n",
      "Epoch 139/300\n",
      "386/386 [==============================] - 0s 41us/sample - loss: 0.0050 - mean_absolute_error: 0.0108 - val_loss: 0.0044 - val_mean_absolute_error: 0.0109\n",
      "Epoch 140/300\n",
      "386/386 [==============================] - 0s 44us/sample - loss: 0.0049 - mean_absolute_error: 0.0108 - val_loss: 0.0044 - val_mean_absolute_error: 0.0109\n",
      "Epoch 141/300\n",
      "386/386 [==============================] - 0s 37us/sample - loss: 0.0049 - mean_absolute_error: 0.0107 - val_loss: 0.0043 - val_mean_absolute_error: 0.0108\n",
      "Epoch 142/300\n",
      "386/386 [==============================] - 0s 36us/sample - loss: 0.0048 - mean_absolute_error: 0.0107 - val_loss: 0.0043 - val_mean_absolute_error: 0.0108\n",
      "Epoch 143/300\n",
      "386/386 [==============================] - 0s 38us/sample - loss: 0.0048 - mean_absolute_error: 0.0107 - val_loss: 0.0042 - val_mean_absolute_error: 0.0107\n"
     ]
    },
    {
     "name": "stdout",
     "output_type": "stream",
     "text": [
      "Epoch 144/300\n",
      "386/386 [==============================] - 0s 38us/sample - loss: 0.0047 - mean_absolute_error: 0.0106 - val_loss: 0.0042 - val_mean_absolute_error: 0.0107\n",
      "Epoch 145/300\n",
      "386/386 [==============================] - 0s 36us/sample - loss: 0.0047 - mean_absolute_error: 0.0106 - val_loss: 0.0042 - val_mean_absolute_error: 0.0106\n",
      "Epoch 146/300\n",
      "386/386 [==============================] - 0s 36us/sample - loss: 0.0046 - mean_absolute_error: 0.0106 - val_loss: 0.0041 - val_mean_absolute_error: 0.0106\n",
      "Epoch 147/300\n",
      "386/386 [==============================] - 0s 39us/sample - loss: 0.0046 - mean_absolute_error: 0.0105 - val_loss: 0.0041 - val_mean_absolute_error: 0.0106\n",
      "Epoch 148/300\n",
      "386/386 [==============================] - 0s 35us/sample - loss: 0.0045 - mean_absolute_error: 0.0105 - val_loss: 0.0041 - val_mean_absolute_error: 0.0105\n",
      "Epoch 149/300\n",
      "386/386 [==============================] - 0s 36us/sample - loss: 0.0045 - mean_absolute_error: 0.0104 - val_loss: 0.0040 - val_mean_absolute_error: 0.0105\n",
      "Epoch 150/300\n",
      "386/386 [==============================] - 0s 36us/sample - loss: 0.0044 - mean_absolute_error: 0.0104 - val_loss: 0.0040 - val_mean_absolute_error: 0.0105\n",
      "Epoch 151/300\n",
      "386/386 [==============================] - 0s 35us/sample - loss: 0.0044 - mean_absolute_error: 0.0104 - val_loss: 0.0040 - val_mean_absolute_error: 0.0104\n",
      "Epoch 152/300\n",
      "386/386 [==============================] - 0s 35us/sample - loss: 0.0044 - mean_absolute_error: 0.0103 - val_loss: 0.0039 - val_mean_absolute_error: 0.0104\n",
      "Epoch 153/300\n",
      "386/386 [==============================] - 0s 36us/sample - loss: 0.0043 - mean_absolute_error: 0.0103 - val_loss: 0.0039 - val_mean_absolute_error: 0.0103\n",
      "Epoch 154/300\n",
      "386/386 [==============================] - 0s 37us/sample - loss: 0.0043 - mean_absolute_error: 0.0103 - val_loss: 0.0039 - val_mean_absolute_error: 0.0103\n",
      "Epoch 155/300\n",
      "386/386 [==============================] - 0s 36us/sample - loss: 0.0042 - mean_absolute_error: 0.0102 - val_loss: 0.0038 - val_mean_absolute_error: 0.0103\n",
      "Epoch 156/300\n",
      "386/386 [==============================] - 0s 35us/sample - loss: 0.0042 - mean_absolute_error: 0.0102 - val_loss: 0.0038 - val_mean_absolute_error: 0.0102\n",
      "Epoch 157/300\n",
      "386/386 [==============================] - 0s 36us/sample - loss: 0.0042 - mean_absolute_error: 0.0102 - val_loss: 0.0038 - val_mean_absolute_error: 0.0102\n",
      "Epoch 158/300\n",
      "386/386 [==============================] - 0s 36us/sample - loss: 0.0041 - mean_absolute_error: 0.0101 - val_loss: 0.0037 - val_mean_absolute_error: 0.0101\n",
      "Epoch 159/300\n",
      "386/386 [==============================] - 0s 39us/sample - loss: 0.0041 - mean_absolute_error: 0.0101 - val_loss: 0.0037 - val_mean_absolute_error: 0.0101\n",
      "Epoch 160/300\n",
      "386/386 [==============================] - 0s 37us/sample - loss: 0.0041 - mean_absolute_error: 0.0101 - val_loss: 0.0037 - val_mean_absolute_error: 0.0101\n",
      "Epoch 161/300\n",
      "386/386 [==============================] - 0s 38us/sample - loss: 0.0040 - mean_absolute_error: 0.0101 - val_loss: 0.0037 - val_mean_absolute_error: 0.0102\n",
      "Epoch 162/300\n",
      "386/386 [==============================] - 0s 35us/sample - loss: 0.0040 - mean_absolute_error: 0.0100 - val_loss: 0.0036 - val_mean_absolute_error: 0.0101\n",
      "Epoch 163/300\n",
      "386/386 [==============================] - 0s 35us/sample - loss: 0.0040 - mean_absolute_error: 0.0100 - val_loss: 0.0036 - val_mean_absolute_error: 0.0101\n",
      "Epoch 164/300\n",
      "386/386 [==============================] - 0s 38us/sample - loss: 0.0039 - mean_absolute_error: 0.0100 - val_loss: 0.0036 - val_mean_absolute_error: 0.0100\n",
      "Epoch 165/300\n",
      "386/386 [==============================] - 0s 37us/sample - loss: 0.0039 - mean_absolute_error: 0.0100 - val_loss: 0.0035 - val_mean_absolute_error: 0.0100\n",
      "Epoch 166/300\n",
      "386/386 [==============================] - 0s 37us/sample - loss: 0.0039 - mean_absolute_error: 0.0099 - val_loss: 0.0035 - val_mean_absolute_error: 0.0100\n",
      "Epoch 167/300\n",
      "386/386 [==============================] - 0s 36us/sample - loss: 0.0038 - mean_absolute_error: 0.0099 - val_loss: 0.0035 - val_mean_absolute_error: 0.0099\n",
      "Epoch 168/300\n",
      "386/386 [==============================] - 0s 36us/sample - loss: 0.0038 - mean_absolute_error: 0.0099 - val_loss: 0.0035 - val_mean_absolute_error: 0.0099\n",
      "Epoch 169/300\n",
      "386/386 [==============================] - 0s 38us/sample - loss: 0.0038 - mean_absolute_error: 0.0098 - val_loss: 0.0035 - val_mean_absolute_error: 0.0099\n",
      "Epoch 170/300\n",
      "386/386 [==============================] - 0s 39us/sample - loss: 0.0037 - mean_absolute_error: 0.0098 - val_loss: 0.0034 - val_mean_absolute_error: 0.0099\n",
      "Epoch 171/300\n",
      "386/386 [==============================] - 0s 38us/sample - loss: 0.0037 - mean_absolute_error: 0.0098 - val_loss: 0.0034 - val_mean_absolute_error: 0.0098\n",
      "Epoch 172/300\n",
      "386/386 [==============================] - 0s 38us/sample - loss: 0.0037 - mean_absolute_error: 0.0098 - val_loss: 0.0034 - val_mean_absolute_error: 0.0098\n",
      "Epoch 173/300\n",
      "386/386 [==============================] - 0s 35us/sample - loss: 0.0036 - mean_absolute_error: 0.0097 - val_loss: 0.0033 - val_mean_absolute_error: 0.0097\n",
      "Epoch 174/300\n",
      "386/386 [==============================] - 0s 39us/sample - loss: 0.0036 - mean_absolute_error: 0.0097 - val_loss: 0.0033 - val_mean_absolute_error: 0.0096\n",
      "Epoch 175/300\n",
      "386/386 [==============================] - 0s 38us/sample - loss: 0.0036 - mean_absolute_error: 0.0097 - val_loss: 0.0033 - val_mean_absolute_error: 0.0096\n",
      "Epoch 176/300\n",
      "386/386 [==============================] - 0s 38us/sample - loss: 0.0036 - mean_absolute_error: 0.0096 - val_loss: 0.0033 - val_mean_absolute_error: 0.0096\n",
      "Epoch 177/300\n",
      "386/386 [==============================] - 0s 36us/sample - loss: 0.0035 - mean_absolute_error: 0.0096 - val_loss: 0.0033 - val_mean_absolute_error: 0.0096\n",
      "Epoch 178/300\n",
      "386/386 [==============================] - 0s 41us/sample - loss: 0.0035 - mean_absolute_error: 0.0096 - val_loss: 0.0032 - val_mean_absolute_error: 0.0096\n",
      "Epoch 179/300\n",
      "386/386 [==============================] - 0s 39us/sample - loss: 0.0035 - mean_absolute_error: 0.0096 - val_loss: 0.0032 - val_mean_absolute_error: 0.0096\n",
      "Epoch 180/300\n",
      "386/386 [==============================] - 0s 41us/sample - loss: 0.0035 - mean_absolute_error: 0.0096 - val_loss: 0.0032 - val_mean_absolute_error: 0.0095\n",
      "Epoch 181/300\n",
      "386/386 [==============================] - 0s 38us/sample - loss: 0.0034 - mean_absolute_error: 0.0095 - val_loss: 0.0032 - val_mean_absolute_error: 0.0095\n",
      "Epoch 182/300\n",
      "386/386 [==============================] - 0s 38us/sample - loss: 0.0034 - mean_absolute_error: 0.0095 - val_loss: 0.0032 - val_mean_absolute_error: 0.0095\n",
      "Epoch 183/300\n",
      "386/386 [==============================] - 0s 39us/sample - loss: 0.0034 - mean_absolute_error: 0.0095 - val_loss: 0.0032 - val_mean_absolute_error: 0.0095\n",
      "Epoch 184/300\n",
      "386/386 [==============================] - 0s 38us/sample - loss: 0.0034 - mean_absolute_error: 0.0095 - val_loss: 0.0031 - val_mean_absolute_error: 0.0095\n",
      "Epoch 185/300\n",
      "386/386 [==============================] - 0s 36us/sample - loss: 0.0033 - mean_absolute_error: 0.0094 - val_loss: 0.0031 - val_mean_absolute_error: 0.0094\n",
      "Epoch 186/300\n",
      "386/386 [==============================] - 0s 38us/sample - loss: 0.0033 - mean_absolute_error: 0.0094 - val_loss: 0.0031 - val_mean_absolute_error: 0.0094\n",
      "Epoch 187/300\n",
      "386/386 [==============================] - 0s 39us/sample - loss: 0.0033 - mean_absolute_error: 0.0094 - val_loss: 0.0031 - val_mean_absolute_error: 0.0094\n",
      "Epoch 188/300\n",
      "386/386 [==============================] - 0s 39us/sample - loss: 0.0033 - mean_absolute_error: 0.0094 - val_loss: 0.0031 - val_mean_absolute_error: 0.0094\n",
      "Epoch 189/300\n",
      "386/386 [==============================] - 0s 40us/sample - loss: 0.0033 - mean_absolute_error: 0.0094 - val_loss: 0.0031 - val_mean_absolute_error: 0.0094\n",
      "Epoch 190/300\n",
      "386/386 [==============================] - 0s 39us/sample - loss: 0.0032 - mean_absolute_error: 0.0093 - val_loss: 0.0030 - val_mean_absolute_error: 0.0093\n",
      "Epoch 191/300\n",
      "386/386 [==============================] - 0s 40us/sample - loss: 0.0032 - mean_absolute_error: 0.0093 - val_loss: 0.0030 - val_mean_absolute_error: 0.0093\n",
      "Epoch 192/300\n",
      "386/386 [==============================] - 0s 41us/sample - loss: 0.0032 - mean_absolute_error: 0.0093 - val_loss: 0.0030 - val_mean_absolute_error: 0.0093\n",
      "Epoch 193/300\n",
      "386/386 [==============================] - 0s 41us/sample - loss: 0.0032 - mean_absolute_error: 0.0093 - val_loss: 0.0030 - val_mean_absolute_error: 0.0092\n",
      "Epoch 194/300\n",
      "386/386 [==============================] - 0s 41us/sample - loss: 0.0032 - mean_absolute_error: 0.0092 - val_loss: 0.0030 - val_mean_absolute_error: 0.0092\n",
      "Epoch 195/300\n",
      "386/386 [==============================] - 0s 40us/sample - loss: 0.0031 - mean_absolute_error: 0.0092 - val_loss: 0.0030 - val_mean_absolute_error: 0.0092\n",
      "Epoch 196/300\n",
      "386/386 [==============================] - 0s 39us/sample - loss: 0.0031 - mean_absolute_error: 0.0092 - val_loss: 0.0030 - val_mean_absolute_error: 0.0092\n",
      "Epoch 197/300\n",
      "386/386 [==============================] - 0s 41us/sample - loss: 0.0031 - mean_absolute_error: 0.0092 - val_loss: 0.0029 - val_mean_absolute_error: 0.0092\n",
      "Epoch 198/300\n",
      "386/386 [==============================] - 0s 39us/sample - loss: 0.0031 - mean_absolute_error: 0.0092 - val_loss: 0.0029 - val_mean_absolute_error: 0.0092\n",
      "Epoch 199/300\n",
      "386/386 [==============================] - 0s 41us/sample - loss: 0.0031 - mean_absolute_error: 0.0091 - val_loss: 0.0029 - val_mean_absolute_error: 0.0091\n",
      "Epoch 200/300\n",
      "386/386 [==============================] - 0s 39us/sample - loss: 0.0030 - mean_absolute_error: 0.0091 - val_loss: 0.0029 - val_mean_absolute_error: 0.0091\n",
      "Epoch 201/300\n",
      "386/386 [==============================] - 0s 36us/sample - loss: 0.0030 - mean_absolute_error: 0.0091 - val_loss: 0.0029 - val_mean_absolute_error: 0.0091\n",
      "Epoch 202/300\n",
      "386/386 [==============================] - 0s 37us/sample - loss: 0.0030 - mean_absolute_error: 0.0091 - val_loss: 0.0029 - val_mean_absolute_error: 0.0091\n",
      "Epoch 203/300\n",
      "386/386 [==============================] - 0s 39us/sample - loss: 0.0030 - mean_absolute_error: 0.0091 - val_loss: 0.0029 - val_mean_absolute_error: 0.0091\n",
      "Epoch 204/300\n",
      "386/386 [==============================] - 0s 37us/sample - loss: 0.0030 - mean_absolute_error: 0.0091 - val_loss: 0.0028 - val_mean_absolute_error: 0.0091\n",
      "Epoch 205/300\n",
      "386/386 [==============================] - 0s 36us/sample - loss: 0.0030 - mean_absolute_error: 0.0090 - val_loss: 0.0028 - val_mean_absolute_error: 0.0091\n",
      "Epoch 206/300\n",
      "386/386 [==============================] - 0s 37us/sample - loss: 0.0029 - mean_absolute_error: 0.0090 - val_loss: 0.0028 - val_mean_absolute_error: 0.0090\n",
      "Epoch 207/300\n",
      "386/386 [==============================] - 0s 36us/sample - loss: 0.0029 - mean_absolute_error: 0.0090 - val_loss: 0.0028 - val_mean_absolute_error: 0.0090\n",
      "Epoch 208/300\n",
      "386/386 [==============================] - 0s 36us/sample - loss: 0.0029 - mean_absolute_error: 0.0090 - val_loss: 0.0028 - val_mean_absolute_error: 0.0090\n",
      "Epoch 209/300\n",
      "386/386 [==============================] - 0s 36us/sample - loss: 0.0029 - mean_absolute_error: 0.0090 - val_loss: 0.0028 - val_mean_absolute_error: 0.0090\n",
      "Epoch 210/300\n",
      "386/386 [==============================] - 0s 37us/sample - loss: 0.0029 - mean_absolute_error: 0.0090 - val_loss: 0.0028 - val_mean_absolute_error: 0.0090\n",
      "Epoch 211/300\n",
      "386/386 [==============================] - 0s 41us/sample - loss: 0.0029 - mean_absolute_error: 0.0089 - val_loss: 0.0028 - val_mean_absolute_error: 0.0090\n",
      "Epoch 212/300\n",
      "386/386 [==============================] - 0s 35us/sample - loss: 0.0029 - mean_absolute_error: 0.0089 - val_loss: 0.0027 - val_mean_absolute_error: 0.0090\n",
      "Epoch 213/300\n",
      "386/386 [==============================] - 0s 39us/sample - loss: 0.0028 - mean_absolute_error: 0.0089 - val_loss: 0.0027 - val_mean_absolute_error: 0.0089\n",
      "Epoch 214/300\n",
      "386/386 [==============================] - 0s 36us/sample - loss: 0.0028 - mean_absolute_error: 0.0089 - val_loss: 0.0027 - val_mean_absolute_error: 0.0089\n",
      "Epoch 215/300\n",
      "386/386 [==============================] - 0s 35us/sample - loss: 0.0028 - mean_absolute_error: 0.0089 - val_loss: 0.0027 - val_mean_absolute_error: 0.0089\n",
      "Epoch 216/300\n",
      "386/386 [==============================] - 0s 36us/sample - loss: 0.0028 - mean_absolute_error: 0.0089 - val_loss: 0.0027 - val_mean_absolute_error: 0.0089\n",
      "Epoch 217/300\n",
      "386/386 [==============================] - 0s 36us/sample - loss: 0.0028 - mean_absolute_error: 0.0088 - val_loss: 0.0027 - val_mean_absolute_error: 0.0089\n",
      "Epoch 218/300\n",
      "386/386 [==============================] - 0s 39us/sample - loss: 0.0028 - mean_absolute_error: 0.0088 - val_loss: 0.0027 - val_mean_absolute_error: 0.0088\n",
      "Epoch 219/300\n",
      "386/386 [==============================] - 0s 36us/sample - loss: 0.0028 - mean_absolute_error: 0.0088 - val_loss: 0.0027 - val_mean_absolute_error: 0.0088\n",
      "Epoch 220/300\n",
      "386/386 [==============================] - 0s 37us/sample - loss: 0.0027 - mean_absolute_error: 0.0088 - val_loss: 0.0026 - val_mean_absolute_error: 0.0088\n",
      "Epoch 221/300\n",
      "386/386 [==============================] - 0s 34us/sample - loss: 0.0027 - mean_absolute_error: 0.0088 - val_loss: 0.0026 - val_mean_absolute_error: 0.0088\n",
      "Epoch 222/300\n",
      "386/386 [==============================] - 0s 39us/sample - loss: 0.0027 - mean_absolute_error: 0.0088 - val_loss: 0.0026 - val_mean_absolute_error: 0.0088\n",
      "Epoch 223/300\n",
      "386/386 [==============================] - 0s 38us/sample - loss: 0.0027 - mean_absolute_error: 0.0087 - val_loss: 0.0026 - val_mean_absolute_error: 0.0088\n",
      "Epoch 224/300\n",
      "386/386 [==============================] - 0s 36us/sample - loss: 0.0027 - mean_absolute_error: 0.0087 - val_loss: 0.0026 - val_mean_absolute_error: 0.0088\n",
      "Epoch 225/300\n",
      "386/386 [==============================] - 0s 36us/sample - loss: 0.0027 - mean_absolute_error: 0.0087 - val_loss: 0.0026 - val_mean_absolute_error: 0.0088\n",
      "Epoch 226/300\n",
      "386/386 [==============================] - 0s 40us/sample - loss: 0.0027 - mean_absolute_error: 0.0087 - val_loss: 0.0026 - val_mean_absolute_error: 0.0087\n",
      "Epoch 227/300\n",
      "386/386 [==============================] - 0s 36us/sample - loss: 0.0027 - mean_absolute_error: 0.0087 - val_loss: 0.0026 - val_mean_absolute_error: 0.0087\n",
      "Epoch 228/300\n",
      "386/386 [==============================] - 0s 41us/sample - loss: 0.0026 - mean_absolute_error: 0.0087 - val_loss: 0.0026 - val_mean_absolute_error: 0.0087\n",
      "Epoch 229/300\n",
      "386/386 [==============================] - 0s 36us/sample - loss: 0.0026 - mean_absolute_error: 0.0087 - val_loss: 0.0025 - val_mean_absolute_error: 0.0087\n",
      "Epoch 230/300\n",
      "386/386 [==============================] - 0s 36us/sample - loss: 0.0026 - mean_absolute_error: 0.0087 - val_loss: 0.0025 - val_mean_absolute_error: 0.0087\n",
      "Epoch 231/300\n",
      "386/386 [==============================] - 0s 41us/sample - loss: 0.0026 - mean_absolute_error: 0.0086 - val_loss: 0.0025 - val_mean_absolute_error: 0.0086\n",
      "Epoch 232/300\n",
      "386/386 [==============================] - 0s 37us/sample - loss: 0.0026 - mean_absolute_error: 0.0086 - val_loss: 0.0025 - val_mean_absolute_error: 0.0086\n",
      "Epoch 233/300\n",
      "386/386 [==============================] - 0s 39us/sample - loss: 0.0026 - mean_absolute_error: 0.0086 - val_loss: 0.0025 - val_mean_absolute_error: 0.0086\n",
      "Epoch 234/300\n",
      "386/386 [==============================] - 0s 36us/sample - loss: 0.0026 - mean_absolute_error: 0.0086 - val_loss: 0.0025 - val_mean_absolute_error: 0.0086\n",
      "Epoch 235/300\n",
      "386/386 [==============================] - 0s 34us/sample - loss: 0.0026 - mean_absolute_error: 0.0086 - val_loss: 0.0025 - val_mean_absolute_error: 0.0086\n",
      "Epoch 236/300\n",
      "386/386 [==============================] - 0s 38us/sample - loss: 0.0026 - mean_absolute_error: 0.0086 - val_loss: 0.0025 - val_mean_absolute_error: 0.0086\n",
      "Epoch 237/300\n",
      "386/386 [==============================] - 0s 37us/sample - loss: 0.0025 - mean_absolute_error: 0.0086 - val_loss: 0.0025 - val_mean_absolute_error: 0.0086\n",
      "Epoch 238/300\n",
      "386/386 [==============================] - 0s 43us/sample - loss: 0.0025 - mean_absolute_error: 0.0085 - val_loss: 0.0025 - val_mean_absolute_error: 0.0086\n",
      "Epoch 239/300\n",
      "386/386 [==============================] - 0s 39us/sample - loss: 0.0025 - mean_absolute_error: 0.0085 - val_loss: 0.0025 - val_mean_absolute_error: 0.0085\n",
      "Epoch 240/300\n"
     ]
    },
    {
     "name": "stdout",
     "output_type": "stream",
     "text": [
      "386/386 [==============================] - 0s 41us/sample - loss: 0.0025 - mean_absolute_error: 0.0085 - val_loss: 0.0025 - val_mean_absolute_error: 0.0086\n",
      "Epoch 241/300\n",
      "386/386 [==============================] - 0s 41us/sample - loss: 0.0025 - mean_absolute_error: 0.0085 - val_loss: 0.0025 - val_mean_absolute_error: 0.0086\n",
      "Epoch 242/300\n",
      "386/386 [==============================] - 0s 36us/sample - loss: 0.0025 - mean_absolute_error: 0.0085 - val_loss: 0.0024 - val_mean_absolute_error: 0.0085\n",
      "Epoch 243/300\n",
      "386/386 [==============================] - 0s 41us/sample - loss: 0.0025 - mean_absolute_error: 0.0085 - val_loss: 0.0024 - val_mean_absolute_error: 0.0085\n",
      "Epoch 244/300\n",
      "386/386 [==============================] - 0s 36us/sample - loss: 0.0025 - mean_absolute_error: 0.0085 - val_loss: 0.0024 - val_mean_absolute_error: 0.0086\n",
      "Epoch 245/300\n",
      "386/386 [==============================] - 0s 41us/sample - loss: 0.0025 - mean_absolute_error: 0.0085 - val_loss: 0.0024 - val_mean_absolute_error: 0.0085\n",
      "Epoch 246/300\n",
      "386/386 [==============================] - 0s 43us/sample - loss: 0.0024 - mean_absolute_error: 0.0085 - val_loss: 0.0024 - val_mean_absolute_error: 0.0085\n",
      "Epoch 247/300\n",
      "386/386 [==============================] - 0s 37us/sample - loss: 0.0024 - mean_absolute_error: 0.0084 - val_loss: 0.0024 - val_mean_absolute_error: 0.0085\n",
      "Epoch 248/300\n",
      "386/386 [==============================] - 0s 41us/sample - loss: 0.0024 - mean_absolute_error: 0.0084 - val_loss: 0.0024 - val_mean_absolute_error: 0.0085\n",
      "Epoch 249/300\n",
      "386/386 [==============================] - 0s 40us/sample - loss: 0.0024 - mean_absolute_error: 0.0084 - val_loss: 0.0024 - val_mean_absolute_error: 0.0085\n",
      "Epoch 250/300\n",
      "386/386 [==============================] - 0s 38us/sample - loss: 0.0024 - mean_absolute_error: 0.0084 - val_loss: 0.0024 - val_mean_absolute_error: 0.0085\n",
      "Epoch 251/300\n",
      "386/386 [==============================] - 0s 42us/sample - loss: 0.0024 - mean_absolute_error: 0.0084 - val_loss: 0.0024 - val_mean_absolute_error: 0.0085\n",
      "Epoch 252/300\n",
      "386/386 [==============================] - 0s 41us/sample - loss: 0.0024 - mean_absolute_error: 0.0084 - val_loss: 0.0024 - val_mean_absolute_error: 0.0085\n",
      "Epoch 253/300\n",
      "386/386 [==============================] - 0s 44us/sample - loss: 0.0024 - mean_absolute_error: 0.0084 - val_loss: 0.0024 - val_mean_absolute_error: 0.0084\n",
      "Epoch 254/300\n",
      "386/386 [==============================] - 0s 46us/sample - loss: 0.0024 - mean_absolute_error: 0.0084 - val_loss: 0.0024 - val_mean_absolute_error: 0.0085\n",
      "Epoch 255/300\n",
      "386/386 [==============================] - 0s 44us/sample - loss: 0.0024 - mean_absolute_error: 0.0084 - val_loss: 0.0024 - val_mean_absolute_error: 0.0084\n",
      "Epoch 256/300\n",
      "386/386 [==============================] - 0s 52us/sample - loss: 0.0024 - mean_absolute_error: 0.0083 - val_loss: 0.0023 - val_mean_absolute_error: 0.0084\n",
      "Epoch 257/300\n",
      "386/386 [==============================] - 0s 40us/sample - loss: 0.0024 - mean_absolute_error: 0.0083 - val_loss: 0.0023 - val_mean_absolute_error: 0.0084\n",
      "Epoch 258/300\n",
      "386/386 [==============================] - 0s 43us/sample - loss: 0.0023 - mean_absolute_error: 0.0083 - val_loss: 0.0023 - val_mean_absolute_error: 0.0084\n",
      "Epoch 259/300\n",
      "386/386 [==============================] - 0s 41us/sample - loss: 0.0023 - mean_absolute_error: 0.0083 - val_loss: 0.0023 - val_mean_absolute_error: 0.0084\n",
      "Epoch 260/300\n",
      "386/386 [==============================] - 0s 39us/sample - loss: 0.0023 - mean_absolute_error: 0.0083 - val_loss: 0.0023 - val_mean_absolute_error: 0.0084\n",
      "Epoch 261/300\n",
      "386/386 [==============================] - 0s 41us/sample - loss: 0.0023 - mean_absolute_error: 0.0083 - val_loss: 0.0023 - val_mean_absolute_error: 0.0084\n",
      "Epoch 262/300\n",
      "386/386 [==============================] - 0s 41us/sample - loss: 0.0023 - mean_absolute_error: 0.0083 - val_loss: 0.0023 - val_mean_absolute_error: 0.0084\n",
      "Epoch 263/300\n",
      "386/386 [==============================] - 0s 40us/sample - loss: 0.0023 - mean_absolute_error: 0.0083 - val_loss: 0.0023 - val_mean_absolute_error: 0.0083\n",
      "Epoch 264/300\n",
      "386/386 [==============================] - 0s 39us/sample - loss: 0.0023 - mean_absolute_error: 0.0083 - val_loss: 0.0023 - val_mean_absolute_error: 0.0083\n",
      "Epoch 265/300\n",
      "386/386 [==============================] - 0s 41us/sample - loss: 0.0023 - mean_absolute_error: 0.0083 - val_loss: 0.0023 - val_mean_absolute_error: 0.0083\n",
      "Epoch 266/300\n",
      "386/386 [==============================] - 0s 46us/sample - loss: 0.0023 - mean_absolute_error: 0.0082 - val_loss: 0.0023 - val_mean_absolute_error: 0.0083\n",
      "Epoch 267/300\n",
      "386/386 [==============================] - 0s 40us/sample - loss: 0.0023 - mean_absolute_error: 0.0082 - val_loss: 0.0023 - val_mean_absolute_error: 0.0083\n",
      "Epoch 268/300\n",
      "386/386 [==============================] - 0s 41us/sample - loss: 0.0023 - mean_absolute_error: 0.0082 - val_loss: 0.0023 - val_mean_absolute_error: 0.0083\n",
      "Epoch 269/300\n",
      "386/386 [==============================] - 0s 41us/sample - loss: 0.0023 - mean_absolute_error: 0.0082 - val_loss: 0.0023 - val_mean_absolute_error: 0.0084\n",
      "Epoch 270/300\n",
      "386/386 [==============================] - 0s 41us/sample - loss: 0.0023 - mean_absolute_error: 0.0082 - val_loss: 0.0023 - val_mean_absolute_error: 0.0083\n",
      "Epoch 271/300\n",
      "386/386 [==============================] - 0s 42us/sample - loss: 0.0022 - mean_absolute_error: 0.0082 - val_loss: 0.0023 - val_mean_absolute_error: 0.0083\n",
      "Epoch 272/300\n",
      "386/386 [==============================] - 0s 39us/sample - loss: 0.0022 - mean_absolute_error: 0.0082 - val_loss: 0.0022 - val_mean_absolute_error: 0.0083\n",
      "Epoch 273/300\n",
      "386/386 [==============================] - 0s 40us/sample - loss: 0.0022 - mean_absolute_error: 0.0082 - val_loss: 0.0022 - val_mean_absolute_error: 0.0083\n",
      "Epoch 274/300\n",
      "386/386 [==============================] - 0s 40us/sample - loss: 0.0022 - mean_absolute_error: 0.0082 - val_loss: 0.0022 - val_mean_absolute_error: 0.0082\n",
      "Epoch 275/300\n",
      "386/386 [==============================] - 0s 40us/sample - loss: 0.0022 - mean_absolute_error: 0.0082 - val_loss: 0.0022 - val_mean_absolute_error: 0.0082\n",
      "Epoch 276/300\n",
      "386/386 [==============================] - 0s 41us/sample - loss: 0.0022 - mean_absolute_error: 0.0081 - val_loss: 0.0022 - val_mean_absolute_error: 0.0082\n",
      "Epoch 277/300\n",
      "386/386 [==============================] - 0s 39us/sample - loss: 0.0022 - mean_absolute_error: 0.0081 - val_loss: 0.0022 - val_mean_absolute_error: 0.0082\n",
      "Epoch 278/300\n",
      "386/386 [==============================] - 0s 37us/sample - loss: 0.0022 - mean_absolute_error: 0.0081 - val_loss: 0.0022 - val_mean_absolute_error: 0.0082\n",
      "Epoch 279/300\n",
      "386/386 [==============================] - 0s 37us/sample - loss: 0.0022 - mean_absolute_error: 0.0081 - val_loss: 0.0022 - val_mean_absolute_error: 0.0082\n",
      "Epoch 280/300\n",
      "386/386 [==============================] - 0s 39us/sample - loss: 0.0022 - mean_absolute_error: 0.0081 - val_loss: 0.0022 - val_mean_absolute_error: 0.0081\n",
      "Epoch 281/300\n",
      "386/386 [==============================] - 0s 36us/sample - loss: 0.0022 - mean_absolute_error: 0.0081 - val_loss: 0.0022 - val_mean_absolute_error: 0.0081\n",
      "Epoch 282/300\n",
      "386/386 [==============================] - 0s 43us/sample - loss: 0.0022 - mean_absolute_error: 0.0081 - val_loss: 0.0022 - val_mean_absolute_error: 0.0081\n",
      "Epoch 283/300\n",
      "386/386 [==============================] - 0s 41us/sample - loss: 0.0022 - mean_absolute_error: 0.0081 - val_loss: 0.0022 - val_mean_absolute_error: 0.0081\n",
      "Epoch 284/300\n",
      "386/386 [==============================] - 0s 41us/sample - loss: 0.0022 - mean_absolute_error: 0.0081 - val_loss: 0.0022 - val_mean_absolute_error: 0.0081\n",
      "Epoch 285/300\n",
      "386/386 [==============================] - 0s 40us/sample - loss: 0.0022 - mean_absolute_error: 0.0081 - val_loss: 0.0022 - val_mean_absolute_error: 0.0081\n",
      "Epoch 286/300\n",
      "386/386 [==============================] - 0s 40us/sample - loss: 0.0022 - mean_absolute_error: 0.0081 - val_loss: 0.0022 - val_mean_absolute_error: 0.0081\n",
      "Epoch 287/300\n",
      "386/386 [==============================] - 0s 41us/sample - loss: 0.0021 - mean_absolute_error: 0.0080 - val_loss: 0.0022 - val_mean_absolute_error: 0.0081\n",
      "Epoch 288/300\n",
      "386/386 [==============================] - 0s 41us/sample - loss: 0.0021 - mean_absolute_error: 0.0080 - val_loss: 0.0022 - val_mean_absolute_error: 0.0081\n",
      "Epoch 289/300\n",
      "386/386 [==============================] - 0s 41us/sample - loss: 0.0021 - mean_absolute_error: 0.0080 - val_loss: 0.0022 - val_mean_absolute_error: 0.0081\n",
      "Epoch 290/300\n",
      "386/386 [==============================] - 0s 39us/sample - loss: 0.0021 - mean_absolute_error: 0.0080 - val_loss: 0.0021 - val_mean_absolute_error: 0.0080\n",
      "Epoch 291/300\n",
      "386/386 [==============================] - 0s 37us/sample - loss: 0.0021 - mean_absolute_error: 0.0080 - val_loss: 0.0021 - val_mean_absolute_error: 0.0080\n",
      "Epoch 292/300\n",
      "386/386 [==============================] - 0s 41us/sample - loss: 0.0021 - mean_absolute_error: 0.0080 - val_loss: 0.0021 - val_mean_absolute_error: 0.0080\n",
      "Epoch 293/300\n",
      "386/386 [==============================] - 0s 38us/sample - loss: 0.0021 - mean_absolute_error: 0.0080 - val_loss: 0.0021 - val_mean_absolute_error: 0.0080\n",
      "Epoch 294/300\n",
      "386/386 [==============================] - 0s 39us/sample - loss: 0.0021 - mean_absolute_error: 0.0080 - val_loss: 0.0021 - val_mean_absolute_error: 0.0080\n",
      "Epoch 295/300\n",
      "386/386 [==============================] - 0s 38us/sample - loss: 0.0021 - mean_absolute_error: 0.0080 - val_loss: 0.0021 - val_mean_absolute_error: 0.0080\n",
      "Epoch 296/300\n",
      "386/386 [==============================] - 0s 39us/sample - loss: 0.0021 - mean_absolute_error: 0.0080 - val_loss: 0.0021 - val_mean_absolute_error: 0.0080\n",
      "Epoch 297/300\n",
      "386/386 [==============================] - 0s 36us/sample - loss: 0.0021 - mean_absolute_error: 0.0080 - val_loss: 0.0021 - val_mean_absolute_error: 0.0080\n",
      "Epoch 298/300\n",
      "386/386 [==============================] - 0s 37us/sample - loss: 0.0021 - mean_absolute_error: 0.0080 - val_loss: 0.0021 - val_mean_absolute_error: 0.0080\n",
      "Epoch 299/300\n",
      "386/386 [==============================] - 0s 38us/sample - loss: 0.0021 - mean_absolute_error: 0.0079 - val_loss: 0.0021 - val_mean_absolute_error: 0.0080\n",
      "Epoch 300/300\n",
      "386/386 [==============================] - 0s 36us/sample - loss: 0.0021 - mean_absolute_error: 0.0079 - val_loss: 0.0021 - val_mean_absolute_error: 0.0080\n"
     ]
    }
   ],
   "source": [
    "history = model.fit(x_data, y_data, validation_split=0.2, epochs=300)"
   ]
  },
  {
   "cell_type": "code",
   "execution_count": 75,
   "metadata": {},
   "outputs": [
    {
     "data": {
      "image/png": "[encoded data removed]",
      "text/plain": [
       "<Figure size 864x360 with 2 Axes>"
      ]
     },
     "metadata": {
      "needs_background": "light"
     },
     "output_type": "display_data"
    }
   ],
   "source": [
    "fig, ax = plt.subplots(1, 2, figsize=(12,5))\n",
    "ax[0].plot(history.history['loss'], label='train')\n",
    "ax[0].plot(history.history['val_loss'], label='test')\n",
    "ax[0].set_title('Loss')\n",
    "ax[0].legend()\n",
    "ax[1].plot(history.history['mean_absolute_error'], label='train')\n",
    "ax[1].plot(history.history['val_mean_absolute_error'], label='test')\n",
    "ax[1].set_title('Accuracy')\n",
    "ax[1].legend()\n",
    "plt.show()"
   ]
  },
  {
   "cell_type": "code",
   "execution_count": null,
   "metadata": {},
   "outputs": [],
   "source": []
  }
 ],
 "metadata": {
  "kernelspec": {
   "display_name": "Python 3",
   "language": "python",
   "name": "python3"
  },
  "language_info": {
   "codemirror_mode": {
    "name": "ipython",
    "version": 3
   },
   "file_extension": ".py",
   "mimetype": "text/x-python",
   "name": "python",
   "nbconvert_exporter": "python",
   "pygments_lexer": "ipython3",
   "version": "3.7.9"
  }
 },
 "nbformat": 4,
 "nbformat_minor": 4
}
