{
 "cells": [
  {
   "cell_type": "markdown",
   "metadata": {},
   "source": [
    "# You are what you eat - Relating Demographic Data to Food Consumption Habits"
   ]
  },
  {
   "cell_type": "code",
   "execution_count": 1,
   "metadata": {},
   "outputs": [],
   "source": [
    "#%matplotlib\n",
    "import pandas as pd\n",
    "import matplotlib.pyplot as plt\n",
    "import numpy as np\n",
    "import seaborn as sns  # needed for heatmap\n",
    "from os.path import join\n",
    "from sklearn.linear_model import LinearRegression\n",
    "from sklearn.model_selection import train_test_split\n",
    "import statsmodels.formula.api as smf\n",
    "import pickle\n",
    "plt.rcParams['figure.figsize'] = [7, 5]"
   ]
  },
  {
   "cell_type": "code",
   "execution_count": 76,
   "metadata": {},
   "outputs": [
    {
     "data": {
      "text/html": [
       "<div>\n",
       "<style scoped>\n",
       "    .dataframe tbody tr th:only-of-type {\n",
       "        vertical-align: middle;\n",
       "    }\n",
       "\n",
       "    .dataframe tbody tr th {\n",
       "        vertical-align: top;\n",
       "    }\n",
       "\n",
       "    .dataframe thead th {\n",
       "        text-align: right;\n",
       "    }\n",
       "</style>\n",
       "<table border=\"1\" class=\"dataframe\">\n",
       "  <thead>\n",
       "    <tr style=\"text-align: right;\">\n",
       "      <th></th>\n",
       "      <th>weight</th>\n",
       "      <th>volume</th>\n",
       "      <th>fat</th>\n",
       "      <th>saturate</th>\n",
       "      <th>salt</th>\n",
       "      <th>sugar</th>\n",
       "      <th>protein</th>\n",
       "      <th>carb</th>\n",
       "      <th>fibre</th>\n",
       "      <th>alcohol</th>\n",
       "      <th>...</th>\n",
       "      <th>Level 1 qualifications</th>\n",
       "      <th>Level 2 qualifications</th>\n",
       "      <th>Apprenticeship qualifications</th>\n",
       "      <th>Level 3 qualifications</th>\n",
       "      <th>Level &gt;=4 qualifications</th>\n",
       "      <th>Other qualifications</th>\n",
       "      <th>Bad Health</th>\n",
       "      <th>Limited activities</th>\n",
       "      <th>Well-Being</th>\n",
       "      <th>IOD AVG</th>\n",
       "    </tr>\n",
       "  </thead>\n",
       "  <tbody>\n",
       "    <tr>\n",
       "      <th>E05000027</th>\n",
       "      <td>413.130263</td>\n",
       "      <td>110.664114</td>\n",
       "      <td>9.733634</td>\n",
       "      <td>3.565913</td>\n",
       "      <td>0.568184</td>\n",
       "      <td>10.514427</td>\n",
       "      <td>5.211694</td>\n",
       "      <td>18.950348</td>\n",
       "      <td>1.58196</td>\n",
       "      <td>0.209917</td>\n",
       "      <td>...</td>\n",
       "      <td>0.163</td>\n",
       "      <td>0.157</td>\n",
       "      <td>0.018</td>\n",
       "      <td>0.093</td>\n",
       "      <td>0.167</td>\n",
       "      <td>0.089</td>\n",
       "      <td>6.7</td>\n",
       "      <td>8.8</td>\n",
       "      <td>7.358842</td>\n",
       "      <td>1.18406</td>\n",
       "    </tr>\n",
       "  </tbody>\n",
       "</table>\n",
       "<p>1 rows × 65 columns</p>\n",
       "</div>"
      ],
      "text/plain": [
       "               weight      volume       fat  saturate      salt      sugar  \\\n",
       "E05000027  413.130263  110.664114  9.733634  3.565913  0.568184  10.514427   \n",
       "\n",
       "            protein       carb    fibre   alcohol  ...  \\\n",
       "E05000027  5.211694  18.950348  1.58196  0.209917  ...   \n",
       "\n",
       "           Level 1 qualifications  Level 2 qualifications  \\\n",
       "E05000027                   0.163                   0.157   \n",
       "\n",
       "           Apprenticeship qualifications  Level 3 qualifications  \\\n",
       "E05000027                          0.018                   0.093   \n",
       "\n",
       "           Level >=4 qualifications  Other qualifications  Bad Health  \\\n",
       "E05000027                     0.167                 0.089         6.7   \n",
       "\n",
       "           Limited activities  Well-Being  IOD AVG  \n",
       "E05000027                 8.8    7.358842  1.18406  \n",
       "\n",
       "[1 rows x 65 columns]"
      ]
     },
     "execution_count": 76,
     "metadata": {},
     "output_type": "execute_result"
    }
   ],
   "source": [
    "# define paths for data\n",
    "FOLDER_PATH = 'data'\n",
    "PREPROCESSED_PATH = 'preprocessed'\n",
    "DATASET_NAME='df_ward_atlas.csv'\n",
    "DATASET_PATH = join(FOLDER_PATH, PREPROCESSED_PATH, DATASET_NAME)\n",
    "\n",
    "# load the data sets\n",
    "df_ward_atlas=pd.read_csv(DATASET_PATH,index_col=0)\n",
    "df_ward_atlas.head(1)"
   ]
  },
  {
   "cell_type": "code",
   "execution_count": 6,
   "metadata": {},
   "outputs": [],
   "source": [
    "age_cols = ['Aged 0-15', 'Aged 16-64', 'Aged 65+'] #sum to 1\n",
    "ethnicities_cols = ['White', 'Mixed', 'Asian or Asian British', 'Black or Black British', 'Other'] #sum to 1\n",
    "religion_cols = ['Christian', 'Buddhist', 'Hindu', 'Jewish', 'Muslim', 'Sikh',\n",
    "       'No religion', 'Other religions', 'Religion not stated'] # sum to 1\n",
    "born_cols = ['Born in UK', 'Not Born in UK'] # sum to 1\n",
    "wealth_cols = ['Household Income Median', 'IOD AVG', 'Well-Being']\n",
    "qualilication_cols = ['No qualifications', 'Level 1 qualifications', 'Level 2 qualifications',\n",
    "       'Apprenticeship qualifications', 'Level 3 qualifications',\n",
    "       'Level >=4 qualifications', 'Other qualifications'] # sum to 1 \n",
    "disability_cols = ['Bad Health', 'Limited activities']\n",
    "all_features = age_cols + ethnicities_cols + religion_cols + born_cols + wealth_cols + qualilication_cols + disability_cols"
   ]
  },
  {
   "cell_type": "code",
   "execution_count": 23,
   "metadata": {},
   "outputs": [],
   "source": [
    "def forward_feature_selection_brute_force(df_feature_candidates, target_col, verbose=False,\n",
    "                                          repeat = 100, delay = 3):\n",
    "    '''\n",
    "    forward selection features from df_feature_candidates by adding at each step \n",
    "    a features which miximuzes R^2 of obtained model on test data. \n",
    "    \n",
    "    Params:\n",
    "        df_feature_candidates: pd.DataFrame\n",
    "            Contains features to select from as its columns\n",
    "        target_col: string\n",
    "            Name of the column to be predicted\n",
    "        verbose: bool\n",
    "            if True, report which feature was added in each step together with \n",
    "            obtained R^2 score on the test data\n",
    "        repeat: int\n",
    "            Number of train-test splits to evaluate test R^2 performance of the model\n",
    "        delay: int\n",
    "            Stop once the adding of delay consequetive feature do not increase\n",
    "            the best test R^2 score\n",
    "    '''\n",
    "    \n",
    "    num_features = 0\n",
    "    global_test_best = 0 #best encoutered ever\n",
    "    selected_cols_best = None\n",
    "    not_improvements = 0 #num of last consequetive features added which did not improve test R^2\n",
    "\n",
    "    candidates = df_feature_candidates.copy()\n",
    "    selected_cols = []\n",
    "\n",
    "    while (not_improvements < delay) and (len(candidates) > 0):\n",
    "        res_train = {}\n",
    "        res_test = {}\n",
    "        local_train_best = 0 #best after adding of the remaining features in candidates\n",
    "        local_test_best = 0\n",
    "        best_new_col = None\n",
    "        for new_col in candidates.index:\n",
    "            #estimating performance after adding new_col to features\n",
    "            trial_cols = selected_cols + [new_col]       \n",
    "            x_data = df_ward_atlas[trial_cols]\n",
    "            y_data = df_ward_atlas[target_col]\n",
    "            res_train[new_col] = []\n",
    "            res_test[new_col] = []\n",
    "            for i in range(repeat):\n",
    "                x_train, x_test, y_train, y_test = train_test_split(x_data, y_data, test_size = 0.2)\n",
    "                model = LinearRegression()\n",
    "                model.fit(x_train, y_train)\n",
    "                res_train[new_col].append(model.score(x_train, y_train))\n",
    "                res_test[new_col].append(model.score(x_test, y_test))\n",
    "            res_train[new_col] = np.array(res_train[new_col])\n",
    "            res_test[new_col] = np.array(res_test[new_col])\n",
    "            res_train[new_col] = np.mean(res_train[new_col])\n",
    "            res_test[new_col] = np.mean(res_test[new_col])\n",
    "            if (res_test[new_col] > local_test_best):\n",
    "                local_test_best = res_test[new_col]\n",
    "                local_train_best = res_train[new_col]\n",
    "                best_new_col = new_col\n",
    "        \n",
    "        #adding new best column\n",
    "        selected_cols.append(best_new_col)\n",
    "        candidates.drop(best_new_col, axis=0, inplace=True)\n",
    "        num_features += 1\n",
    "        \n",
    "        if (local_test_best > global_test_best):\n",
    "            summary_str = 'R2 score on test data improved by {:.5}'.format(local_test_best-global_test_best)\n",
    "            global_test_best = local_test_best\n",
    "            selected_cols_best = selected_cols.copy()\n",
    "            not_improvements = 0\n",
    "        else:\n",
    "            summary_str = 'R2 score on test data did not improved'\n",
    "            not_improvements += 1\n",
    "        if verbose:\n",
    "            print('Added feature {}: {}'.format(num_features, best_new_col))\n",
    "            print('Average r2_score on train data: {:.5}, on test data {:.5}'.format(local_train_best, local_test_best))\n",
    "            print(summary_str + '\\n')\n",
    "        \n",
    "        \n",
    "    return global_test_best, selected_cols_best"
   ]
  },
  {
   "cell_type": "code",
   "execution_count": 81,
   "metadata": {},
   "outputs": [],
   "source": [
    "def to_formula(cols):\n",
    "    '''\n",
    "    convert list of columns into a string in format statsmodels.formula.api formula \n",
    "    '''\n",
    "    cols = list(map(lambda s: 'Q(\"{}\")'.format(s), cols))\n",
    "    return ' + '.join(cols)\n",
    "\n",
    "def actual_name(col_in_formula):\n",
    "    '''\n",
    "    convert string in format statsmodels.formula.api formula to list of actual columns' names\n",
    "    '''\n",
    "    if col_in_formula.startswith('Q('):\n",
    "        return col_in_formula[3:-2]\n",
    "    else:\n",
    "        return col_in_formula\n",
    "\n",
    "def get_label_summary(label, features):\n",
    "    '''\n",
    "    Returns:\n",
    "        df_summary: pd.Dataframe, summary of the features \n",
    "        which have p-value < 0.05 for predicting label\n",
    "    '''\n",
    "    model = smf.ols(formula='{} ~ {}'.format(label, to_formula(features)),\n",
    "              data=df_ward_atlas)\n",
    "    res = model.fit()\n",
    "    results_as_html = res.summary().tables[1].as_html()\n",
    "    df_summary=pd.read_html(results_as_html, header=0, index_col=0)[0]\n",
    "    return df_summary[df_summary['P>|t|']<0.05]\n"
   ]
  },
  {
   "cell_type": "code",
   "execution_count": 82,
   "metadata": {},
   "outputs": [],
   "source": [
    "def get_r2_samples(target, features, dataset, num_samples = 1000):\n",
    "    '''\n",
    "    get samples of the iid estimators of R^2 score on test data\n",
    "    Params:\n",
    "        target: string, column to be predicted\n",
    "        features: list\n",
    "        dataset: pd.DataFrame\n",
    "        num_samples: number of samples to generate\n",
    "    Returns:\n",
    "        r2_scores: np.array\n",
    "    '''\n",
    "    \n",
    "    r2_scores = []\n",
    "    x_data = dataset[features]\n",
    "    y_data = dataset[target]\n",
    "    for i in range(num_samples):\n",
    "        x_train, x_test, y_train, y_test = train_test_split(x_data, y_data, test_size = 0.2)\n",
    "        model = LinearRegression()\n",
    "        model.fit(x_train, y_train)\n",
    "        r2_scores.append(model.score(x_test, y_test))\n",
    "    return np.array(r2_scores)\n",
    "\n",
    "def estimate_from_samples(samples, p_value=0.05):\n",
    "    '''\n",
    "    Estimate the random variable from its samples\n",
    "    Returns:\n",
    "        estimator: float, median estimator from the sample\n",
    "        lower_CI, upper_CI: floats, lower and upper bound of the CI with given p_value\n",
    "    '''\n",
    "    samples = np.sort(samples)\n",
    "    estimator = np.median(samples)\n",
    "    lower_CI_pos = int(np.round(len(samples) * p_value/2))\n",
    "    lower_CI = samples[lower_CI_pos]\n",
    "    upper_CI_pos = int(np.round(len(samples) * (1-p_value/2)))\n",
    "    upper_CI = samples[upper_CI_pos]\n",
    "    return estimator, lower_CI, upper_CI"
   ]
  },
  {
   "cell_type": "markdown",
   "metadata": {},
   "source": [
    "# Predicting a fraction of each nutrient energy"
   ]
  },
  {
   "cell_type": "code",
   "execution_count": 87,
   "metadata": {},
   "outputs": [
    {
     "name": "stdout",
     "output_type": "stream",
     "text": [
      "energy_tot: best r2 score = 0.64653, num features = 11\n",
      "f_energy_fat: best r2 score = 0.52061, num features = 8\n",
      "f_energy_saturate: best r2 score = 0.46259, num features = 10\n",
      "f_energy_sugar: best r2 score = 0.41726, num features = 8\n",
      "f_energy_protein: best r2 score = 0.69772, num features = 17\n",
      "f_energy_carb: best r2 score = 0.74901, num features = 10\n",
      "f_energy_fibre: best r2 score = 0.77198, num features = 14\n",
      "f_energy_alcohol: best r2 score = 0.46463, num features = 7\n"
     ]
    }
   ],
   "source": [
    "target_cols = ['energy_tot', 'f_energy_fat', 'f_energy_saturate', 'f_energy_sugar', 'f_energy_protein', \n",
    "               'f_energy_carb', 'f_energy_fibre', 'f_energy_alcohol']\n",
    "\n",
    "#for each target column selecting the best features for prediction\n",
    "global_test_best = {} #to store the best R^2 on test data for each target \n",
    "selected_cols_best = {}\n",
    "energy_corr = {} #to store correlations with features for each target\n",
    "for y in target_cols:\n",
    "    energy_corr[y] = df_ward_atlas[all_features].corrwith(df_ward_atlas[y], method='pearson')\n",
    "    energy_corr[y] = energy_corr[y].sort_values(ascending=False, key=np.abs)\n",
    "    #get rid of linearly dependent cols by removing column from each category\n",
    "    #with the smallest absolute value of correlation\n",
    "    for cols in [age_cols, ethnicities_cols, religion_cols, born_cols, qualilication_cols]:\n",
    "        energy_corr[y].drop(energy_corr[y][cols].index[-1], axis=0, inplace=True)\n",
    "    global_test_best[y], selected_cols_best[y]  = forward_feature_selection_brute_force(energy_corr[y], y)\n",
    "    print('{}: best r2 score = {:.5f}, num features = {}'.format(y, global_test_best[y], len(selected_cols_best[y])))"
   ]
  },
  {
   "cell_type": "code",
   "execution_count": 88,
   "metadata": {},
   "outputs": [],
   "source": [
    "#saving global_test_best, selected_cols_best to pickle\n",
    "f = open(\"r2_scores.pkl\",\"wb\")\n",
    "pickle.dump(global_test_best,f)\n",
    "f.close()\n",
    "f = open(\"selected_cols.pkl\",\"wb\")\n",
    "pickle.dump(selected_cols_best,f)\n",
    "f.close()"
   ]
  },
  {
   "cell_type": "code",
   "execution_count": 73,
   "metadata": {},
   "outputs": [],
   "source": [
    "#loading global_test_best, selected_cols_best from pickle\n",
    "f = open(\"r2_scores.pkl\",\"rb\")\n",
    "global_test_best = pickle.load(f)\n",
    "f.close()\n",
    "f = open(\"selected_cols.pkl\",\"rb\")\n",
    "selected_cols_best = pickle.load(f)\n",
    "f.close()"
   ]
  },
  {
   "cell_type": "code",
   "execution_count": 89,
   "metadata": {},
   "outputs": [
    {
     "name": "stdout",
     "output_type": "stream",
     "text": [
      "features for 'energy_tot' prediction: ['Level 1 qualifications', 'Jewish', 'Mixed', 'Aged 0-15', 'Household Income Median', 'Level 2 qualifications', 'Bad Health', 'Aged 16-64', 'Born in UK', 'Asian or Asian British', 'Muslim']\n",
      "features for 'f_energy_fat' prediction: ['Level 2 qualifications', 'Aged 0-15', 'Black or Black British', 'Other religions', 'Asian or Asian British', 'Apprenticeship qualifications', 'Born in UK', 'IOD AVG']\n",
      "features for 'f_energy_saturate' prediction: ['Level 2 qualifications', 'Asian or Asian British', 'Sikh', 'Black or Black British', 'Buddhist', 'White', 'Mixed', 'Aged 16-64', 'Born in UK', 'Bad Health']\n",
      "features for 'f_energy_sugar' prediction: ['Level 2 qualifications', 'Mixed', 'Asian or Asian British', 'No religion', 'Buddhist', 'Level 1 qualifications', 'IOD AVG', 'Other religions']\n",
      "features for 'f_energy_protein' prediction: ['Level >=4 qualifications', 'Asian or Asian British', 'Born in UK', 'Sikh', 'Aged 0-15', 'Apprenticeship qualifications', 'No religion', 'Black or Black British', 'Mixed', 'Level 2 qualifications', 'White', 'Christian', 'Level 1 qualifications', 'Muslim', 'Hindu', 'Household Income Median', 'No qualifications']\n",
      "features for 'f_energy_carb' prediction: ['Level 1 qualifications', 'Hindu', 'Level 2 qualifications', 'White', 'Mixed', 'Born in UK', 'No qualifications', 'Sikh', 'No religion', 'Asian or Asian British']\n",
      "features for 'f_energy_fibre' prediction: ['Household Income Median', 'No qualifications', 'Jewish', 'White', 'Limited activities', 'Other religions', 'Apprenticeship qualifications', 'Sikh', 'Level 1 qualifications', 'Hindu', 'Asian or Asian British', 'Christian', 'Buddhist', 'Level 3 qualifications']\n",
      "features for 'f_energy_alcohol' prediction: ['Level >=4 qualifications', 'Asian or Asian British', 'Muslim', 'IOD AVG', 'Mixed', 'White', 'Christian']\n"
     ]
    }
   ],
   "source": [
    "for y in target_cols:\n",
    "    print(f'features for \\'{y}\\' prediction:', selected_cols_best[y])"
   ]
  },
  {
   "cell_type": "code",
   "execution_count": 90,
   "metadata": {},
   "outputs": [],
   "source": [
    "selected_cols_very_best = {} #features from selected_cols_best with p-value < 0.05\n",
    "r2_estimators = {}\n",
    "r2_lower_CIs = {}\n",
    "r2_upper_CIs = {}\n",
    "repres_vals = np.linspace(0.1,1,10) #values for the fraction with top representativeess to try"
   ]
  },
  {
   "cell_type": "code",
   "execution_count": 92,
   "metadata": {},
   "outputs": [],
   "source": [
    "df_ward_atlas = df_ward_atlas.sort_values(by='representativeness_norm', ascending=False)"
   ]
  },
  {
   "cell_type": "code",
   "execution_count": 187,
   "metadata": {},
   "outputs": [],
   "source": [
    "def get_R2_for_representativenesses(target, features, repres_vals):\n",
    "    '''\n",
    "    estimate R2 score of predicting target from features\n",
    "    for the fractions of data with top representativeness for each fraction value from repres_vals\n",
    "    and return estimators and and confidence intervals\n",
    "    '''\n",
    "    n = len(df_ward_atlas)\n",
    "    r2_estimators = []\n",
    "    r2_lower_CIs = []\n",
    "    r2_upper_CIs = []\n",
    "    for repres in repres_vals:\n",
    "        num_samples = int(n * repres)\n",
    "        r2_scores = get_r2_samples(target, features, df_ward_atlas[:num_samples])\n",
    "        estimator, lower_CI, upper_CI = estimate_from_samples(r2_scores)\n",
    "        r2_estimators.append(estimator)\n",
    "        r2_lower_CIs.append(lower_CI)\n",
    "        r2_upper_CIs.append(upper_CI)\n",
    "    return np.array(r2_estimators), np.array(r2_lower_CIs), np.array(r2_upper_CIs)"
   ]
  },
  {
   "cell_type": "markdown",
   "metadata": {},
   "source": [
    "# Linear model for f_energy_fat"
   ]
  },
  {
   "cell_type": "code",
   "execution_count": 114,
   "metadata": {},
   "outputs": [
    {
     "data": {
      "text/html": [
       "<div>\n",
       "<style scoped>\n",
       "    .dataframe tbody tr th:only-of-type {\n",
       "        vertical-align: middle;\n",
       "    }\n",
       "\n",
       "    .dataframe tbody tr th {\n",
       "        vertical-align: top;\n",
       "    }\n",
       "\n",
       "    .dataframe thead th {\n",
       "        text-align: right;\n",
       "    }\n",
       "</style>\n",
       "<table border=\"1\" class=\"dataframe\">\n",
       "  <thead>\n",
       "    <tr style=\"text-align: right;\">\n",
       "      <th></th>\n",
       "      <th>coef</th>\n",
       "      <th>std err</th>\n",
       "      <th>t</th>\n",
       "      <th>P&gt;|t|</th>\n",
       "      <th>[0.025</th>\n",
       "      <th>0.975]</th>\n",
       "    </tr>\n",
       "  </thead>\n",
       "  <tbody>\n",
       "    <tr>\n",
       "      <th>Intercept</th>\n",
       "      <td>0.4913</td>\n",
       "      <td>0.005</td>\n",
       "      <td>103.652</td>\n",
       "      <td>0.000</td>\n",
       "      <td>0.482</td>\n",
       "      <td>0.501</td>\n",
       "    </tr>\n",
       "    <tr>\n",
       "      <th>Q(\"Level 2 qualifications\")</th>\n",
       "      <td>-0.1183</td>\n",
       "      <td>0.037</td>\n",
       "      <td>-3.200</td>\n",
       "      <td>0.001</td>\n",
       "      <td>-0.191</td>\n",
       "      <td>-0.046</td>\n",
       "    </tr>\n",
       "    <tr>\n",
       "      <th>Q(\"Black or Black British\")</th>\n",
       "      <td>-0.0563</td>\n",
       "      <td>0.009</td>\n",
       "      <td>-5.991</td>\n",
       "      <td>0.000</td>\n",
       "      <td>-0.075</td>\n",
       "      <td>-0.038</td>\n",
       "    </tr>\n",
       "    <tr>\n",
       "      <th>Q(\"Asian or Asian British\")</th>\n",
       "      <td>-0.0123</td>\n",
       "      <td>0.005</td>\n",
       "      <td>-2.337</td>\n",
       "      <td>0.020</td>\n",
       "      <td>-0.023</td>\n",
       "      <td>-0.002</td>\n",
       "    </tr>\n",
       "    <tr>\n",
       "      <th>Q(\"Apprenticeship qualifications\")</th>\n",
       "      <td>-0.3064</td>\n",
       "      <td>0.106</td>\n",
       "      <td>-2.879</td>\n",
       "      <td>0.004</td>\n",
       "      <td>-0.516</td>\n",
       "      <td>-0.097</td>\n",
       "    </tr>\n",
       "    <tr>\n",
       "      <th>Q(\"Born in UK\")</th>\n",
       "      <td>-0.0248</td>\n",
       "      <td>0.008</td>\n",
       "      <td>-3.206</td>\n",
       "      <td>0.001</td>\n",
       "      <td>-0.040</td>\n",
       "      <td>-0.010</td>\n",
       "    </tr>\n",
       "  </tbody>\n",
       "</table>\n",
       "</div>"
      ],
      "text/plain": [
       "                                      coef  std err        t  P>|t|  [0.025  \\\n",
       "Intercept                           0.4913    0.005  103.652  0.000   0.482   \n",
       "Q(\"Level 2 qualifications\")        -0.1183    0.037   -3.200  0.001  -0.191   \n",
       "Q(\"Black or Black British\")        -0.0563    0.009   -5.991  0.000  -0.075   \n",
       "Q(\"Asian or Asian British\")        -0.0123    0.005   -2.337  0.020  -0.023   \n",
       "Q(\"Apprenticeship qualifications\") -0.3064    0.106   -2.879  0.004  -0.516   \n",
       "Q(\"Born in UK\")                    -0.0248    0.008   -3.206  0.001  -0.040   \n",
       "\n",
       "                                    0.975]  \n",
       "Intercept                            0.501  \n",
       "Q(\"Level 2 qualifications\")         -0.046  \n",
       "Q(\"Black or Black British\")         -0.038  \n",
       "Q(\"Asian or Asian British\")         -0.002  \n",
       "Q(\"Apprenticeship qualifications\")  -0.097  \n",
       "Q(\"Born in UK\")                     -0.010  "
      ]
     },
     "execution_count": 114,
     "metadata": {},
     "output_type": "execute_result"
    }
   ],
   "source": [
    "target = 'f_energy_fat'\n",
    "#summary for selected features\n",
    "df_enerfy_fat = get_label_summary(target, selected_cols_best[target])\n",
    "df_enerfy_fat"
   ]
  },
  {
   "cell_type": "code",
   "execution_count": 188,
   "metadata": {},
   "outputs": [
    {
     "data": {
      "image/png": "[encoded data removed]",
      "text/plain": [
       "<Figure size 504x360 with 1 Axes>"
      ]
     },
     "metadata": {
      "needs_background": "light"
     },
     "output_type": "display_data"
    }
   ],
   "source": [
    "selected_cols_very_best[target] = [actual_name(col) for col in list(df_enerfy_fat.index) if col != 'Intercept']\n",
    "r2_estimators[target], r2_lower_CIs[target], r2_upper_CIs[target] = get_R2_for_representativenesses(target, \n",
    "                                                                                                    selected_cols_very_best[target], \n",
    "                                                                                                    repres_vals)\n",
    "#plot for f_energy_fat\n",
    "fog, ax = plt.subplots(1,1)\n",
    "ax.errorbar(repres_vals, r2_estimators[target], \n",
    "             yerr = [r2_estimators[target] - r2_lower_CIs[target], - r2_estimators[target] + r2_upper_CIs[target]], \n",
    "             capsize= 3)\n",
    "ax.set_xlabel('Fraction')\n",
    "ax.set_ylabel('R2_score')\n",
    "ax.set_title(f'R^2 vs fraction with top representativeness:')\n",
    "plt.show()"
   ]
  },
  {
   "cell_type": "markdown",
   "metadata": {},
   "source": [
    "# Linear model for f_energy_saturate"
   ]
  },
  {
   "cell_type": "code",
   "execution_count": 189,
   "metadata": {},
   "outputs": [
    {
     "data": {
      "text/html": [
       "<div>\n",
       "<style scoped>\n",
       "    .dataframe tbody tr th:only-of-type {\n",
       "        vertical-align: middle;\n",
       "    }\n",
       "\n",
       "    .dataframe tbody tr th {\n",
       "        vertical-align: top;\n",
       "    }\n",
       "\n",
       "    .dataframe thead th {\n",
       "        text-align: right;\n",
       "    }\n",
       "</style>\n",
       "<table border=\"1\" class=\"dataframe\">\n",
       "  <thead>\n",
       "    <tr style=\"text-align: right;\">\n",
       "      <th></th>\n",
       "      <th>coef</th>\n",
       "      <th>std err</th>\n",
       "      <th>t</th>\n",
       "      <th>P&gt;|t|</th>\n",
       "      <th>[0.025</th>\n",
       "      <th>0.975]</th>\n",
       "    </tr>\n",
       "  </thead>\n",
       "  <tbody>\n",
       "    <tr>\n",
       "      <th>Intercept</th>\n",
       "      <td>0.1922</td>\n",
       "      <td>0.017</td>\n",
       "      <td>11.212</td>\n",
       "      <td>0.000</td>\n",
       "      <td>0.159</td>\n",
       "      <td>0.226</td>\n",
       "    </tr>\n",
       "    <tr>\n",
       "      <th>Q(\"Level 2 qualifications\")</th>\n",
       "      <td>-0.0875</td>\n",
       "      <td>0.021</td>\n",
       "      <td>-4.170</td>\n",
       "      <td>0.000</td>\n",
       "      <td>-0.129</td>\n",
       "      <td>-0.046</td>\n",
       "    </tr>\n",
       "    <tr>\n",
       "      <th>Q(\"Asian or Asian British\")</th>\n",
       "      <td>0.0467</td>\n",
       "      <td>0.017</td>\n",
       "      <td>2.681</td>\n",
       "      <td>0.008</td>\n",
       "      <td>0.012</td>\n",
       "      <td>0.081</td>\n",
       "    </tr>\n",
       "    <tr>\n",
       "      <th>Q(\"Sikh\")</th>\n",
       "      <td>-0.0248</td>\n",
       "      <td>0.008</td>\n",
       "      <td>-3.089</td>\n",
       "      <td>0.002</td>\n",
       "      <td>-0.041</td>\n",
       "      <td>-0.009</td>\n",
       "    </tr>\n",
       "    <tr>\n",
       "      <th>Q(\"Buddhist\")</th>\n",
       "      <td>-0.2713</td>\n",
       "      <td>0.073</td>\n",
       "      <td>-3.714</td>\n",
       "      <td>0.000</td>\n",
       "      <td>-0.415</td>\n",
       "      <td>-0.128</td>\n",
       "    </tr>\n",
       "    <tr>\n",
       "      <th>Q(\"White\")</th>\n",
       "      <td>0.0394</td>\n",
       "      <td>0.020</td>\n",
       "      <td>1.996</td>\n",
       "      <td>0.047</td>\n",
       "      <td>0.001</td>\n",
       "      <td>0.078</td>\n",
       "    </tr>\n",
       "    <tr>\n",
       "      <th>Q(\"Mixed\")</th>\n",
       "      <td>0.1996</td>\n",
       "      <td>0.042</td>\n",
       "      <td>4.789</td>\n",
       "      <td>0.000</td>\n",
       "      <td>0.118</td>\n",
       "      <td>0.282</td>\n",
       "    </tr>\n",
       "    <tr>\n",
       "      <th>Q(\"Aged 16-64\")</th>\n",
       "      <td>-0.0358</td>\n",
       "      <td>0.010</td>\n",
       "      <td>-3.450</td>\n",
       "      <td>0.001</td>\n",
       "      <td>-0.056</td>\n",
       "      <td>-0.015</td>\n",
       "    </tr>\n",
       "    <tr>\n",
       "      <th>Q(\"Born in UK\")</th>\n",
       "      <td>-0.0311</td>\n",
       "      <td>0.008</td>\n",
       "      <td>-3.796</td>\n",
       "      <td>0.000</td>\n",
       "      <td>-0.047</td>\n",
       "      <td>-0.015</td>\n",
       "    </tr>\n",
       "  </tbody>\n",
       "</table>\n",
       "</div>"
      ],
      "text/plain": [
       "                               coef  std err       t  P>|t|  [0.025  0.975]\n",
       "Intercept                    0.1922    0.017  11.212  0.000   0.159   0.226\n",
       "Q(\"Level 2 qualifications\") -0.0875    0.021  -4.170  0.000  -0.129  -0.046\n",
       "Q(\"Asian or Asian British\")  0.0467    0.017   2.681  0.008   0.012   0.081\n",
       "Q(\"Sikh\")                   -0.0248    0.008  -3.089  0.002  -0.041  -0.009\n",
       "Q(\"Buddhist\")               -0.2713    0.073  -3.714  0.000  -0.415  -0.128\n",
       "Q(\"White\")                   0.0394    0.020   1.996  0.047   0.001   0.078\n",
       "Q(\"Mixed\")                   0.1996    0.042   4.789  0.000   0.118   0.282\n",
       "Q(\"Aged 16-64\")             -0.0358    0.010  -3.450  0.001  -0.056  -0.015\n",
       "Q(\"Born in UK\")             -0.0311    0.008  -3.796  0.000  -0.047  -0.015"
      ]
     },
     "execution_count": 189,
     "metadata": {},
     "output_type": "execute_result"
    }
   ],
   "source": [
    "target = 'f_energy_saturate'\n",
    "df_enerfy_fat = get_label_summary(target, selected_cols_best[target])\n",
    "df_enerfy_fat"
   ]
  },
  {
   "cell_type": "code",
   "execution_count": 190,
   "metadata": {},
   "outputs": [
    {
     "data": {
      "image/png": "[encoded data removed]",
      "text/plain": [
       "<Figure size 504x360 with 1 Axes>"
      ]
     },
     "metadata": {
      "needs_background": "light"
     },
     "output_type": "display_data"
    }
   ],
   "source": [
    "selected_cols_very_best[target] = [actual_name(col) for col in list(df_enerfy_fat.index) if col != 'Intercept']\n",
    "r2_estimators[target], r2_lower_CIs[target], r2_upper_CIs[target] = get_R2_for_representativenesses(target, \n",
    "                                                                                                    selected_cols_very_best[target], \n",
    "                                                                                                    repres_vals)\n",
    "#plot for f_energy_fat\n",
    "fog, ax = plt.subplots(1,1)\n",
    "ax.errorbar(repres_vals, r2_estimators[target], \n",
    "             yerr = [r2_estimators[target] - r2_lower_CIs[target], - r2_estimators[target] + r2_upper_CIs[target]], \n",
    "             capsize= 3)\n",
    "ax.set_xlabel('Fraction')\n",
    "ax.set_ylabel('R2_score')\n",
    "ax.set_title(f'R^2 vs fraction with top representativeness:')\n",
    "plt.show()"
   ]
  },
  {
   "cell_type": "markdown",
   "metadata": {},
   "source": [
    "# Linear model for f_energy_sugar"
   ]
  },
  {
   "cell_type": "code",
   "execution_count": 191,
   "metadata": {},
   "outputs": [
    {
     "data": {
      "text/html": [
       "<div>\n",
       "<style scoped>\n",
       "    .dataframe tbody tr th:only-of-type {\n",
       "        vertical-align: middle;\n",
       "    }\n",
       "\n",
       "    .dataframe tbody tr th {\n",
       "        vertical-align: top;\n",
       "    }\n",
       "\n",
       "    .dataframe thead th {\n",
       "        text-align: right;\n",
       "    }\n",
       "</style>\n",
       "<table border=\"1\" class=\"dataframe\">\n",
       "  <thead>\n",
       "    <tr style=\"text-align: right;\">\n",
       "      <th></th>\n",
       "      <th>coef</th>\n",
       "      <th>std err</th>\n",
       "      <th>t</th>\n",
       "      <th>P&gt;|t|</th>\n",
       "      <th>[0.025</th>\n",
       "      <th>0.975]</th>\n",
       "    </tr>\n",
       "  </thead>\n",
       "  <tbody>\n",
       "    <tr>\n",
       "      <th>Intercept</th>\n",
       "      <td>0.1980</td>\n",
       "      <td>0.007</td>\n",
       "      <td>28.834</td>\n",
       "      <td>0.000</td>\n",
       "      <td>0.184</td>\n",
       "      <td>0.211</td>\n",
       "    </tr>\n",
       "    <tr>\n",
       "      <th>Q(\"Mixed\")</th>\n",
       "      <td>-0.1114</td>\n",
       "      <td>0.055</td>\n",
       "      <td>-2.025</td>\n",
       "      <td>0.044</td>\n",
       "      <td>-0.220</td>\n",
       "      <td>-0.003</td>\n",
       "    </tr>\n",
       "    <tr>\n",
       "      <th>Q(\"Asian or Asian British\")</th>\n",
       "      <td>0.0230</td>\n",
       "      <td>0.007</td>\n",
       "      <td>3.166</td>\n",
       "      <td>0.002</td>\n",
       "      <td>0.009</td>\n",
       "      <td>0.037</td>\n",
       "    </tr>\n",
       "    <tr>\n",
       "      <th>Q(\"Level 1 qualifications\")</th>\n",
       "      <td>0.2161</td>\n",
       "      <td>0.054</td>\n",
       "      <td>4.037</td>\n",
       "      <td>0.000</td>\n",
       "      <td>0.111</td>\n",
       "      <td>0.321</td>\n",
       "    </tr>\n",
       "    <tr>\n",
       "      <th>Q(\"IOD AVG\")</th>\n",
       "      <td>-0.0034</td>\n",
       "      <td>0.001</td>\n",
       "      <td>-3.300</td>\n",
       "      <td>0.001</td>\n",
       "      <td>-0.005</td>\n",
       "      <td>-0.001</td>\n",
       "    </tr>\n",
       "  </tbody>\n",
       "</table>\n",
       "</div>"
      ],
      "text/plain": [
       "                               coef  std err       t  P>|t|  [0.025  0.975]\n",
       "Intercept                    0.1980    0.007  28.834  0.000   0.184   0.211\n",
       "Q(\"Mixed\")                  -0.1114    0.055  -2.025  0.044  -0.220  -0.003\n",
       "Q(\"Asian or Asian British\")  0.0230    0.007   3.166  0.002   0.009   0.037\n",
       "Q(\"Level 1 qualifications\")  0.2161    0.054   4.037  0.000   0.111   0.321\n",
       "Q(\"IOD AVG\")                -0.0034    0.001  -3.300  0.001  -0.005  -0.001"
      ]
     },
     "execution_count": 191,
     "metadata": {},
     "output_type": "execute_result"
    }
   ],
   "source": [
    "target = 'f_energy_sugar'\n",
    "df_enerfy_fat = get_label_summary(target, selected_cols_best[target])\n",
    "df_enerfy_fat"
   ]
  },
  {
   "cell_type": "code",
   "execution_count": 192,
   "metadata": {},
   "outputs": [
    {
     "data": {
      "image/png": "[encoded data removed]",
      "text/plain": [
       "<Figure size 504x360 with 1 Axes>"
      ]
     },
     "metadata": {
      "needs_background": "light"
     },
     "output_type": "display_data"
    }
   ],
   "source": [
    "selected_cols_very_best[target] = [actual_name(col) for col in list(df_enerfy_fat.index) if col != 'Intercept']\n",
    "r2_estimators[target], r2_lower_CIs[target], r2_upper_CIs[target] = get_R2_for_representativenesses(target, \n",
    "                                                                                                    selected_cols_very_best[target], \n",
    "                                                                                                    repres_vals)\n",
    "#plot for f_energy_fat\n",
    "fog, ax = plt.subplots(1,1)\n",
    "ax.errorbar(repres_vals, r2_estimators[target], \n",
    "             yerr = [r2_estimators[target] - r2_lower_CIs[target], - r2_estimators[target] + r2_upper_CIs[target]], \n",
    "             capsize= 3)\n",
    "ax.set_xlabel('Fraction')\n",
    "ax.set_ylabel('R2_score')\n",
    "ax.set_title(f'R^2 vs fraction with top representativeness:')\n",
    "plt.show()"
   ]
  },
  {
   "cell_type": "markdown",
   "metadata": {},
   "source": [
    "# Linear model for f_energy_protein"
   ]
  },
  {
   "cell_type": "code",
   "execution_count": 194,
   "metadata": {},
   "outputs": [
    {
     "data": {
      "text/html": [
       "<div>\n",
       "<style scoped>\n",
       "    .dataframe tbody tr th:only-of-type {\n",
       "        vertical-align: middle;\n",
       "    }\n",
       "\n",
       "    .dataframe tbody tr th {\n",
       "        vertical-align: top;\n",
       "    }\n",
       "\n",
       "    .dataframe thead th {\n",
       "        text-align: right;\n",
       "    }\n",
       "</style>\n",
       "<table border=\"1\" class=\"dataframe\">\n",
       "  <thead>\n",
       "    <tr style=\"text-align: right;\">\n",
       "      <th></th>\n",
       "      <th>coef</th>\n",
       "      <th>std err</th>\n",
       "      <th>t</th>\n",
       "      <th>P&gt;|t|</th>\n",
       "      <th>[0.025</th>\n",
       "      <th>0.975]</th>\n",
       "    </tr>\n",
       "  </thead>\n",
       "  <tbody>\n",
       "    <tr>\n",
       "      <th>Intercept</th>\n",
       "      <td>0.1218</td>\n",
       "      <td>0.018</td>\n",
       "      <td>6.923</td>\n",
       "      <td>0.000</td>\n",
       "      <td>0.087</td>\n",
       "      <td>0.156</td>\n",
       "    </tr>\n",
       "    <tr>\n",
       "      <th>Q(\"Asian or Asian British\")</th>\n",
       "      <td>-0.0492</td>\n",
       "      <td>0.014</td>\n",
       "      <td>-3.610</td>\n",
       "      <td>0.000</td>\n",
       "      <td>-0.076</td>\n",
       "      <td>-0.022</td>\n",
       "    </tr>\n",
       "    <tr>\n",
       "      <th>Q(\"Sikh\")</th>\n",
       "      <td>0.0463</td>\n",
       "      <td>0.010</td>\n",
       "      <td>4.738</td>\n",
       "      <td>0.000</td>\n",
       "      <td>0.027</td>\n",
       "      <td>0.066</td>\n",
       "    </tr>\n",
       "    <tr>\n",
       "      <th>Q(\"Aged 0-15\")</th>\n",
       "      <td>-0.0271</td>\n",
       "      <td>0.010</td>\n",
       "      <td>-2.750</td>\n",
       "      <td>0.006</td>\n",
       "      <td>-0.046</td>\n",
       "      <td>-0.008</td>\n",
       "    </tr>\n",
       "    <tr>\n",
       "      <th>Q(\"No religion\")</th>\n",
       "      <td>-0.0278</td>\n",
       "      <td>0.008</td>\n",
       "      <td>-3.438</td>\n",
       "      <td>0.001</td>\n",
       "      <td>-0.044</td>\n",
       "      <td>-0.012</td>\n",
       "    </tr>\n",
       "    <tr>\n",
       "      <th>Q(\"Mixed\")</th>\n",
       "      <td>0.1137</td>\n",
       "      <td>0.037</td>\n",
       "      <td>3.075</td>\n",
       "      <td>0.002</td>\n",
       "      <td>0.041</td>\n",
       "      <td>0.186</td>\n",
       "    </tr>\n",
       "    <tr>\n",
       "      <th>Q(\"Muslim\")</th>\n",
       "      <td>0.0220</td>\n",
       "      <td>0.009</td>\n",
       "      <td>2.348</td>\n",
       "      <td>0.019</td>\n",
       "      <td>0.004</td>\n",
       "      <td>0.041</td>\n",
       "    </tr>\n",
       "    <tr>\n",
       "      <th>Q(\"Hindu\")</th>\n",
       "      <td>0.0348</td>\n",
       "      <td>0.011</td>\n",
       "      <td>3.046</td>\n",
       "      <td>0.002</td>\n",
       "      <td>0.012</td>\n",
       "      <td>0.057</td>\n",
       "    </tr>\n",
       "  </tbody>\n",
       "</table>\n",
       "</div>"
      ],
      "text/plain": [
       "                               coef  std err      t  P>|t|  [0.025  0.975]\n",
       "Intercept                    0.1218    0.018  6.923  0.000   0.087   0.156\n",
       "Q(\"Asian or Asian British\") -0.0492    0.014 -3.610  0.000  -0.076  -0.022\n",
       "Q(\"Sikh\")                    0.0463    0.010  4.738  0.000   0.027   0.066\n",
       "Q(\"Aged 0-15\")              -0.0271    0.010 -2.750  0.006  -0.046  -0.008\n",
       "Q(\"No religion\")            -0.0278    0.008 -3.438  0.001  -0.044  -0.012\n",
       "Q(\"Mixed\")                   0.1137    0.037  3.075  0.002   0.041   0.186\n",
       "Q(\"Muslim\")                  0.0220    0.009  2.348  0.019   0.004   0.041\n",
       "Q(\"Hindu\")                   0.0348    0.011  3.046  0.002   0.012   0.057"
      ]
     },
     "execution_count": 194,
     "metadata": {},
     "output_type": "execute_result"
    }
   ],
   "source": [
    "target = 'f_energy_protein'\n",
    "df_enerfy_fat = get_label_summary(target, selected_cols_best[target])\n",
    "df_enerfy_fat"
   ]
  },
  {
   "cell_type": "code",
   "execution_count": 195,
   "metadata": {},
   "outputs": [
    {
     "data": {
      "image/png": "[encoded data removed]",
      "text/plain": [
       "<Figure size 504x360 with 1 Axes>"
      ]
     },
     "metadata": {
      "needs_background": "light"
     },
     "output_type": "display_data"
    }
   ],
   "source": [
    "selected_cols_very_best[target] = [actual_name(col) for col in list(df_enerfy_fat.index) if col != 'Intercept']\n",
    "r2_estimators[target], r2_lower_CIs[target], r2_upper_CIs[target] = get_R2_for_representativenesses(target, \n",
    "                                                                                                    selected_cols_very_best[target], \n",
    "                                                                                                    repres_vals)\n",
    "#plot for f_energy_fat\n",
    "fog, ax = plt.subplots(1,1)\n",
    "ax.errorbar(repres_vals, r2_estimators[target], \n",
    "             yerr = [r2_estimators[target] - r2_lower_CIs[target], - r2_estimators[target] + r2_upper_CIs[target]], \n",
    "             capsize= 3)\n",
    "ax.set_xlabel('Fraction')\n",
    "ax.set_ylabel('R2_score')\n",
    "ax.set_title(f'R^2 vs fraction with top representativeness:')\n",
    "plt.show()"
   ]
  },
  {
   "cell_type": "markdown",
   "metadata": {},
   "source": [
    "# Linear model for f_energy_carb"
   ]
  },
  {
   "cell_type": "code",
   "execution_count": 196,
   "metadata": {},
   "outputs": [
    {
     "data": {
      "text/html": [
       "<div>\n",
       "<style scoped>\n",
       "    .dataframe tbody tr th:only-of-type {\n",
       "        vertical-align: middle;\n",
       "    }\n",
       "\n",
       "    .dataframe tbody tr th {\n",
       "        vertical-align: top;\n",
       "    }\n",
       "\n",
       "    .dataframe thead th {\n",
       "        text-align: right;\n",
       "    }\n",
       "</style>\n",
       "<table border=\"1\" class=\"dataframe\">\n",
       "  <thead>\n",
       "    <tr style=\"text-align: right;\">\n",
       "      <th></th>\n",
       "      <th>coef</th>\n",
       "      <th>std err</th>\n",
       "      <th>t</th>\n",
       "      <th>P&gt;|t|</th>\n",
       "      <th>[0.025</th>\n",
       "      <th>0.975]</th>\n",
       "    </tr>\n",
       "  </thead>\n",
       "  <tbody>\n",
       "    <tr>\n",
       "      <th>Intercept</th>\n",
       "      <td>0.3990</td>\n",
       "      <td>0.012</td>\n",
       "      <td>34.298</td>\n",
       "      <td>0.000</td>\n",
       "      <td>0.376</td>\n",
       "      <td>0.422</td>\n",
       "    </tr>\n",
       "    <tr>\n",
       "      <th>Q(\"Level 2 qualifications\")</th>\n",
       "      <td>0.2072</td>\n",
       "      <td>0.056</td>\n",
       "      <td>3.712</td>\n",
       "      <td>0.000</td>\n",
       "      <td>0.097</td>\n",
       "      <td>0.317</td>\n",
       "    </tr>\n",
       "    <tr>\n",
       "      <th>Q(\"White\")</th>\n",
       "      <td>-0.0732</td>\n",
       "      <td>0.012</td>\n",
       "      <td>-6.272</td>\n",
       "      <td>0.000</td>\n",
       "      <td>-0.096</td>\n",
       "      <td>-0.050</td>\n",
       "    </tr>\n",
       "    <tr>\n",
       "      <th>Q(\"Mixed\")</th>\n",
       "      <td>-0.3069</td>\n",
       "      <td>0.068</td>\n",
       "      <td>-4.543</td>\n",
       "      <td>0.000</td>\n",
       "      <td>-0.440</td>\n",
       "      <td>-0.174</td>\n",
       "    </tr>\n",
       "    <tr>\n",
       "      <th>Q(\"Born in UK\")</th>\n",
       "      <td>0.0447</td>\n",
       "      <td>0.012</td>\n",
       "      <td>3.803</td>\n",
       "      <td>0.000</td>\n",
       "      <td>0.022</td>\n",
       "      <td>0.068</td>\n",
       "    </tr>\n",
       "    <tr>\n",
       "      <th>Q(\"Sikh\")</th>\n",
       "      <td>-0.0453</td>\n",
       "      <td>0.014</td>\n",
       "      <td>-3.320</td>\n",
       "      <td>0.001</td>\n",
       "      <td>-0.072</td>\n",
       "      <td>-0.018</td>\n",
       "    </tr>\n",
       "  </tbody>\n",
       "</table>\n",
       "</div>"
      ],
      "text/plain": [
       "                               coef  std err       t  P>|t|  [0.025  0.975]\n",
       "Intercept                    0.3990    0.012  34.298  0.000   0.376   0.422\n",
       "Q(\"Level 2 qualifications\")  0.2072    0.056   3.712  0.000   0.097   0.317\n",
       "Q(\"White\")                  -0.0732    0.012  -6.272  0.000  -0.096  -0.050\n",
       "Q(\"Mixed\")                  -0.3069    0.068  -4.543  0.000  -0.440  -0.174\n",
       "Q(\"Born in UK\")              0.0447    0.012   3.803  0.000   0.022   0.068\n",
       "Q(\"Sikh\")                   -0.0453    0.014  -3.320  0.001  -0.072  -0.018"
      ]
     },
     "execution_count": 196,
     "metadata": {},
     "output_type": "execute_result"
    }
   ],
   "source": [
    "target = 'f_energy_carb'\n",
    "df_enerfy_fat = get_label_summary(target, selected_cols_best[target])\n",
    "df_enerfy_fat"
   ]
  },
  {
   "cell_type": "code",
   "execution_count": 197,
   "metadata": {},
   "outputs": [
    {
     "data": {
      "image/png": "[encoded data removed]",
      "text/plain": [
       "<Figure size 504x360 with 1 Axes>"
      ]
     },
     "metadata": {
      "needs_background": "light"
     },
     "output_type": "display_data"
    }
   ],
   "source": [
    "selected_cols_very_best[target] = [actual_name(col) for col in list(df_enerfy_fat.index) if col != 'Intercept']\n",
    "r2_estimators[target], r2_lower_CIs[target], r2_upper_CIs[target] = get_R2_for_representativenesses(target, \n",
    "                                                                                                    selected_cols_very_best[target], \n",
    "                                                                                                    repres_vals)\n",
    "#plot for f_energy_fat\n",
    "fog, ax = plt.subplots(1,1)\n",
    "ax.errorbar(repres_vals, r2_estimators[target], \n",
    "             yerr = [r2_estimators[target] - r2_lower_CIs[target], - r2_estimators[target] + r2_upper_CIs[target]], \n",
    "             capsize= 3)\n",
    "ax.set_xlabel('Fraction')\n",
    "ax.set_ylabel('R2_score')\n",
    "ax.set_title(f'R^2 vs fraction with top representativeness:')\n",
    "plt.show()"
   ]
  },
  {
   "cell_type": "markdown",
   "metadata": {},
   "source": [
    "# Linear model for f_energy_fibre"
   ]
  },
  {
   "cell_type": "code",
   "execution_count": 198,
   "metadata": {},
   "outputs": [
    {
     "data": {
      "text/html": [
       "<div>\n",
       "<style scoped>\n",
       "    .dataframe tbody tr th:only-of-type {\n",
       "        vertical-align: middle;\n",
       "    }\n",
       "\n",
       "    .dataframe tbody tr th {\n",
       "        vertical-align: top;\n",
       "    }\n",
       "\n",
       "    .dataframe thead th {\n",
       "        text-align: right;\n",
       "    }\n",
       "</style>\n",
       "<table border=\"1\" class=\"dataframe\">\n",
       "  <thead>\n",
       "    <tr style=\"text-align: right;\">\n",
       "      <th></th>\n",
       "      <th>coef</th>\n",
       "      <th>std err</th>\n",
       "      <th>t</th>\n",
       "      <th>P&gt;|t|</th>\n",
       "      <th>[0.025</th>\n",
       "      <th>0.975]</th>\n",
       "    </tr>\n",
       "  </thead>\n",
       "  <tbody>\n",
       "    <tr>\n",
       "      <th>Intercept</th>\n",
       "      <td>0.0178</td>\n",
       "      <td>0.001</td>\n",
       "      <td>32.477</td>\n",
       "      <td>0.000</td>\n",
       "      <td>0.017000</td>\n",
       "      <td>0.019</td>\n",
       "    </tr>\n",
       "    <tr>\n",
       "      <th>Q(\"No qualifications\")</th>\n",
       "      <td>-0.0061</td>\n",
       "      <td>0.002</td>\n",
       "      <td>-3.731</td>\n",
       "      <td>0.000</td>\n",
       "      <td>-0.009000</td>\n",
       "      <td>-0.003</td>\n",
       "    </tr>\n",
       "    <tr>\n",
       "      <th>Q(\"Jewish\")</th>\n",
       "      <td>0.0062</td>\n",
       "      <td>0.001</td>\n",
       "      <td>7.829</td>\n",
       "      <td>0.000</td>\n",
       "      <td>0.005000</td>\n",
       "      <td>0.008</td>\n",
       "    </tr>\n",
       "    <tr>\n",
       "      <th>Q(\"White\")</th>\n",
       "      <td>0.0009</td>\n",
       "      <td>0.000</td>\n",
       "      <td>2.133</td>\n",
       "      <td>0.034</td>\n",
       "      <td>0.000071</td>\n",
       "      <td>0.002</td>\n",
       "    </tr>\n",
       "    <tr>\n",
       "      <th>Q(\"Sikh\")</th>\n",
       "      <td>0.0060</td>\n",
       "      <td>0.001</td>\n",
       "      <td>6.940</td>\n",
       "      <td>0.000</td>\n",
       "      <td>0.004000</td>\n",
       "      <td>0.008</td>\n",
       "    </tr>\n",
       "    <tr>\n",
       "      <th>Q(\"Level 1 qualifications\")</th>\n",
       "      <td>-0.0144</td>\n",
       "      <td>0.003</td>\n",
       "      <td>-4.954</td>\n",
       "      <td>0.000</td>\n",
       "      <td>-0.020000</td>\n",
       "      <td>-0.009</td>\n",
       "    </tr>\n",
       "    <tr>\n",
       "      <th>Q(\"Asian or Asian British\")</th>\n",
       "      <td>-0.0022</td>\n",
       "      <td>0.001</td>\n",
       "      <td>-3.547</td>\n",
       "      <td>0.000</td>\n",
       "      <td>-0.003000</td>\n",
       "      <td>-0.001</td>\n",
       "    </tr>\n",
       "    <tr>\n",
       "      <th>Q(\"Buddhist\")</th>\n",
       "      <td>0.0170</td>\n",
       "      <td>0.007</td>\n",
       "      <td>2.509</td>\n",
       "      <td>0.013</td>\n",
       "      <td>0.004000</td>\n",
       "      <td>0.030</td>\n",
       "    </tr>\n",
       "  </tbody>\n",
       "</table>\n",
       "</div>"
      ],
      "text/plain": [
       "                               coef  std err       t  P>|t|    [0.025  0.975]\n",
       "Intercept                    0.0178    0.001  32.477  0.000  0.017000   0.019\n",
       "Q(\"No qualifications\")      -0.0061    0.002  -3.731  0.000 -0.009000  -0.003\n",
       "Q(\"Jewish\")                  0.0062    0.001   7.829  0.000  0.005000   0.008\n",
       "Q(\"White\")                   0.0009    0.000   2.133  0.034  0.000071   0.002\n",
       "Q(\"Sikh\")                    0.0060    0.001   6.940  0.000  0.004000   0.008\n",
       "Q(\"Level 1 qualifications\") -0.0144    0.003  -4.954  0.000 -0.020000  -0.009\n",
       "Q(\"Asian or Asian British\") -0.0022    0.001  -3.547  0.000 -0.003000  -0.001\n",
       "Q(\"Buddhist\")                0.0170    0.007   2.509  0.013  0.004000   0.030"
      ]
     },
     "execution_count": 198,
     "metadata": {},
     "output_type": "execute_result"
    }
   ],
   "source": [
    "target = 'f_energy_fibre'\n",
    "df_enerfy_fat = get_label_summary(target, selected_cols_best[target])\n",
    "df_enerfy_fat"
   ]
  },
  {
   "cell_type": "code",
   "execution_count": 131,
   "metadata": {},
   "outputs": [
    {
     "data": {
      "image/png": "[encoded data removed]",
      "text/plain": [
       "<Figure size 504x360 with 1 Axes>"
      ]
     },
     "metadata": {
      "needs_background": "light"
     },
     "output_type": "display_data"
    }
   ],
   "source": [
    "selected_cols_very_best[target] = [actual_name(col) for col in list(df_enerfy_fat.index) if col != 'Intercept']\n",
    "r2_estimators[target], r2_lower_CIs[target], r2_upper_CIs[target] = get_R2_for_representativenesses(target, \n",
    "                                                                                                    selected_cols_very_best[target], \n",
    "                                                                                                    repres_vals)\n",
    "#plot for f_energy_fat\n",
    "fog, ax = plt.subplots(1,1)\n",
    "ax.errorbar(repres_vals, r2_estimators[target], \n",
    "             yerr = [r2_estimators[target] - r2_lower_CIs[target], - r2_estimators[target] + r2_upper_CIs[target]], \n",
    "             capsize= 3)\n",
    "ax.set_xlabel('Fraction')\n",
    "ax.set_ylabel('R2_score')\n",
    "ax.set_title(f'R^2 vs fraction with top representativeness:')\n",
    "plt.show()"
   ]
  },
  {
   "cell_type": "markdown",
   "metadata": {},
   "source": [
    "# Linear model for f_energy_alcohol"
   ]
  },
  {
   "cell_type": "code",
   "execution_count": 132,
   "metadata": {},
   "outputs": [
    {
     "data": {
      "text/html": [
       "<div>\n",
       "<style scoped>\n",
       "    .dataframe tbody tr th:only-of-type {\n",
       "        vertical-align: middle;\n",
       "    }\n",
       "\n",
       "    .dataframe tbody tr th {\n",
       "        vertical-align: top;\n",
       "    }\n",
       "\n",
       "    .dataframe thead th {\n",
       "        text-align: right;\n",
       "    }\n",
       "</style>\n",
       "<table border=\"1\" class=\"dataframe\">\n",
       "  <thead>\n",
       "    <tr style=\"text-align: right;\">\n",
       "      <th></th>\n",
       "      <th>coef</th>\n",
       "      <th>std err</th>\n",
       "      <th>t</th>\n",
       "      <th>P&gt;|t|</th>\n",
       "      <th>[0.025</th>\n",
       "      <th>0.975]</th>\n",
       "    </tr>\n",
       "  </thead>\n",
       "  <tbody>\n",
       "    <tr>\n",
       "      <th>Q(\"Level &gt;=4 qualifications\")</th>\n",
       "      <td>0.0094</td>\n",
       "      <td>0.001</td>\n",
       "      <td>9.665</td>\n",
       "      <td>0.000</td>\n",
       "      <td>0.008</td>\n",
       "      <td>0.011</td>\n",
       "    </tr>\n",
       "    <tr>\n",
       "      <th>Q(\"Asian or Asian British\")</th>\n",
       "      <td>0.0072</td>\n",
       "      <td>0.002</td>\n",
       "      <td>2.902</td>\n",
       "      <td>0.004</td>\n",
       "      <td>0.002</td>\n",
       "      <td>0.012</td>\n",
       "    </tr>\n",
       "    <tr>\n",
       "      <th>Q(\"Muslim\")</th>\n",
       "      <td>-0.0059</td>\n",
       "      <td>0.002</td>\n",
       "      <td>-3.126</td>\n",
       "      <td>0.002</td>\n",
       "      <td>-0.010</td>\n",
       "      <td>-0.002</td>\n",
       "    </tr>\n",
       "    <tr>\n",
       "      <th>Q(\"IOD AVG\")</th>\n",
       "      <td>0.0005</td>\n",
       "      <td>0.000</td>\n",
       "      <td>3.072</td>\n",
       "      <td>0.002</td>\n",
       "      <td>0.000</td>\n",
       "      <td>0.001</td>\n",
       "    </tr>\n",
       "    <tr>\n",
       "      <th>Q(\"Mixed\")</th>\n",
       "      <td>0.0406</td>\n",
       "      <td>0.012</td>\n",
       "      <td>3.265</td>\n",
       "      <td>0.001</td>\n",
       "      <td>0.016</td>\n",
       "      <td>0.065</td>\n",
       "    </tr>\n",
       "    <tr>\n",
       "      <th>Q(\"White\")</th>\n",
       "      <td>0.0057</td>\n",
       "      <td>0.002</td>\n",
       "      <td>2.790</td>\n",
       "      <td>0.006</td>\n",
       "      <td>0.002</td>\n",
       "      <td>0.010</td>\n",
       "    </tr>\n",
       "    <tr>\n",
       "      <th>Q(\"Christian\")</th>\n",
       "      <td>0.0045</td>\n",
       "      <td>0.002</td>\n",
       "      <td>2.822</td>\n",
       "      <td>0.005</td>\n",
       "      <td>0.001</td>\n",
       "      <td>0.008</td>\n",
       "    </tr>\n",
       "  </tbody>\n",
       "</table>\n",
       "</div>"
      ],
      "text/plain": [
       "                                 coef  std err      t  P>|t|  [0.025  0.975]\n",
       "Q(\"Level >=4 qualifications\")  0.0094    0.001  9.665  0.000   0.008   0.011\n",
       "Q(\"Asian or Asian British\")    0.0072    0.002  2.902  0.004   0.002   0.012\n",
       "Q(\"Muslim\")                   -0.0059    0.002 -3.126  0.002  -0.010  -0.002\n",
       "Q(\"IOD AVG\")                   0.0005    0.000  3.072  0.002   0.000   0.001\n",
       "Q(\"Mixed\")                     0.0406    0.012  3.265  0.001   0.016   0.065\n",
       "Q(\"White\")                     0.0057    0.002  2.790  0.006   0.002   0.010\n",
       "Q(\"Christian\")                 0.0045    0.002  2.822  0.005   0.001   0.008"
      ]
     },
     "execution_count": 132,
     "metadata": {},
     "output_type": "execute_result"
    }
   ],
   "source": [
    "target = 'f_energy_alcohol'\n",
    "df_enerfy_fat = get_label_summary(target, selected_cols_best[target])\n",
    "df_enerfy_fat"
   ]
  },
  {
   "cell_type": "code",
   "execution_count": 134,
   "metadata": {
    "scrolled": false
   },
   "outputs": [
    {
     "data": {
      "image/png": "[encoded data removed]",
      "text/plain": [
       "<Figure size 504x360 with 1 Axes>"
      ]
     },
     "metadata": {
      "needs_background": "light"
     },
     "output_type": "display_data"
    }
   ],
   "source": [
    "selected_cols_very_best[target] = [actual_name(col) for col in list(df_enerfy_fat.index) if col != 'Intercept']\n",
    "r2_estimators[target], r2_lower_CIs[target], r2_upper_CIs[target] = get_R2_for_representativenesses(target, \n",
    "                                                                                                    selected_cols_very_best[target], \n",
    "                                                                                                    repres_vals)\n",
    "#plot for f_energy_fat\n",
    "fog, ax = plt.subplots(1,1)\n",
    "ax.errorbar(repres_vals, r2_estimators[target], \n",
    "             yerr = [r2_estimators[target] - r2_lower_CIs[target], - r2_estimators[target] + r2_upper_CIs[target]], \n",
    "             capsize= 3)\n",
    "ax.set_xlabel('Fraction')\n",
    "ax.set_ylabel('R2_score')\n",
    "ax.set_title(f'R^2 vs fraction with top representativeness:')\n",
    "plt.show()"
   ]
  },
  {
   "cell_type": "markdown",
   "metadata": {},
   "source": [
    "# Linear model for energy_tot"
   ]
  },
  {
   "cell_type": "code",
   "execution_count": 176,
   "metadata": {},
   "outputs": [
    {
     "data": {
      "text/html": [
       "<div>\n",
       "<style scoped>\n",
       "    .dataframe tbody tr th:only-of-type {\n",
       "        vertical-align: middle;\n",
       "    }\n",
       "\n",
       "    .dataframe tbody tr th {\n",
       "        vertical-align: top;\n",
       "    }\n",
       "\n",
       "    .dataframe thead th {\n",
       "        text-align: right;\n",
       "    }\n",
       "</style>\n",
       "<table border=\"1\" class=\"dataframe\">\n",
       "  <thead>\n",
       "    <tr style=\"text-align: right;\">\n",
       "      <th></th>\n",
       "      <th>coef</th>\n",
       "      <th>std err</th>\n",
       "      <th>t</th>\n",
       "      <th>P&gt;|t|</th>\n",
       "      <th>[0.025</th>\n",
       "      <th>0.975]</th>\n",
       "    </tr>\n",
       "  </thead>\n",
       "  <tbody>\n",
       "    <tr>\n",
       "      <th>Intercept</th>\n",
       "      <td>149.2673</td>\n",
       "      <td>13.656</td>\n",
       "      <td>10.931</td>\n",
       "      <td>0.000</td>\n",
       "      <td>122.418</td>\n",
       "      <td>176.117</td>\n",
       "    </tr>\n",
       "    <tr>\n",
       "      <th>Q(\"Jewish\")</th>\n",
       "      <td>-45.1398</td>\n",
       "      <td>6.296</td>\n",
       "      <td>-7.170</td>\n",
       "      <td>0.000</td>\n",
       "      <td>-57.518</td>\n",
       "      <td>-32.762</td>\n",
       "    </tr>\n",
       "    <tr>\n",
       "      <th>Q(\"Mixed\")</th>\n",
       "      <td>-126.7347</td>\n",
       "      <td>27.057</td>\n",
       "      <td>-4.684</td>\n",
       "      <td>0.000</td>\n",
       "      <td>-179.933</td>\n",
       "      <td>-73.536</td>\n",
       "    </tr>\n",
       "    <tr>\n",
       "      <th>Q(\"Born in UK\")</th>\n",
       "      <td>17.0488</td>\n",
       "      <td>4.769</td>\n",
       "      <td>3.575</td>\n",
       "      <td>0.000</td>\n",
       "      <td>7.673</td>\n",
       "      <td>26.425</td>\n",
       "    </tr>\n",
       "    <tr>\n",
       "      <th>Q(\"Muslim\")</th>\n",
       "      <td>13.1911</td>\n",
       "      <td>5.356</td>\n",
       "      <td>2.463</td>\n",
       "      <td>0.014</td>\n",
       "      <td>2.660</td>\n",
       "      <td>23.722</td>\n",
       "    </tr>\n",
       "  </tbody>\n",
       "</table>\n",
       "</div>"
      ],
      "text/plain": [
       "                     coef  std err       t  P>|t|   [0.025   0.975]\n",
       "Intercept        149.2673   13.656  10.931  0.000  122.418  176.117\n",
       "Q(\"Jewish\")      -45.1398    6.296  -7.170  0.000  -57.518  -32.762\n",
       "Q(\"Mixed\")      -126.7347   27.057  -4.684  0.000 -179.933  -73.536\n",
       "Q(\"Born in UK\")   17.0488    4.769   3.575  0.000    7.673   26.425\n",
       "Q(\"Muslim\")       13.1911    5.356   2.463  0.014    2.660   23.722"
      ]
     },
     "execution_count": 176,
     "metadata": {},
     "output_type": "execute_result"
    }
   ],
   "source": [
    "target = 'energy_tot'\n",
    "df_enerfy_fat = get_label_summary(target, selected_cols_best[target])\n",
    "df_enerfy_fat"
   ]
  },
  {
   "cell_type": "code",
   "execution_count": 178,
   "metadata": {},
   "outputs": [
    {
     "data": {
      "image/png": "[encoded data removed]",
      "text/plain": [
       "<Figure size 504x360 with 1 Axes>"
      ]
     },
     "metadata": {
      "needs_background": "light"
     },
     "output_type": "display_data"
    }
   ],
   "source": [
    "selected_cols_very_best[target] = [actual_name(col) for col in list(df_enerfy_fat.index) if col != 'Intercept']\n",
    "r2_estimators[target], r2_lower_CIs[target], r2_upper_CIs[target] = get_R2_for_representativenesses(target, \n",
    "                                                                                                    selected_cols_very_best[target], \n",
    "                                                                                                    repres_vals)\n",
    "#plot for f_energy_fat\n",
    "fog, ax = plt.subplots(1,1)\n",
    "ax.errorbar(repres_vals, r2_estimators[target], \n",
    "             yerr = [r2_estimators[target] - r2_lower_CIs[target], - r2_estimators[target] + r2_upper_CIs[target]], \n",
    "             capsize= 3)\n",
    "ax.set_xlabel('Fraction')\n",
    "ax.set_ylabel('R2_score')\n",
    "ax.set_title(f'R^2 vs fraction with top representativeness:')\n",
    "plt.show()"
   ]
  },
  {
   "cell_type": "markdown",
   "metadata": {},
   "source": [
    "# Linear models for all"
   ]
  },
  {
   "cell_type": "code",
   "execution_count": 179,
   "metadata": {},
   "outputs": [
    {
     "data": {
      "image/png": "[encoded data removed]",
      "text/plain": [
       "<Figure size 504x360 with 1 Axes>"
      ]
     },
     "metadata": {
      "needs_background": "light"
     },
     "output_type": "display_data"
    }
   ],
   "source": [
    "fog, ax = plt.subplots(1,1)\n",
    "for nutrient in r2_estimators.keys():\n",
    "    ax.plot(repres_vals, r2_estimators[nutrient], label=nutrient)\n",
    "ax.set_xlabel('Fraction')\n",
    "ax.set_ylabel('R2_score')\n",
    "ax.set_title(f'R^2 vs fraction with top representativeness for all nutrients')\n",
    "ax.legend()\n",
    "plt.show()"
   ]
  },
  {
   "cell_type": "markdown",
   "metadata": {},
   "source": [
    "From the plot we see that R^2 do not generally improves as we take areas with top representativeness. Only for F_energy protein it is clearly the case."
   ]
  },
  {
   "cell_type": "markdown",
   "metadata": {},
   "source": [
    "# Neural Network for predicting all at once"
   ]
  },
  {
   "cell_type": "code",
   "execution_count": 162,
   "metadata": {},
   "outputs": [],
   "source": [
    "import tensorflow as tf\n",
    "from tensorflow.keras import Model, Sequential\n",
    "from tensorflow.keras.layers import Dense, Input\n",
    "from tensorflow.keras.losses import KLDivergence\n",
    "from sklearn.model_selection import train_test_split\n",
    "from sklearn.metrics import r2_score"
   ]
  },
  {
   "cell_type": "code",
   "execution_count": 199,
   "metadata": {},
   "outputs": [
    {
     "data": {
      "text/plain": [
       "False"
      ]
     },
     "execution_count": 199,
     "metadata": {},
     "output_type": "execute_result"
    }
   ],
   "source": [
    "#columns to be predicted simultaniously\n",
    "target_cols = ['f_energy_fat', 'f_energy_protein', 'f_energy_carb', 'f_energy_fibre', 'f_energy_alcohol']\n",
    "#check that the sum of target_cols is always equal to 1, with error not more than\n",
    "any(np.abs(df_ward_atlas[target_cols].sum(axis=1) - 1 > 0.01))"
   ]
  },
  {
   "cell_type": "code",
   "execution_count": 156,
   "metadata": {},
   "outputs": [],
   "source": [
    "#building simple neural network consisting of 1 Dense layer with 5 outputs \n",
    "#and softmax activation, to ensure that outputs are non-negative and sum up to 1\n",
    "#since we are predicting distribution, KLDivergence loss function is chosen\n",
    "model = Sequential()\n",
    "model.add(Input(shape=(30,)))\n",
    "model.add(Dense(5, activation='softmax'))\n",
    "model.compile(optimizer='sgd', \n",
    "              loss=KLDivergence(), \n",
    "              metrics=['mean_absolute_error'])"
   ]
  },
  {
   "cell_type": "code",
   "execution_count": 157,
   "metadata": {},
   "outputs": [],
   "source": [
    "#extracting data\n",
    "x_data = df_ward_atlas[all_features]\n",
    "y_data = df_ward_atlas[target_cols]\n",
    "x_train, x_test, y_train, y_test = train_test_split(x_data, y_data, test_size = 0.2)"
   ]
  },
  {
   "cell_type": "code",
   "execution_count": 158,
   "metadata": {},
   "outputs": [
    {
     "name": "stdout",
     "output_type": "stream",
     "text": [
      "WARNING:tensorflow:Falling back from v2 loop because of error: Failed to find data adapter that can handle input: <class 'pandas.core.frame.DataFrame'>, <class 'NoneType'>\n"
     ]
    }
   ],
   "source": [
    "#training model\n",
    "history = model.fit(x_train, y_train, epochs=500, verbose=0)"
   ]
  },
  {
   "cell_type": "code",
   "execution_count": 174,
   "metadata": {},
   "outputs": [
    {
     "name": "stdout",
     "output_type": "stream",
     "text": [
      "R2 score of neural network for predicting each nutrient:\n",
      "f_energy_fat: -4.9\n",
      "f_energy_protein: -2.4\n",
      "f_energy_carb: -0.6\n",
      "f_energy_fibre: -2.7e+01\n",
      "f_energy_alcohol: -1.8\n"
     ]
    }
   ],
   "source": [
    "nn_preds = model.predict(x_test)\n",
    "print('R2 score of neural network for predicting each nutrient:')\n",
    "for i, target in enumerate(target_cols):\n",
    "    r2_nn = r2_score(y_test[target], nn_preds[:,i])\n",
    "    print(f'{target}: {r2_nn:.2}')"
   ]
  },
  {
   "cell_type": "markdown",
   "metadata": {},
   "source": [
    "We see that neural network, when tries to predict all nutrients simultaniously, performs poorly for each individual nutrient prediction"
   ]
  }
 ],
 "metadata": {
  "kernelspec": {
   "display_name": "Python 3",
   "language": "python",
   "name": "python3"
  },
  "language_info": {
   "codemirror_mode": {
    "name": "ipython",
    "version": 3
   },
   "file_extension": ".py",
   "mimetype": "text/x-python",
   "name": "python",
   "nbconvert_exporter": "python",
   "pygments_lexer": "ipython3",
   "version": "3.7.9"
  }
 },
 "nbformat": 4,
 "nbformat_minor": 4
}
